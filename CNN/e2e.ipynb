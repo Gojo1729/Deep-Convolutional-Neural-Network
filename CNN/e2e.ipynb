{
 "cells": [
  {
   "cell_type": "code",
   "execution_count": 305,
   "metadata": {},
   "outputs": [
    {
     "name": "stdout",
     "output_type": "stream",
     "text": [
      "The autoreload extension is already loaded. To reload it, use:\n",
      "  %reload_ext autoreload\n"
     ]
    }
   ],
   "source": [
    "%load_ext autoreload\n",
    "\n",
    "%autoreload 2"
   ]
  },
  {
   "cell_type": "markdown",
   "metadata": {},
   "source": [
    "# New data"
   ]
  },
  {
   "cell_type": "markdown",
   "metadata": {},
   "source": [
    "- preprocess the new data\n",
    "- train it on just DNN\n",
    "- then on CNN\n",
    "- setup tensorboard for experiment tracking"
   ]
  },
  {
   "cell_type": "markdown",
   "metadata": {},
   "source": [
    "# Preprocessing"
   ]
  },
  {
   "cell_type": "code",
   "execution_count": 306,
   "metadata": {},
   "outputs": [],
   "source": [
    "import sklearn\n",
    "import glob\n",
    "import pandas as pd\n",
    "import seaborn as sns\n",
    "import matplotlib.pyplot as plt\n",
    "import numpy as np\n",
    "import cv2\n",
    "import math\n",
    "import utils"
   ]
  },
  {
   "cell_type": "markdown",
   "metadata": {},
   "source": [
    "# Loading the saved model"
   ]
  },
  {
   "cell_type": "code",
   "execution_count": 307,
   "metadata": {},
   "outputs": [],
   "source": [
    "loaded_sequential = utils.load_model(\"./models/deep_1_20231207123539.pkl\")"
   ]
  },
  {
   "cell_type": "code",
   "execution_count": 308,
   "metadata": {},
   "outputs": [],
   "source": [
    "labels_map = {'0': 0,\n",
    " '1': 1,\n",
    " '2': 2,\n",
    " '3': 3,\n",
    " '4': 4,\n",
    " '5': 5,\n",
    " '6': 6,\n",
    " '7': 7,\n",
    " '8': 8,\n",
    " '9': 9,\n",
    " '+': 10,\n",
    " '-': 11,\n",
    " 'div': 12,\n",
    " 'rightarrow': 13,\n",
    " 'times': 14,\n",
    " 'u': 15,\n",
    " 'v': 16,\n",
    " 'w': 17,\n",
    " 'y': 18,\n",
    " 'z': 19}"
   ]
  },
  {
   "cell_type": "code",
   "execution_count": 309,
   "metadata": {},
   "outputs": [],
   "source": [
    "target_names = list(labels_map.keys())"
   ]
  },
  {
   "cell_type": "code",
   "execution_count": 310,
   "metadata": {},
   "outputs": [
    {
     "data": {
      "text/plain": [
       "['0',\n",
       " '1',\n",
       " '2',\n",
       " '3',\n",
       " '4',\n",
       " '5',\n",
       " '6',\n",
       " '7',\n",
       " '8',\n",
       " '9',\n",
       " '+',\n",
       " '-',\n",
       " 'div',\n",
       " 'rightarrow',\n",
       " 'times',\n",
       " 'u',\n",
       " 'v',\n",
       " 'w',\n",
       " 'y',\n",
       " 'z']"
      ]
     },
     "execution_count": 310,
     "metadata": {},
     "output_type": "execute_result"
    }
   ],
   "source": [
    "target_names"
   ]
  },
  {
   "cell_type": "code",
   "execution_count": 311,
   "metadata": {},
   "outputs": [],
   "source": [
    "def preprocess(img_path):\n",
    "    img = cv2.imread(img_path)\n",
    "    img = cv2.cvtColor(img, cv2.COLOR_BGR2GRAY)\n",
    "    img = cv2.GaussianBlur(img, (5,5), 0)\n",
    "    img = cv2.threshold(img, 0, 255, cv2.THRESH_BINARY_INV | cv2.THRESH_OTSU)[1]\n",
    "    return img"
   ]
  },
  {
   "cell_type": "code",
   "execution_count": 312,
   "metadata": {},
   "outputs": [],
   "source": [
    "img = preprocess(\"./equations/five.png\")"
   ]
  },
  {
   "cell_type": "code",
   "execution_count": 313,
   "metadata": {},
   "outputs": [
    {
     "data": {
      "text/plain": [
       "(303, 367)"
      ]
     },
     "execution_count": 313,
     "metadata": {},
     "output_type": "execute_result"
    }
   ],
   "source": [
    "img.shape"
   ]
  },
  {
   "cell_type": "code",
   "execution_count": 314,
   "metadata": {},
   "outputs": [
    {
     "data": {
      "text/plain": [
       "<matplotlib.image.AxesImage at 0x250bcef7bd0>"
      ]
     },
     "execution_count": 314,
     "metadata": {},
     "output_type": "execute_result"
    },
    {
     "data": {
      "image/png": "[encoded data removed]",
      "text/plain": [
       "<Figure size 640x480 with 1 Axes>"
      ]
     },
     "metadata": {},
     "output_type": "display_data"
    }
   ],
   "source": [
    "plt.imshow(img)"
   ]
  },
  {
   "cell_type": "code",
   "execution_count": 315,
   "metadata": {},
   "outputs": [
    {
     "data": {
      "text/plain": [
       "(303, 367)"
      ]
     },
     "execution_count": 315,
     "metadata": {},
     "output_type": "execute_result"
    }
   ],
   "source": [
    "img.shape"
   ]
  },
  {
   "cell_type": "code",
   "execution_count": 316,
   "metadata": {},
   "outputs": [],
   "source": [
    "def sort_contours(cnts, method=\"left-to-right\"):\n",
    "\t# initialize the reverse flag and sort index\n",
    "\treverse = False\n",
    "\ti = 0\n",
    "\t# handle if we need to sort in reverse\n",
    "\tif method == \"right-to-left\" or method == \"bottom-to-top\":\n",
    "\t\treverse = True\n",
    "\t# handle if we are sorting against the y-coordinate rather than\n",
    "\t# the x-coordinate of the bounding box\n",
    "\tif method == \"top-to-bottom\" or method == \"bottom-to-top\":\n",
    "\t\ti = 1\n",
    "\t# construct the list of bounding boxes and sort them from top to\n",
    "\t# bottom\n",
    "\tboundingBoxes = [cv2.boundingRect(c) for c in cnts]\n",
    "\t(cnts, boundingBoxes) = zip(*sorted(zip(cnts, boundingBoxes),\n",
    "\t\tkey=lambda b:b[1][i], reverse=reverse))\n",
    "\t# return the list of sorted contours and bounding boxes\n",
    "\treturn (cnts, boundingBoxes)"
   ]
  },
  {
   "cell_type": "code",
   "execution_count": 317,
   "metadata": {},
   "outputs": [],
   "source": [
    "def boundingBoxes(fileName):\n",
    "    # Read Input image\n",
    "    inputImage = cv2.imread(fileName)\n",
    "    # Deep copy for results\n",
    "    inputImageCopy = inputImage.copy()\n",
    "    # Convert BGR to grayscale\n",
    "    grayscaleImage = cv2.cvtColor(inputImage, cv2.COLOR_BGR2GRAY)\n",
    "    # Threshold via Otsu\n",
    "    threshValue, binaryImage = cv2.threshold(grayscaleImage, 0, 255, cv2.THRESH_BINARY_INV+cv2.THRESH_OTSU)\n",
    "    # Get each bounding box\n",
    "    # Find the big contours/blobs on the filtered image\n",
    "    contours, hierarchy = cv2.findContours(binaryImage, cv2.RETR_EXTERNAL, cv2.CHAIN_APPROX_SIMPLE)\n",
    "    contours,_ = sort_contours(contours)\n",
    "    # contours, _ = sort_contours(contours, \"top-to-bottom\")\n",
    "\n",
    "\n",
    "    # Expand the bounding box size\n",
    "    expansion_value = 10  # Increase this value to expand the bounding boxes more\n",
    "    bounding_boxes = []\n",
    "    # Look for the outer bounding boxes (no children)\n",
    "    for _, c in enumerate(contours):\n",
    "        # Get the bounding rectangle of the current contour\n",
    "        boundRect = cv2.boundingRect(c)\n",
    "        \n",
    "        # Expand bounding box\n",
    "        rectX = max(0, boundRect[0] - expansion_value)\n",
    "        rectY = max(0, boundRect[1] - expansion_value)\n",
    "        rectWidth = min(inputImage.shape[1] - rectX, boundRect[2] + 2 * expansion_value)\n",
    "        rectHeight = min(inputImage.shape[0] - rectY, boundRect[3] + 2 * expansion_value)\n",
    "        \n",
    "        # Draw expanded bounding box\n",
    "        color = (0, 255, 0)\n",
    "        start_X = int(rectX)\n",
    "        end_X = int(start_X + rectWidth)\n",
    "        start_Y = int(rectY)\n",
    "        end_Y = int(start_Y + rectHeight)\n",
    "        contoursImage = inputImageCopy.copy()\n",
    "        bounding_boxes.append(contoursImage[start_Y:end_Y, start_X:end_X])\n",
    "        cv2.rectangle(inputImageCopy, (start_X, start_Y),\n",
    "                    (end_X, end_Y), color, 2)\n",
    "\n",
    "    # Show the image with expanded bounding boxes\n",
    "    bb_image = cv2.cvtColor(inputImageCopy, cv2.COLOR_BGR2RGB)\n",
    "    plt.imshow(bb_image)\n",
    "    return bounding_boxes"
   ]
  },
  {
   "cell_type": "code",
   "execution_count": 318,
   "metadata": {},
   "outputs": [
    {
     "data": {
      "image/png": "[encoded data removed]",
      "text/plain": [
       "<Figure size 640x480 with 1 Axes>"
      ]
     },
     "metadata": {},
     "output_type": "display_data"
    }
   ],
   "source": [
    "folder = \"./equations/\"\n",
    "fileName = f\"{folder}/super-curve.png\"\n",
    "bounding_boxes = boundingBoxes(fileName)"
   ]
  },
  {
   "cell_type": "code",
   "execution_count": 319,
   "metadata": {},
   "outputs": [],
   "source": [
    "def preprocess(img):\n",
    "    # img = cv2.imread(img_path)\n",
    "    img = cv2.cvtColor(img, cv2.COLOR_BGR2GRAY)\n",
    "    img = cv2.GaussianBlur(img, (5,5), 0)\n",
    "    img = cv2.threshold(img, 0, 255, cv2.THRESH_BINARY_INV | cv2.THRESH_OTSU)[1]\n",
    "    img = cv2.resize(img, (55, 55), cv2.INTER_CUBIC, fx=0.1, fy=0.1)\n",
    "    return img"
   ]
  },
  {
   "cell_type": "code",
   "execution_count": 320,
   "metadata": {},
   "outputs": [],
   "source": [
    "def idtolabel(labels_map, y):\n",
    "    for key, value in labels_map.items():\n",
    "        if y == value:\n",
    "            return key\n",
    "        \n",
    "    return -1\n"
   ]
  },
  {
   "cell_type": "code",
   "execution_count": 321,
   "metadata": {},
   "outputs": [],
   "source": [
    "def predict(model, img):\n",
    "    img = np.expand_dims(img, (0,1))\n",
    "    img = utils.minmax_normalize(img)\n",
    "    print(img.shape, img.max())\n",
    "    logits = model._forward(img)\n",
    "    y_pred = np.argmax(logits, axis=1)\n",
    "    return y_pred\n",
    "    "
   ]
  },
  {
   "cell_type": "code",
   "execution_count": 322,
   "metadata": {},
   "outputs": [],
   "source": [
    "\n",
    "def get_symbols(model, bounding_boxes):\n",
    "    equation_string = []\n",
    "    for bb in bounding_boxes:\n",
    "        preprocessed_img = preprocess(bb)\n",
    "        max_index = predict(model, preprocessed_img)\n",
    "        labels = labels = {'0': 0,\n",
    "        '1': 1,\n",
    "        '2': 2,\n",
    "        '3': 3,\n",
    "        '4': 4,\n",
    "        '5': 5,\n",
    "        '6': 6,\n",
    "        '7': 7,\n",
    "        '8': 8,\n",
    "        '9': 9,\n",
    "        'div': 10,\n",
    "        'rightarrow': 11,\n",
    "        'times': 12,\n",
    "        'u': 13,\n",
    "        'v': 14,\n",
    "        'w': 15,\n",
    "        'y': 16,\n",
    "        'z': 17,\n",
    "        '+': 18,\n",
    "        '-': 19}\n",
    "        predicted_class = idtolabel(labels, max_index)\n",
    "        print(max_index)\n",
    "        equation_string.append(predicted_class)\n",
    "\n",
    "    return equation_string\n",
    "\n"
   ]
  },
  {
   "cell_type": "code",
   "execution_count": null,
   "metadata": {},
   "outputs": [],
   "source": []
  },
  {
   "cell_type": "code",
   "execution_count": 323,
   "metadata": {},
   "outputs": [
    {
     "name": "stdout",
     "output_type": "stream",
     "text": [
      "(1, 1, 55, 55) 1.0\n",
      "[2]\n",
      "(1, 1, 55, 55) 1.0\n",
      "[12]\n",
      "(1, 1, 55, 55) 1.0\n",
      "[1]\n",
      "['2', 'times', '1']\n"
     ]
    }
   ],
   "source": [
    "symbols_list = get_symbols(loaded_sequential, bounding_boxes)\n",
    "print(symbols_list)"
   ]
  },
  {
   "cell_type": "code",
   "execution_count": null,
   "metadata": {},
   "outputs": [],
   "source": [
    "from sympy import symbols, Eq, solve\n",
    "\n",
    "def solve_equation_sympy(expression):\n",
    "    # Create symbolic variables\n",
    "    x = symbols('x')\n",
    "\n",
    "    # Convert the array to a string\n",
    "    equation_string = ' '.join(map(str, expression))\n",
    "    try:\n",
    "        # Create a sympy equation\n",
    "        equation = Eq(eval(equation_string), x)\n",
    "\n",
    "        # Solve the equation\n",
    "        result = solve(equation, x)\n",
    "\n",
    "        return result[0] if result else None\n",
    "    except (SyntaxError, TypeError, ValueError) as e:\n",
    "        print(f\"Error: {e}\")\n",
    "        return None\n",
    "\n",
    "if __name__ == \"__main__\":\n",
    "    # Example equation as an array\n",
    "    equation_array = symbols_list\n",
    "\n",
    "    # Solve the equation using sympy\n",
    "    result = solve_equation_sympy(equation_array)\n",
    "\n",
    "    if result is not None:\n",
    "        print(f\"Result: {result}\")"
   ]
  },
  {
   "cell_type": "code",
   "execution_count": null,
   "metadata": {},
   "outputs": [],
   "source": []
  },
  {
   "cell_type": "code",
   "execution_count": null,
   "metadata": {},
   "outputs": [],
   "source": []
  },
  {
   "cell_type": "code",
   "execution_count": null,
   "metadata": {},
   "outputs": [],
   "source": []
  },
  {
   "cell_type": "code",
   "execution_count": null,
   "metadata": {},
   "outputs": [],
   "source": []
  }
 ],
 "metadata": {
  "kernelspec": {
   "display_name": "pytorchlearning",
   "language": "python",
   "name": "python3"
  },
  "language_info": {
   "codemirror_mode": {
    "name": "ipython",
    "version": 3
   },
   "file_extension": ".py",
   "mimetype": "text/x-python",
   "name": "python",
   "nbconvert_exporter": "python",
   "pygments_lexer": "ipython3",
   "version": "3.11.5"
  }
 },
 "nbformat": 4,
 "nbformat_minor": 2
}
