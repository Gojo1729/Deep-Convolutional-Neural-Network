{
 "cells": [
  {
   "cell_type": "code",
   "execution_count": 1,
   "metadata": {},
   "outputs": [],
   "source": [
    "%load_ext autoreload\n",
    "\n",
    "%autoreload 2"
   ]
  },
  {
   "cell_type": "code",
   "execution_count": 2,
   "metadata": {},
   "outputs": [],
   "source": [
    "# Import Everything\n",
    "import cv2\n",
    "import matplotlib.pyplot as plt\n",
    "import utils\n",
    "import numpy as np\n",
    "# Set image path\n",
    "folder = f\"./equations\""
   ]
  },
  {
   "cell_type": "code",
   "execution_count": 3,
   "metadata": {},
   "outputs": [],
   "source": [
    "def sort_contours(cnts, method=\"left-to-right\"):\n",
    "\t# initialize the reverse flag and sort index\n",
    "\treverse = False\n",
    "\ti = 0\n",
    "\t# handle if we need to sort in reverse\n",
    "\tif method == \"right-to-left\" or method == \"bottom-to-top\":\n",
    "\t\treverse = True\n",
    "\t# handle if we are sorting against the y-coordinate rather than\n",
    "\t# the x-coordinate of the bounding box\n",
    "\tif method == \"top-to-bottom\" or method == \"bottom-to-top\":\n",
    "\t\ti = 1\n",
    "\t# construct the list of bounding boxes and sort them from top to\n",
    "\t# bottom\n",
    "\tboundingBoxes = [cv2.boundingRect(c) for c in cnts]\n",
    "\t(cnts, boundingBoxes) = zip(*sorted(zip(cnts, boundingBoxes),\n",
    "\t\tkey=lambda b:b[1][i], reverse=reverse))\n",
    "\t# return the list of sorted contours and bounding boxes\n",
    "\treturn (cnts, boundingBoxes)"
   ]
  },
  {
   "cell_type": "code",
   "execution_count": 41,
   "metadata": {},
   "outputs": [],
   "source": [
    "def boundingBoxes(fileName):\n",
    "    # Read Input image\n",
    "    inputImage = cv2.imread(fileName)\n",
    "    h,w,_ = inputImage.shape\n",
    "    # inputImage = cv2.resize(inputImage, (w//5, h//5), cv2.INTER_AREA, fx=0.1, fy=0.1)\n",
    "    # Deep copy for results\n",
    "    inputImageCopy = inputImage.copy()\n",
    "    # Convert BGR to grayscale\n",
    "    grayscaleImage = cv2.cvtColor(inputImage, cv2.COLOR_BGR2GRAY)\n",
    "    # Threshold via Otsu\n",
    "    threshValue, binaryImage = cv2.threshold(grayscaleImage, 0, 255, cv2.THRESH_BINARY_INV+cv2.THRESH_OTSU)\n",
    "    # Get each bounding box\n",
    "    # Find the big contours/blobs on the filtered image\n",
    "    contours, hierarchy = cv2.findContours(binaryImage, cv2.RETR_EXTERNAL, cv2.CHAIN_APPROX_SIMPLE)\n",
    "    contours,_ = sort_contours(contours)\n",
    "    # contours, _ = sort_contours(contours, \"top-to-bottom\")\n",
    "\n",
    "\n",
    "    # Expand the bounding box size\n",
    "    expansion_value = 20  # Increase this value to expand the bounding boxes more\n",
    "    bounding_boxes = []\n",
    "    # Look for the outer bounding boxes (no children)\n",
    "    for _, c in enumerate(contours):\n",
    "        # Get the bounding rectangle of the current contour\n",
    "        boundRect = cv2.boundingRect(c)\n",
    "        \n",
    "        # Expand bounding box\n",
    "        rectX = max(0, boundRect[0] - expansion_value)\n",
    "        rectY = max(0, boundRect[1] - expansion_value)\n",
    "        rectWidth = min(inputImage.shape[1] - rectX, boundRect[2] + 2 * expansion_value)\n",
    "        rectHeight = min(inputImage.shape[0] - rectY, boundRect[3] + 2 * expansion_value)\n",
    "        \n",
    "        # Draw expanded bounding box\n",
    "        color = (0, 255, 0)\n",
    "        start_X = int(rectX)\n",
    "        end_X = int(start_X + rectWidth)\n",
    "        start_Y = int(rectY)\n",
    "        end_Y = int(start_Y + rectHeight)\n",
    "        contoursImage = inputImageCopy.copy()\n",
    "        bounding_boxes.append(contoursImage[start_Y:end_Y, start_X:end_X])\n",
    "        cv2.rectangle(inputImageCopy, (start_X, start_Y),\n",
    "                    (end_X, end_Y), color, 2)\n",
    "\n",
    "    # Show the image with expanded bounding boxes\n",
    "    bb_image = cv2.cvtColor(inputImageCopy, cv2.COLOR_BGR2RGB)\n",
    "    plt.imshow(bb_image)\n",
    "    return bounding_boxes"
   ]
  },
  {
   "cell_type": "code",
   "execution_count": 92,
   "metadata": {},
   "outputs": [
    {
     "data": {
      "image/png": "[encoded data removed]",
      "text/plain": [
       "<Figure size 640x480 with 1 Axes>"
      ]
     },
     "metadata": {},
     "output_type": "display_data"
    }
   ],
   "source": [
    "fileName = f\"{folder}/s.png\"\n",
    "bounding_boxes = boundingBoxes(fileName)"
   ]
  },
  {
   "cell_type": "code",
   "execution_count": 82,
   "metadata": {},
   "outputs": [],
   "source": [
    "import utils"
   ]
  },
  {
   "cell_type": "code",
   "execution_count": 83,
   "metadata": {},
   "outputs": [
    {
     "data": {
      "text/plain": [
       "4"
      ]
     },
     "execution_count": 83,
     "metadata": {},
     "output_type": "execute_result"
    }
   ],
   "source": [
    "len(bounding_boxes)"
   ]
  },
  {
   "cell_type": "code",
   "execution_count": 84,
   "metadata": {},
   "outputs": [],
   "source": [
    "from model import Sequential"
   ]
  },
  {
   "cell_type": "code",
   "execution_count": 85,
   "metadata": {},
   "outputs": [],
   "source": [
    "labels = {'0': 0, '1': 1, '2': 2, '3': 3, '4': 4, '5': 5, '6': 6, '7': 7, '8': 8, '9': 9, '+': 10, '-': 11, 'div': 12, 'rightarrow': 13, 'times': 14, 'u': 15, 'v': 16, 'w': 17, 'y': 18, 'z': 19}"
   ]
  },
  {
   "cell_type": "code",
   "execution_count": 47,
   "metadata": {},
   "outputs": [],
   "source": [
    "def idtolabel(labels_map, y):\n",
    "    for key, value in labels_map.items():\n",
    "        if y == value:\n",
    "            return key\n",
    "        \n",
    "    return -1"
   ]
  },
  {
   "cell_type": "code",
   "execution_count": 48,
   "metadata": {},
   "outputs": [],
   "source": [
    "np.random.seed(42)\n",
    "sequential_model = utils.load_model(model_path=\"./models/deep_1_20231207123539.pkl\")"
   ]
  },
  {
   "cell_type": "code",
   "execution_count": 49,
   "metadata": {},
   "outputs": [
    {
     "data": {
      "text/plain": [
       "(383, 232, 3)"
      ]
     },
     "execution_count": 49,
     "metadata": {},
     "output_type": "execute_result"
    }
   ],
   "source": [
    "bounding_boxes[0].shape"
   ]
  },
  {
   "cell_type": "code",
   "execution_count": 69,
   "metadata": {},
   "outputs": [],
   "source": [
    "import cv2\n",
    "\n",
    "def preprocess_img_path(img_path):\n",
    "    img = cv2.imread(img_path)\n",
    "    img = cv2.cvtColor(img, cv2.COLOR_BGR2GRAY)\n",
    "    img = cv2.GaussianBlur(img, (5,5), 0)\n",
    "    img = cv2.threshold(img, 0, 255, cv2.THRESH_BINARY_INV | cv2.THRESH_OTSU)[1]\n",
    "    img = cv2.copyMakeBorder(img, 5, 5, 5, 5, cv2.BORDER_CONSTANT, value=0)\n",
    "    img = cv2.dilate(img, np.ones((2,2), np.uint8), iterations=1)\n",
    "    return img"
   ]
  },
  {
   "cell_type": "code",
   "execution_count": 79,
   "metadata": {},
   "outputs": [],
   "source": [
    "test_img = preprocess_img_path(\"../data/2/2_61.jpg\")"
   ]
  },
  {
   "cell_type": "code",
   "execution_count": 80,
   "metadata": {},
   "outputs": [
    {
     "data": {
      "text/plain": [
       "<matplotlib.image.AxesImage at 0x18fb44ef760>"
      ]
     },
     "execution_count": 80,
     "metadata": {},
     "output_type": "execute_result"
    },
    {
     "data": {
      "image/png": "[encoded data removed]",
      "text/plain": [
       "<Figure size 640x480 with 1 Axes>"
      ]
     },
     "metadata": {},
     "output_type": "display_data"
    }
   ],
   "source": [
    "plt.imshow(test_img)"
   ]
  },
  {
   "cell_type": "code",
   "execution_count": 73,
   "metadata": {},
   "outputs": [
    {
     "data": {
      "text/plain": [
       "(55, 55)"
      ]
     },
     "execution_count": 73,
     "metadata": {},
     "output_type": "execute_result"
    }
   ],
   "source": [
    "test_img.shape"
   ]
  },
  {
   "cell_type": "code",
   "execution_count": 76,
   "metadata": {},
   "outputs": [
    {
     "data": {
      "text/plain": [
       "array([2], dtype=int64)"
      ]
     },
     "execution_count": 76,
     "metadata": {},
     "output_type": "execute_result"
    }
   ],
   "source": [
    "np.argmax(sequential_model._forward(utils.minmax_normalize(np.expand_dims(test_img, axis=(0,1)))), axis=1)"
   ]
  },
  {
   "cell_type": "code",
   "execution_count": 87,
   "metadata": {},
   "outputs": [],
   "source": [
    "def preprocess_image(img):\n",
    "    img = cv2.resize(img, (45,45), cv2.INTER_AREA, fx=0.1, fy=0.1)   \n",
    "    img = cv2.cvtColor(img, cv2.COLOR_BGR2GRAY)\n",
    "    img = cv2.GaussianBlur(img, (5,5), 0)\n",
    "    img = cv2.threshold(img, 0, 255, cv2.THRESH_BINARY_INV | cv2.THRESH_OTSU)[1]\n",
    "    img = cv2.copyMakeBorder(img, 5, 5, 5, 5, cv2.BORDER_CONSTANT, value=0)\n",
    "    img = cv2.dilate(img, np.ones((2,2), np.uint8), iterations=1)\n",
    "    return img"
   ]
  },
  {
   "cell_type": "code",
   "execution_count": 88,
   "metadata": {},
   "outputs": [],
   "source": [
    "def predict(model:Sequential, img):\n",
    "    # print(img.shape, img.max())\n",
    "    logits = model._forward(img)\n",
    "    y_pred = np.argmax(logits, axis=1)\n",
    "    return y_pred\n",
    "    "
   ]
  },
  {
   "cell_type": "code",
   "execution_count": 25,
   "metadata": {},
   "outputs": [],
   "source": [
    "labels = {'0': 0,\n",
    " '1': 1,\n",
    " '2': 2,\n",
    " '3': 3,\n",
    " '4': 4,\n",
    " '5': 5,\n",
    " '6': 6,\n",
    " '7': 7,\n",
    " '8': 8,\n",
    " '9': 9,\n",
    " 'div': 10,\n",
    " 'rightarrow': 11,\n",
    " 'times': 12,\n",
    " 'u': 13,\n",
    " 'v': 14,\n",
    " 'w': 15,\n",
    " 'y': 16,\n",
    " 'z': 17,\n",
    " '+': 18,\n",
    " '-': 19}"
   ]
  },
  {
   "cell_type": "code",
   "execution_count": 61,
   "metadata": {},
   "outputs": [],
   "source": [
    "\n",
    "def get_symbols(model, bounding_boxes):\n",
    "    equation_string = []\n",
    "    for bb in bounding_boxes:\n",
    "        preprocessed_img = utils.preprocess_image(bb)\n",
    "        preprocessed_img = utils.minmax_normalize(preprocessed_img)\n",
    "        preprocessed_img = np.expand_dims(preprocessed_img, (0,1))\n",
    "        max_index = predict(model, preprocessed_img)\n",
    "        predicted_class = idtolabel(labels, max_index)\n",
    "        equation_string.append(predicted_class)\n",
    "\n",
    "    return equation_string\n",
    "\n"
   ]
  },
  {
   "cell_type": "code",
   "execution_count": 62,
   "metadata": {},
   "outputs": [
    {
     "data": {
      "text/plain": [
       "{'0': 0,\n",
       " '1': 1,\n",
       " '2': 2,\n",
       " '3': 3,\n",
       " '4': 4,\n",
       " '5': 5,\n",
       " '6': 6,\n",
       " '7': 7,\n",
       " '8': 8,\n",
       " '9': 9,\n",
       " '+': 10,\n",
       " '-': 11,\n",
       " 'div': 12,\n",
       " 'rightarrow': 13,\n",
       " 'times': 14,\n",
       " 'u': 15,\n",
       " 'v': 16,\n",
       " 'w': 17,\n",
       " 'y': 18,\n",
       " 'z': 19}"
      ]
     },
     "execution_count": 62,
     "metadata": {},
     "output_type": "execute_result"
    }
   ],
   "source": [
    "labels"
   ]
  },
  {
   "cell_type": "code",
   "execution_count": 94,
   "metadata": {},
   "outputs": [
    {
     "data": {
      "image/png": "[encoded data removed]",
      "text/plain": [
       "<Figure size 1200x800 with 4 Axes>"
      ]
     },
     "metadata": {},
     "output_type": "display_data"
    }
   ],
   "source": [
    "utils.displayBoundingBoxes(bounding_boxes, rows=1, cols=4)"
   ]
  },
  {
   "cell_type": "code",
   "execution_count": 93,
   "metadata": {},
   "outputs": [
    {
     "name": "stdout",
     "output_type": "stream",
     "text": [
      "['2', 'y', '1', 'y']\n"
     ]
    }
   ],
   "source": [
    "symbols_list = get_symbols(sequential_model, bounding_boxes)\n",
    "print(symbols_list)"
   ]
  },
  {
   "cell_type": "code",
   "execution_count": null,
   "metadata": {},
   "outputs": [],
   "source": []
  },
  {
   "cell_type": "code",
   "execution_count": 829,
   "metadata": {},
   "outputs": [],
   "source": [
    "import mnist\n",
    "x_mnist_train, y_mnist_train, x_mnist_test, y_mnist_test = mnist.load()\n",
    "\n",
    "x_mnist_train, x_mnist_test = x_mnist_train.reshape((x_mnist_train.shape[0],28, 28)), x_mnist_test.reshape((x_mnist_test.shape[0], 28, 28))"
   ]
  },
  {
   "cell_type": "code",
   "execution_count": 830,
   "metadata": {},
   "outputs": [
    {
     "data": {
      "text/plain": [
       "array([19], dtype=int64)"
      ]
     },
     "execution_count": 830,
     "metadata": {},
     "output_type": "execute_result"
    },
    {
     "data": {
      "image/png": "[encoded data removed]",
      "text/plain": [
       "<Figure size 640x480 with 1 Axes>"
      ]
     },
     "metadata": {},
     "output_type": "display_data"
    }
   ],
   "source": [
    "idx = np.random.randint(len(x_mnist_train))\n",
    "plt.imshow(x_mnist_train[idx], cmap=\"gray\")\n",
    "predict(sequential_model, utils.minmax_normalize(preprocess_image(x_mnist_train[idx])))"
   ]
  },
  {
   "cell_type": "code",
   "execution_count": 232,
   "metadata": {},
   "outputs": [
    {
     "name": "stdout",
     "output_type": "stream",
     "text": [
      "(1, 1, 55, 55)\n",
      "[4]\n"
     ]
    },
    {
     "data": {
      "text/plain": [
       "array([4], dtype=int64)"
      ]
     },
     "execution_count": 232,
     "metadata": {},
     "output_type": "execute_result"
    }
   ],
   "source": []
  },
  {
   "cell_type": "code",
   "execution_count": 269,
   "metadata": {},
   "outputs": [
    {
     "data": {
      "text/plain": [
       "array([[0, 0, 0, ..., 0, 0, 0],\n",
       "       [0, 0, 0, ..., 0, 0, 0],\n",
       "       [0, 0, 0, ..., 0, 0, 0],\n",
       "       ...,\n",
       "       [0, 0, 0, ..., 0, 0, 0],\n",
       "       [0, 0, 0, ..., 0, 0, 0],\n",
       "       [0, 0, 0, ..., 0, 0, 0]], dtype=uint8)"
      ]
     },
     "execution_count": 269,
     "metadata": {},
     "output_type": "execute_result"
    }
   ],
   "source": [
    "preprocess_image(x_mnist_train[0])"
   ]
  },
  {
   "cell_type": "code",
   "execution_count": 301,
   "metadata": {},
   "outputs": [],
   "source": [
    "def readandpreprocess(img):\n",
    "    kernel = np.array([[0, -1, 0], [-1, 6, -1], [0, -1, 0]])\n",
    "    img = cv2.resize(img, (55, 55), cv2.INTER_CUBIC, fx=0.1, fy=0.1)\n",
    "    img = cv2.cvtColor(img, cv2.COLOR_BGR2GRAY)\n",
    "    img = cv2.GaussianBlur(img, (5, 5), 0)\n",
    "    img = cv2.threshold(img, 0, 255, cv2.THRESH_BINARY_INV | cv2.THRESH_OTSU)[1]\n",
    "    img = cv2.dilate(img, np.ones((2, 2), np.uint8), iterations=1)\n",
    "    img = cv2.filter2D(img, -1, kernel)\n",
    "    return img"
   ]
  },
  {
   "cell_type": "code",
   "execution_count": 338,
   "metadata": {},
   "outputs": [
    {
     "data": {
      "text/plain": [
       "<matplotlib.image.AxesImage at 0x1ea1fd5ad10>"
      ]
     },
     "execution_count": 338,
     "metadata": {},
     "output_type": "execute_result"
    },
    {
     "data": {
      "image/png": "[encoded data removed]",
      "text/plain": [
       "<Figure size 640x480 with 1 Axes>"
      ]
     },
     "metadata": {},
     "output_type": "display_data"
    }
   ],
   "source": [
    "img = readandpreprocess(\"./equations/nums.png\")\n",
    "plt.imshow(img)"
   ]
  },
  {
   "cell_type": "code",
   "execution_count": 305,
   "metadata": {},
   "outputs": [
    {
     "data": {
      "text/plain": [
       "5"
      ]
     },
     "execution_count": 305,
     "metadata": {},
     "output_type": "execute_result"
    },
    {
     "data": {
      "image/png": "[encoded data removed]",
      "text/plain": [
       "<Figure size 640x480 with 1 Axes>"
      ]
     },
     "metadata": {},
     "output_type": "display_data"
    }
   ],
   "source": [
    "test_image = np.expand_dims(img, (0,1))\n",
    "test_image = utils.minmax_normalize(test_image)\n",
    "\n",
    "plt.imshow(test_image.reshape(55, 55), cmap=\"gray\")\n",
    "\n",
    "np.argmax(sequential_model._forward(test_image))"
   ]
  },
  {
   "cell_type": "code",
   "execution_count": null,
   "metadata": {},
   "outputs": [],
   "source": []
  }
 ],
 "metadata": {
  "kernelspec": {
   "display_name": "pytorchlearning",
   "language": "python",
   "name": "python3"
  },
  "language_info": {
   "codemirror_mode": {
    "name": "ipython",
    "version": 3
   },
   "file_extension": ".py",
   "mimetype": "text/x-python",
   "name": "python",
   "nbconvert_exporter": "python",
   "pygments_lexer": "ipython3",
   "version": "3.10.11"
  }
 },
 "nbformat": 4,
 "nbformat_minor": 2
}
