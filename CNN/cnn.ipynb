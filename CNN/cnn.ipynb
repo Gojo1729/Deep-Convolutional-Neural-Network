{
 "cells": [
  {
   "cell_type": "code",
   "execution_count": 1,
   "metadata": {},
   "outputs": [],
   "source": [
    "%load_ext autoreload\n",
    "\n",
    "%autoreload 2"
   ]
  },
  {
   "cell_type": "code",
   "execution_count": 2,
   "metadata": {},
   "outputs": [],
   "source": [
    "import numpy as np"
   ]
  },
  {
   "cell_type": "code",
   "execution_count": 3,
   "metadata": {},
   "outputs": [],
   "source": [
    "image = np.random.randn(30, 32, 32)\n",
    "filters = np.random.randn(32,image.shape[0], 3,3) * 0.1"
   ]
  },
  {
   "cell_type": "code",
   "execution_count": 4,
   "metadata": {},
   "outputs": [
    {
     "data": {
      "text/plain": [
       "(30, 3, 3)"
      ]
     },
     "execution_count": 4,
     "metadata": {},
     "output_type": "execute_result"
    }
   ],
   "source": [
    "patch = image[:, :3, :3]\n",
    "patch.shape"
   ]
  },
  {
   "cell_type": "code",
   "execution_count": 5,
   "metadata": {},
   "outputs": [
    {
     "data": {
      "text/plain": [
       "(30, 3, 3)"
      ]
     },
     "execution_count": 5,
     "metadata": {},
     "output_type": "execute_result"
    }
   ],
   "source": [
    "filters[0].shape"
   ]
  },
  {
   "cell_type": "code",
   "execution_count": 6,
   "metadata": {},
   "outputs": [
    {
     "data": {
      "text/plain": [
       "(30, 3, 3)"
      ]
     },
     "execution_count": 6,
     "metadata": {},
     "output_type": "execute_result"
    }
   ],
   "source": [
    "conv  = filters[0] * patch \n",
    "conv.shape"
   ]
  },
  {
   "cell_type": "code",
   "execution_count": 7,
   "metadata": {},
   "outputs": [
    {
     "data": {
      "text/plain": [
       "0.04783374082596417"
      ]
     },
     "execution_count": 7,
     "metadata": {},
     "output_type": "execute_result"
    }
   ],
   "source": [
    "np.sum(conv)"
   ]
  },
  {
   "cell_type": "code",
   "execution_count": 8,
   "metadata": {},
   "outputs": [
    {
     "data": {
      "text/plain": [
       "4.242640687119285"
      ]
     },
     "execution_count": 8,
     "metadata": {},
     "output_type": "execute_result"
    }
   ],
   "source": [
    "np.linalg.norm([[1,2],[2,3]])"
   ]
  },
  {
   "cell_type": "code",
   "execution_count": 9,
   "metadata": {},
   "outputs": [
    {
     "data": {
      "text/plain": [
       "4.242640687119285"
      ]
     },
     "execution_count": 9,
     "metadata": {},
     "output_type": "execute_result"
    }
   ],
   "source": [
    "np.sqrt(np.sum(np.array([[1,2],[2,3]])**2))"
   ]
  },
  {
   "cell_type": "markdown",
   "metadata": {},
   "source": [
    "# Steps\n",
    "\n",
    "- Train loop\n",
    "    - Forward\n",
    "        - Conv\n",
    "        - Relu\n",
    "        - Conv\n",
    "        - Relu\n",
    "        - Dense\n",
    "        - Softmax\n",
    "        - Cross entropy\n",
    "    \n",
    "    Backprop the gradients for all the layers\n",
    "\n",
    "    Test the code for MNIST"
   ]
  },
  {
   "cell_type": "code",
   "execution_count": 10,
   "metadata": {},
   "outputs": [],
   "source": [
    "import mnist"
   ]
  },
  {
   "cell_type": "code",
   "execution_count": 28,
   "metadata": {},
   "outputs": [
    {
     "name": "stdout",
     "output_type": "stream",
     "text": [
      "Downloading train-images-idx3-ubyte.gz...\n",
      "Downloading t10k-images-idx3-ubyte.gz...\n",
      "Downloading train-labels-idx1-ubyte.gz...\n",
      "Downloading t10k-labels-idx1-ubyte.gz...\n",
      "Download complete.\n",
      "Save complete.\n"
     ]
    }
   ],
   "source": [
    "mnist.init()"
   ]
  },
  {
   "cell_type": "code",
   "execution_count": 11,
   "metadata": {},
   "outputs": [],
   "source": [
    "x_train, y_train, x_test, y_test = mnist.load()"
   ]
  },
  {
   "cell_type": "code",
   "execution_count": 19,
   "metadata": {},
   "outputs": [
    {
     "data": {
      "text/plain": [
       "(60000, 784)"
      ]
     },
     "execution_count": 19,
     "metadata": {},
     "output_type": "execute_result"
    }
   ],
   "source": [
    "x_train.shape"
   ]
  },
  {
   "cell_type": "code",
   "execution_count": 13,
   "metadata": {},
   "outputs": [
    {
     "data": {
      "image/png": "[encoded data removed]",
      "text/plain": [
       "<Figure size 640x480 with 1 Axes>"
      ]
     },
     "metadata": {},
     "output_type": "display_data"
    }
   ],
   "source": [
    "import matplotlib.pyplot as plt\n",
    "\n",
    "img = x_train[0,:].reshape(28,28) # First image in the training set.\n",
    "plt.imshow(img,cmap='gray')\n",
    "plt.show() # Show the image"
   ]
  },
  {
   "cell_type": "code",
   "execution_count": 20,
   "metadata": {},
   "outputs": [],
   "source": [
    "\n",
    "from layer import Layer"
   ]
  },
  {
   "cell_type": "code",
   "execution_count": 21,
   "metadata": {},
   "outputs": [],
   "source": [
    "in_n, out_n = 62,32\n",
    "limit = np.sqrt(2 / float(in_n + out_n))\n",
    "weights = np.random.normal(0.0, limit, size = (in_n, out_n))"
   ]
  },
  {
   "cell_type": "code",
   "execution_count": 22,
   "metadata": {},
   "outputs": [
    {
     "data": {
      "text/plain": [
       "(62, 32)"
      ]
     },
     "execution_count": 22,
     "metadata": {},
     "output_type": "execute_result"
    }
   ],
   "source": [
    "weights.shape"
   ]
  },
  {
   "cell_type": "markdown",
   "metadata": {},
   "source": [
    "### Weight init using Xavier/Gloror"
   ]
  },
  {
   "cell_type": "code",
   "execution_count": 27,
   "metadata": {},
   "outputs": [],
   "source": [
    "import activations"
   ]
  },
  {
   "cell_type": "code",
   "execution_count": 34,
   "metadata": {},
   "outputs": [],
   "source": [
    "class DenseLayer(Layer):\n",
    "    def __init__(self, layer_name, input_nodes, output_nodes):\n",
    "        super().__init__(layer_name)\n",
    "        self.input_nodes = input_nodes\n",
    "        self.output_nodes = output_nodes\n",
    "\n",
    "        '''\n",
    "        Gloro/Xavier initialization for weights for faster convergence\n",
    "        https://pyimagesearch.com/2021/05/06/understanding-weight-initialization-for-neural-networks/\n",
    "        '''\n",
    "        limit = np.sqrt(2 / float(input_nodes + output_nodes))\n",
    "        self.weights = np.random.normal(0.0, limit, size = (input_nodes, output_nodes))\n",
    "\n",
    "        ''' \n",
    "        No initialization is required for bias,\n",
    "        https://cs231n.github.io/neural-networks-2/#:~:text=Initializing%20the%20biases\n",
    "        '''\n",
    "        self.bias = np.zeros(output_nodes)\n",
    "\n",
    "        #we need to cache the input and output from this layer for the purpose of backprop\n",
    "        self.cached_input = None\n",
    "        self.cached_output = None\n",
    "\n",
    "    # overriden\n",
    "    def forward(self, input_activations):\n",
    "        '''\n",
    "\n",
    "        @param input_activations - Output of previous layer\n",
    "        @return softmax of logits\n",
    "\n",
    "        Dense layer forward prop\n",
    "        1. Flatten the input\n",
    "        2. Dot product with weights and add the bias\n",
    "        3. Cache the input and logits for backpop\n",
    "        4. Apply softmax on logits and return it\n",
    "        '''\n",
    "\n",
    "        layer_input = input_activations.flatten()\n",
    "        layer_logits = np.dot(layer_input, self.weights) + self.bias\n",
    "\n",
    "        self.cached_input = layer_input\n",
    "        self.cached_output = activations.softmax(layer_logits)\n",
    "\n",
    "        return self.cached_output\n",
    "\n",
    "\n",
    "    #overriden\n",
    "    def backward(self, global_gradient, true_labels, current_lr):\n",
    "        '''\n",
    "        @param global_gradient, will be zeros for dense layer, so don't use it\n",
    "        @param current_lr \n",
    "\n",
    "\n",
    "        @returns The gradient of Loss w.r.t to the input to this layer\n",
    "        i.e the input_activations recieved during forward pass.\n",
    "\n",
    "        Dense layer backward prop\n",
    "        1. Calculate the gradients w.r.t to the weights\n",
    "        2. Calculate the gradients w.r.t to the received activations\n",
    "        and return it for usage in other previous layers.\n",
    "\n",
    "        '''\n",
    "        output_grad  = self.cached_output\n",
    "        output_grad[range(true_labels.shape[1]), true_labels] -= 1\n",
    "\n",
    "        current_weight = self.weights\n",
    "        self.weights -= current_lr * (np.dot(output_grad, self.cached_input))\n",
    "        self.bias -= current_lr * output_grad\n",
    "\n",
    "        gradients_to_next_layer = np.dot(current_weight, output_grad)\n",
    "        return gradients_to_next_layer\n"
   ]
  },
  {
   "cell_type": "code",
   "execution_count": 35,
   "metadata": {},
   "outputs": [],
   "source": [
    "dense_1 = DenseLayer(\"Dense_1\", 784, 10)"
   ]
  },
  {
   "cell_type": "code",
   "execution_count": 36,
   "metadata": {},
   "outputs": [
    {
     "data": {
      "image/png": "[encoded data removed]",
      "text/plain": [
       "<Figure size 640x480 with 1 Axes>"
      ]
     },
     "metadata": {},
     "output_type": "display_data"
    }
   ],
   "source": [
    "import utils\n",
    "utils.plot_histogram(dense_1.layer_name, dense_1.weights)"
   ]
  },
  {
   "cell_type": "code",
   "execution_count": 40,
   "metadata": {},
   "outputs": [
    {
     "data": {
      "text/plain": [
       "784"
      ]
     },
     "execution_count": 40,
     "metadata": {},
     "output_type": "execute_result"
    }
   ],
   "source": [
    "28*28"
   ]
  },
  {
   "cell_type": "code",
   "execution_count": 41,
   "metadata": {},
   "outputs": [
    {
     "data": {
      "text/plain": [
       "array([0.13874263, 0.05280469, 0.07782047, 0.02119886, 0.07199721,\n",
       "       0.11575452, 0.01926313, 0.10583565, 0.05895588, 0.33762698])"
      ]
     },
     "execution_count": 41,
     "metadata": {},
     "output_type": "execute_result"
    }
   ],
   "source": [
    "dense_1.forward(np.random.randn(28,28,1))"
   ]
  },
  {
   "cell_type": "code",
   "execution_count": null,
   "metadata": {},
   "outputs": [],
   "source": []
  }
 ],
 "metadata": {
  "kernelspec": {
   "display_name": "pytorchlearning",
   "language": "python",
   "name": "python3"
  },
  "language_info": {
   "codemirror_mode": {
    "name": "ipython",
    "version": 3
   },
   "file_extension": ".py",
   "mimetype": "text/x-python",
   "name": "python",
   "nbconvert_exporter": "python",
   "pygments_lexer": "ipython3",
   "version": "3.10.11"
  }
 },
 "nbformat": 4,
 "nbformat_minor": 2
}
