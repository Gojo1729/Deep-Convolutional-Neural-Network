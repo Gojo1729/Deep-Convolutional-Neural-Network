{
 "cells": [
  {
   "cell_type": "code",
   "execution_count": 1,
   "metadata": {},
   "outputs": [],
   "source": [
    "%load_ext autoreload\n",
    "\n",
    "%autoreload 2"
   ]
  },
  {
   "cell_type": "code",
   "execution_count": 2,
   "metadata": {},
   "outputs": [],
   "source": [
    "import numpy as np"
   ]
  },
  {
   "cell_type": "code",
   "execution_count": 3,
   "metadata": {},
   "outputs": [],
   "source": [
    "image = np.random.randn(30, 32, 32)\n",
    "filters = np.random.randn(32,image.shape[0], 3,3) * 0.1"
   ]
  },
  {
   "cell_type": "code",
   "execution_count": 4,
   "metadata": {},
   "outputs": [
    {
     "data": {
      "text/plain": [
       "(30, 3, 3)"
      ]
     },
     "execution_count": 4,
     "metadata": {},
     "output_type": "execute_result"
    }
   ],
   "source": [
    "patch = image[:, :3, :3]\n",
    "patch.shape"
   ]
  },
  {
   "cell_type": "code",
   "execution_count": 5,
   "metadata": {},
   "outputs": [
    {
     "data": {
      "text/plain": [
       "(30, 3, 3)"
      ]
     },
     "execution_count": 5,
     "metadata": {},
     "output_type": "execute_result"
    }
   ],
   "source": [
    "filters[0].shape"
   ]
  },
  {
   "cell_type": "code",
   "execution_count": 6,
   "metadata": {},
   "outputs": [
    {
     "data": {
      "text/plain": [
       "(30, 3, 3)"
      ]
     },
     "execution_count": 6,
     "metadata": {},
     "output_type": "execute_result"
    }
   ],
   "source": [
    "conv  = filters[0] * patch \n",
    "conv.shape"
   ]
  },
  {
   "cell_type": "code",
   "execution_count": 7,
   "metadata": {},
   "outputs": [
    {
     "data": {
      "text/plain": [
       "0.05403274901538635"
      ]
     },
     "execution_count": 7,
     "metadata": {},
     "output_type": "execute_result"
    }
   ],
   "source": [
    "np.sum(conv)"
   ]
  },
  {
   "cell_type": "code",
   "execution_count": 8,
   "metadata": {},
   "outputs": [
    {
     "data": {
      "text/plain": [
       "4.242640687119285"
      ]
     },
     "execution_count": 8,
     "metadata": {},
     "output_type": "execute_result"
    }
   ],
   "source": [
    "np.linalg.norm([[1,2],[2,3]])"
   ]
  },
  {
   "cell_type": "code",
   "execution_count": 9,
   "metadata": {},
   "outputs": [
    {
     "data": {
      "text/plain": [
       "4.242640687119285"
      ]
     },
     "execution_count": 9,
     "metadata": {},
     "output_type": "execute_result"
    }
   ],
   "source": [
    "np.sqrt(np.sum(np.array([[1,2],[2,3]])**2))"
   ]
  },
  {
   "cell_type": "markdown",
   "metadata": {},
   "source": [
    "# Steps\n",
    "\n",
    "- Train loop\n",
    "    - Forward\n",
    "        - Conv\n",
    "        - Relu\n",
    "        - Conv\n",
    "        - Relu\n",
    "        - Dense\n",
    "        - Softmax\n",
    "        - Cross entropy\n",
    "    \n",
    "    Backprop the gradients for all the layers\n",
    "\n",
    "    Test the code for MNIST"
   ]
  },
  {
   "cell_type": "code",
   "execution_count": 10,
   "metadata": {},
   "outputs": [],
   "source": [
    "import mnist"
   ]
  },
  {
   "cell_type": "code",
   "execution_count": 11,
   "metadata": {},
   "outputs": [
    {
     "name": "stdout",
     "output_type": "stream",
     "text": [
      "Downloading train-images-idx3-ubyte.gz...\n",
      "Downloading t10k-images-idx3-ubyte.gz...\n",
      "Downloading train-labels-idx1-ubyte.gz...\n",
      "Downloading t10k-labels-idx1-ubyte.gz...\n",
      "Download complete.\n",
      "Save complete.\n"
     ]
    }
   ],
   "source": [
    "mnist.init()"
   ]
  },
  {
   "cell_type": "code",
   "execution_count": 12,
   "metadata": {},
   "outputs": [],
   "source": [
    "x_train, y_train, x_test, y_test = mnist.load()"
   ]
  },
  {
   "cell_type": "code",
   "execution_count": 13,
   "metadata": {},
   "outputs": [
    {
     "data": {
      "text/plain": [
       "(60000, 784)"
      ]
     },
     "execution_count": 13,
     "metadata": {},
     "output_type": "execute_result"
    }
   ],
   "source": [
    "x_train.shape"
   ]
  },
  {
   "cell_type": "code",
   "execution_count": 14,
   "metadata": {},
   "outputs": [
    {
     "data": {
      "image/png": "[encoded data removed]",
      "text/plain": [
       "<Figure size 640x480 with 1 Axes>"
      ]
     },
     "metadata": {},
     "output_type": "display_data"
    }
   ],
   "source": [
    "import matplotlib.pyplot as plt\n",
    "\n",
    "img = x_train[0,:].reshape(28,28) # First image in the training set.\n",
    "plt.imshow(img,cmap='gray')\n",
    "plt.show() # Show the image"
   ]
  },
  {
   "cell_type": "code",
   "execution_count": 15,
   "metadata": {},
   "outputs": [],
   "source": [
    "from layer import Layer"
   ]
  },
  {
   "cell_type": "code",
   "execution_count": 16,
   "metadata": {},
   "outputs": [
    {
     "data": {
      "text/plain": [
       "20.0"
      ]
     },
     "execution_count": 16,
     "metadata": {},
     "output_type": "execute_result"
    }
   ],
   "source": [
    "200 * 0.1"
   ]
  },
  {
   "cell_type": "code",
   "execution_count": 17,
   "metadata": {},
   "outputs": [],
   "source": [
    "class ReluLayer(Layer):\n",
    "    def __init__(self, layer_name):\n",
    "        super().__init__(layer_name)\n",
    "        self.cached_output = None\n",
    "\n",
    "    def forward(self, input_activations):\n",
    "        self.cached_output = np.maximum(0, input_activations)\n",
    "        return self.cached_output\n",
    "\n",
    "    def backward(self, global_gradients, lr):\n",
    "        local_grad = np.array(global_gradients, copy=True)\n",
    "        local_grad[self.cached_output <= 0] = 0 \n",
    "        return local_grad"
   ]
  },
  {
   "cell_type": "code",
   "execution_count": 18,
   "metadata": {},
   "outputs": [],
   "source": [
    "class DenseLayer(Layer):\n",
    "    def __init__(self, layer_name, input_nodes, output_nodes, debug = False):\n",
    "        super().__init__(layer_name)\n",
    "        self.debug = debug\n",
    "        self.input_nodes = input_nodes\n",
    "        self.output_nodes = output_nodes\n",
    "\n",
    "        '''\n",
    "        Gloro/Xavier initialization for weights for faster convergence\n",
    "        https://pyimagesearch.com/2021/05/06/understanding-weight-initialization-for-neural-networks/\n",
    "        '''\n",
    "        limit = np.sqrt(2 / float(input_nodes + output_nodes))\n",
    "        self.weights = np.random.normal(0.0, limit, size = (input_nodes, output_nodes))\n",
    "\n",
    "        ''' \n",
    "        No initialization is required for bias,\n",
    "        https://cs231n.github.io/neural-networks-2/#:~:text=Initializing%20the%20biases\n",
    "        '''\n",
    "        self.bias = np.zeros((1, output_nodes))\n",
    "\n",
    "        #we need to cache the input and output from this layer for the purpose of backprop\n",
    "        self.cached_input = None\n",
    "        self.cached_output = None\n",
    "\n",
    "    # overriden\n",
    "    def forward(self, input_activations):\n",
    "        '''\n",
    "\n",
    "        @param input_activations - Output of previous layer\n",
    "        @return softmax of logits\n",
    "\n",
    "        Dense layer forward prop\n",
    "        1. Flatten the input\n",
    "        2. Dot product with weights and add the bias\n",
    "        3. Cache the input and logits for backpop\n",
    "        4. Apply softmax on logits and return it\n",
    "        '''\n",
    "\n",
    "        shape = input_activations.shape\n",
    "        layer_input = input_activations.ravel().reshape(shape[0], -1)\n",
    "        layer_logits = np.dot(layer_input, self.weights) + self.bias\n",
    "\n",
    "        self.cached_input = layer_input\n",
    "        self.cached_output = layer_logits\n",
    "        if self.debug:\n",
    "            print(f\"Cached output {self.cached_output}, ip shape {layer_input.shape}, op shape {layer_logits.shape}\")\n",
    "        return self.cached_output\n",
    "\n",
    "\n",
    "    #overriden\n",
    "    def backward(self, global_gradient, current_lr):\n",
    "        '''\n",
    "        @param global_gradient, gradients from the previous layer\n",
    "        @param current_lr \n",
    "\n",
    "\n",
    "        @returns The gradient of Loss w.r.t to the input to this layer\n",
    "        i.e the input_activations recieved during forward pass.\n",
    "\n",
    "        Dense layer backward prop\n",
    "        1. Calculate the gradients w.r.t to the weights\n",
    "        2. Calculate the gradients w.r.t to the received activations\n",
    "        and return it for usage in other previous layers.\n",
    "\n",
    "        '''\n",
    "        output_grad  = global_gradient\n",
    "        samples = global_gradient.shape[0]\n",
    "\n",
    "        assert output_grad.shape[1] == self.weights.T.shape[0]\n",
    "        assert self.cached_input.T.shape[1] == output_grad.shape[0]\n",
    "\n",
    "        input_grad = np.dot(output_grad, self.weights.T) / samples\n",
    "        weight_grad = np.dot(self.cached_input.T, output_grad) / samples\n",
    "        \n",
    "        if self.debug:\n",
    "            print(f\"weights shape {self.weights.shape}, weight grad shape {weight_grad.shape}, input_shape {self.cached_input.shape}, input_grad shape {input_grad.shape}, \")\n",
    "\n",
    "        self.weights -= current_lr * weight_grad\n",
    "        self.bias -= current_lr * np.sum(output_grad, axis=0, keepdims=True) \n",
    "\n",
    "        return input_grad\n",
    "    \n",
    "\n"
   ]
  },
  {
   "cell_type": "code",
   "execution_count": 19,
   "metadata": {},
   "outputs": [],
   "source": [
    "dense_1 = DenseLayer(\"Dense_1\",784, 10)"
   ]
  },
  {
   "cell_type": "code",
   "execution_count": 20,
   "metadata": {},
   "outputs": [
    {
     "data": {
      "text/plain": [
       "(1, 10)"
      ]
     },
     "execution_count": 20,
     "metadata": {},
     "output_type": "execute_result"
    }
   ],
   "source": [
    "dense_1.forward(np.random.randn(1,784)).shape"
   ]
  },
  {
   "cell_type": "code",
   "execution_count": 21,
   "metadata": {},
   "outputs": [
    {
     "data": {
      "image/png": "[encoded data removed]",
      "text/plain": [
       "<Figure size 640x480 with 1 Axes>"
      ]
     },
     "metadata": {},
     "output_type": "display_data"
    }
   ],
   "source": [
    "import utils\n",
    "utils.plot_histogram(dense_1.layer_name, dense_1.weights)"
   ]
  },
  {
   "cell_type": "code",
   "execution_count": 22,
   "metadata": {},
   "outputs": [
    {
     "data": {
      "text/plain": [
       "784"
      ]
     },
     "execution_count": 22,
     "metadata": {},
     "output_type": "execute_result"
    }
   ],
   "source": [
    "28*28"
   ]
  },
  {
   "cell_type": "markdown",
   "metadata": {},
   "source": [
    "### Model"
   ]
  },
  {
   "cell_type": "code",
   "execution_count": 23,
   "metadata": {},
   "outputs": [],
   "source": [
    "from activations import Softmax_Categorical_CrossEntropy"
   ]
  },
  {
   "cell_type": "code",
   "execution_count": 24,
   "metadata": {},
   "outputs": [],
   "source": [
    "dense_1 = DenseLayer(\"Dense_1\", 784, 14)\n",
    "relu_1 = ReluLayer(\"relu_1\")\n",
    "dense_2 = DenseLayer(\"Dense_2\", 14, 10)\n",
    "\n",
    "softmax_loss = Softmax_Categorical_CrossEntropy(\"Softmax_CCE_1\")"
   ]
  },
  {
   "cell_type": "code",
   "execution_count": 25,
   "metadata": {},
   "outputs": [
    {
     "name": "stdout",
     "output_type": "stream",
     "text": [
      "Softmax output shape (1, 10), ytrue shape (1, 1)\n",
      "Softmax_y shape (1, 10), samples 1, y_true (1, 1)\n",
      "loss [[16.11809565]], ypredicted [[ -16.89724332 -198.7256326   100.95502655  119.52536833  130.50110187\n",
      "   -99.45481922 -235.3093063   116.98542551   71.69121046   23.68520176]]\n",
      "y softmax shape (1, 10), y_true shape (1, 1)\n",
      "(1, 10)\n",
      "(1, 14)\n"
     ]
    }
   ],
   "source": [
    "y = dense_1.forward(img.reshape(1, 28, 28))\n",
    "relu_y = relu_1.forward(y)\n",
    "y = dense_2.forward(relu_y)\n",
    "\n",
    "true_labels = y_train[0].reshape(1,1)\n",
    "loss = softmax_loss.forward(y, true_labels)\n",
    "print(f\"loss {loss}, ypredicted {y}\")\n",
    "\n",
    "# gradients /= samples\n",
    "\n",
    "global_grad = softmax_loss.backward(softmax_loss.cached_output, true_labels)\n",
    "print(global_grad.shape)\n",
    "\n",
    "global_grad = dense_2.backward(global_grad, 1e-6)\n",
    "print(global_grad.shape)\n",
    "global_grad = relu_1.backward(global_grad, 1e-6)\n",
    "global_grad = dense_1.backward(global_grad, 1e-06)"
   ]
  },
  {
   "cell_type": "code",
   "execution_count": 26,
   "metadata": {},
   "outputs": [
    {
     "data": {
      "image/png": "[encoded data removed]",
      "text/plain": [
       "<Figure size 640x480 with 1 Axes>"
      ]
     },
     "metadata": {},
     "output_type": "display_data"
    }
   ],
   "source": [
    "utils.plot_histogram(\"Dense_1\", dense_1.weights)"
   ]
  },
  {
   "cell_type": "markdown",
   "metadata": {},
   "source": [
    "### Sequential"
   ]
  },
  {
   "cell_type": "code",
   "execution_count": 33,
   "metadata": {},
   "outputs": [],
   "source": [
    "from model import Sequential\n",
    "\n",
    "np.random.seed(42)\n",
    "\n",
    "dense_1 = DenseLayer(\"Dense_1\", 784, 14, debug=False)\n",
    "relu_1 = ReluLayer(\"relu_1\")\n",
    "dense_2 = DenseLayer(\"Dense_2\", 14, 10, debug=False)\n",
    "\n",
    "layers = [dense_1, relu_1, dense_2]\n",
    "sequential_model = Sequential(layers)"
   ]
  },
  {
   "cell_type": "code",
   "execution_count": 34,
   "metadata": {},
   "outputs": [
    {
     "data": {
      "text/plain": [
       "(60000, 784)"
      ]
     },
     "execution_count": 34,
     "metadata": {},
     "output_type": "execute_result"
    }
   ],
   "source": [
    "x_train.shape"
   ]
  },
  {
   "cell_type": "code",
   "execution_count": 40,
   "metadata": {},
   "outputs": [
    {
     "data": {
      "text/plain": [
       "(32, 10)"
      ]
     },
     "execution_count": 40,
     "metadata": {},
     "output_type": "execute_result"
    }
   ],
   "source": [
    "y_p = np.random.randn(32,10)\n",
    "y_p.shape"
   ]
  },
  {
   "cell_type": "code",
   "execution_count": 42,
   "metadata": {},
   "outputs": [
    {
     "data": {
      "text/plain": [
       "array([[ 0.57550873, -1.66323448,  2.13828232, -1.65125384,  0.15642202,\n",
       "        -0.15044775, -0.10690649,  0.86982568, -0.7078108 , -0.43270763],\n",
       "       [-1.1466052 ,  1.12215885,  0.26608542,  0.63721809,  0.81198385,\n",
       "         1.99141276,  1.81694583,  0.32304162,  0.1579627 , -0.53214187],\n",
       "       [ 0.74415778,  0.70711296, -0.72939133,  0.71978295,  1.00835449,\n",
       "        -1.12164662,  0.18991397, -0.06572894, -0.00538651, -0.95265323],\n",
       "       [-1.82655576, -0.7554163 , -0.89545831,  0.35322307,  0.36951312,\n",
       "         0.31259223, -1.39673067, -1.11955837, -0.61667269,  0.02314301],\n",
       "       [-0.33510755,  0.3106391 ,  0.97547032, -0.99929381, -0.9612705 ,\n",
       "         0.13535999, -0.08203064,  0.74336356,  0.00757666,  1.74052123],\n",
       "       [-1.58787477,  0.84021686,  0.1993262 , -1.40300107, -2.06795929,\n",
       "        -1.12501907,  1.20908771,  1.09523156, -0.12865249, -0.36227298],\n",
       "       [-0.856097  , -0.18738932, -0.47416169,  1.70994205, -1.2365556 ,\n",
       "         0.3924377 ,  1.75707134,  0.77458282, -1.1242767 , -1.5423302 ],\n",
       "       [ 0.27440121,  0.15052321,  1.2324091 ,  0.54844785, -0.48483992,\n",
       "        -0.55271473, -1.3061577 ,  0.12936434, -1.40444825,  0.90999035],\n",
       "       [ 0.58915521,  0.557456  , -1.32182711, -0.1499634 , -0.38930562,\n",
       "         0.10280638,  0.52851288, -0.51359705, -0.47598352,  0.67992784],\n",
       "       [-1.12949996, -0.74666144,  0.00583683,  0.89972037, -0.96877474,\n",
       "         1.78969899, -1.35066276,  1.55027882,  1.19959015, -1.43010159],\n",
       "       [-1.63220334,  0.71986417, -0.37740119, -1.00694705,  1.81170121,\n",
       "        -1.19390244, -0.7269386 , -0.60839831, -2.79944883,  0.09136776],\n",
       "       [-0.91155856,  0.81053611,  0.94126272,  0.231721  ,  0.24304663,\n",
       "         0.16358911, -0.70040418, -0.61482795,  1.32322695,  0.73524144],\n",
       "       [ 0.20608698,  0.60006533, -0.06108353,  0.18494677,  0.59451691,\n",
       "        -2.07428082,  0.90613892,  0.83434022, -0.78068828,  1.24410252],\n",
       "       [-2.21731478,  0.35295308,  0.03993305, -0.30947107,  0.01936733,\n",
       "         0.58273056, -1.80556825,  1.00096459, -0.41027351,  1.01545285],\n",
       "       [ 0.64351768, -0.43107014, -0.0793262 , -0.02057943,  1.60626038,\n",
       "        -1.14044579, -0.43807286, -1.58218805,  0.12390825, -0.62350901],\n",
       "       [-0.50217151,  1.4846904 , -0.82336952, -0.15952205, -0.45860029,\n",
       "        -0.39583038,  2.77178961, -1.7349757 ,  0.64406854,  2.42737338],\n",
       "       [ 1.07908577,  0.04694217, -1.17276832,  1.30477433,  0.93734598,\n",
       "        -1.52969244, -0.32028123, -1.20609395, -2.85952004, -1.22935748],\n",
       "       [ 0.10543923,  0.58031918, -0.32343695,  1.37412539,  1.02943991,\n",
       "        -0.12527764, -0.25260269,  0.38273962, -0.01784641, -1.42568408],\n",
       "       [-0.29538198,  0.6655672 ,  1.31474026,  0.9601639 ,  0.3343027 ,\n",
       "         1.45737164,  0.42395167, -0.08855005,  1.47871157,  0.72025866],\n",
       "       [ 1.30200309, -1.18760687, -0.86026863, -0.81740507,  0.18177662,\n",
       "         1.82434953, -1.13894687,  0.90536501, -1.20256854,  2.1175194 ],\n",
       "       [-1.59665166,  0.74030033,  0.88037542,  0.62000499, -0.87724957,\n",
       "        -1.05634347,  1.27240063,  1.04840663,  1.03476081,  1.15597199],\n",
       "       [-1.53608168, -1.56597105, -0.67132381, -0.47964141, -0.58620222,\n",
       "         0.27749797,  1.11525049, -0.29399521, -0.81531724,  0.8129231 ],\n",
       "       [-0.28196449,  0.10732488, -0.33247325,  0.33997036, -1.01390413,\n",
       "         0.72627223, -0.0327767 , -0.76431623,  0.53093299, -0.76527113],\n",
       "       [-0.7210726 , -1.2012769 , -1.70358216,  0.53428538,  1.16561665,\n",
       "        -0.45059972, -0.79847251, -1.81229478, -2.17335108,  0.72673055],\n",
       "       [-1.9740078 , -1.14393357,  0.28343132,  0.08970726,  0.32470238,\n",
       "         0.00691945, -0.35692685, -1.13786567, -0.63414345, -0.28904788],\n",
       "       [-1.8903418 , -0.7863361 , -0.37221851, -0.68896476, -0.34255452,\n",
       "         0.66872775,  0.79148593,  1.51135315, -1.50790236, -0.42074515],\n",
       "       [ 1.22757951, -1.74573591, -1.17622925, -0.61573567,  2.0443238 ,\n",
       "        -0.9745327 ,  1.08382064, -0.02789689, -1.14645402,  2.79982415],\n",
       "       [ 0.194648  ,  0.37620232,  0.53450755,  0.45695618,  2.15207336,\n",
       "         1.78594385, -0.93159814,  2.01872491, -0.70013295,  0.32224088],\n",
       "       [-1.45151812,  1.03660641, -0.30736124, -1.14948764,  1.18850101,\n",
       "         1.43620139,  1.47010278, -1.52295045,  1.57354292, -0.30051568],\n",
       "       [ 2.05150347,  0.6249537 ,  0.25133126,  0.00852107, -0.01366292,\n",
       "        -0.67951432, -1.06806385, -0.36266197,  1.19088854, -1.39662497],\n",
       "       [ 1.34066623,  0.14338975,  0.78147462,  0.83316049,  0.92834497,\n",
       "         0.02240159,  0.05234312,  0.89409668, -1.04129476, -1.19445856],\n",
       "       [-0.46468692,  0.28809052,  1.92087115,  0.04798272,  2.00015251,\n",
       "         0.5154577 , -0.45346265,  1.14706865, -0.24286282,  0.25120945]])"
      ]
     },
     "execution_count": 42,
     "metadata": {},
     "output_type": "execute_result"
    }
   ],
   "source": [
    "y_p"
   ]
  },
  {
   "cell_type": "code",
   "execution_count": 46,
   "metadata": {},
   "outputs": [
    {
     "data": {
      "text/plain": [
       "(32,)"
      ]
     },
     "execution_count": 46,
     "metadata": {},
     "output_type": "execute_result"
    }
   ],
   "source": [
    "np.argmax(y_p, axis=1).shape"
   ]
  },
  {
   "cell_type": "code",
   "execution_count": 35,
   "metadata": {},
   "outputs": [],
   "source": [
    "x_preprocessed = x_train[:1000]\n",
    "y_preprocessed = y_train[:1000]\n",
    "\n",
    "x_preprocessed = utils.minmax_normalize(x_preprocessed)"
   ]
  },
  {
   "cell_type": "code",
   "execution_count": 38,
   "metadata": {},
   "outputs": [
    {
     "name": "stdout",
     "output_type": "stream",
     "text": [
      "Xbatch size (32, 784), y_predicted_shape (32, 10), y_true shape (32,)\n",
      "Softmax output shape (32, 10), ytrue shape (32,)\n",
      "Softmax_y shape (32, 10), samples 32, y_true (32,)\n",
      "y softmax shape (32, 10), y_true shape (32,)\n",
      "global grad shape (32, 10)\n",
      "Xbatch size (32, 784), y_predicted_shape (32, 10), y_true shape (32,)\n",
      "Softmax output shape (32, 10), ytrue shape (32,)\n",
      "Softmax_y shape (32, 10), samples 32, y_true (32,)\n",
      "y softmax shape (32, 10), y_true shape (32,)\n",
      "global grad shape (32, 10)\n",
      "Xbatch size (32, 784), y_predicted_shape (32, 10), y_true shape (32,)\n",
      "Softmax output shape (32, 10), ytrue shape (32,)\n",
      "Softmax_y shape (32, 10), samples 32, y_true (32,)\n",
      "y softmax shape (32, 10), y_true shape (32,)\n",
      "global grad shape (32, 10)\n",
      "Xbatch size (32, 784), y_predicted_shape (32, 10), y_true shape (32,)\n",
      "Softmax output shape (32, 10), ytrue shape (32,)\n",
      "Softmax_y shape (32, 10), samples 32, y_true (32,)\n",
      "y softmax shape (32, 10), y_true shape (32,)\n",
      "global grad shape (32, 10)\n",
      "Xbatch size (32, 784), y_predicted_shape (32, 10), y_true shape (32,)\n",
      "Softmax output shape (32, 10), ytrue shape (32,)\n",
      "Softmax_y shape (32, 10), samples 32, y_true (32,)\n",
      "y softmax shape (32, 10), y_true shape (32,)\n",
      "global grad shape (32, 10)\n",
      "Xbatch size (32, 784), y_predicted_shape (32, 10), y_true shape (32,)\n",
      "Softmax output shape (32, 10), ytrue shape (32,)\n",
      "Softmax_y shape (32, 10), samples 32, y_true (32,)\n",
      "y softmax shape (32, 10), y_true shape (32,)\n",
      "global grad shape (32, 10)\n",
      "Xbatch size (32, 784), y_predicted_shape (32, 10), y_true shape (32,)\n",
      "Softmax output shape (32, 10), ytrue shape (32,)\n",
      "Softmax_y shape (32, 10), samples 32, y_true (32,)\n",
      "y softmax shape (32, 10), y_true shape (32,)\n",
      "global grad shape (32, 10)\n",
      "Xbatch size (32, 784), y_predicted_shape (32, 10), y_true shape (32,)\n",
      "Softmax output shape (32, 10), ytrue shape (32,)\n",
      "Softmax_y shape (32, 10), samples 32, y_true (32,)\n",
      "y softmax shape (32, 10), y_true shape (32,)\n",
      "global grad shape (32, 10)\n",
      "Xbatch size (32, 784), y_predicted_shape (32, 10), y_true shape (32,)\n",
      "Softmax output shape (32, 10), ytrue shape (32,)\n",
      "Softmax_y shape (32, 10), samples 32, y_true (32,)\n",
      "y softmax shape (32, 10), y_true shape (32,)\n",
      "global grad shape (32, 10)\n",
      "Xbatch size (32, 784), y_predicted_shape (32, 10), y_true shape (32,)\n",
      "Softmax output shape (32, 10), ytrue shape (32,)\n",
      "Softmax_y shape (32, 10), samples 32, y_true (32,)\n",
      "y softmax shape (32, 10), y_true shape (32,)\n",
      "global grad shape (32, 10)\n",
      "Xbatch size (32, 784), y_predicted_shape (32, 10), y_true shape (32,)\n",
      "Softmax output shape (32, 10), ytrue shape (32,)\n",
      "Softmax_y shape (32, 10), samples 32, y_true (32,)\n",
      "y softmax shape (32, 10), y_true shape (32,)\n",
      "global grad shape (32, 10)\n",
      "Xbatch size (32, 784), y_predicted_shape (32, 10), y_true shape (32,)\n",
      "Softmax output shape (32, 10), ytrue shape (32,)\n",
      "Softmax_y shape (32, 10), samples 32, y_true (32,)\n",
      "y softmax shape (32, 10), y_true shape (32,)\n",
      "global grad shape (32, 10)\n",
      "Xbatch size (32, 784), y_predicted_shape (32, 10), y_true shape (32,)\n",
      "Softmax output shape (32, 10), ytrue shape (32,)\n",
      "Softmax_y shape (32, 10), samples 32, y_true (32,)\n",
      "y softmax shape (32, 10), y_true shape (32,)\n",
      "global grad shape (32, 10)\n",
      "Xbatch size (32, 784), y_predicted_shape (32, 10), y_true shape (32,)\n",
      "Softmax output shape (32, 10), ytrue shape (32,)\n",
      "Softmax_y shape (32, 10), samples 32, y_true (32,)\n",
      "y softmax shape (32, 10), y_true shape (32,)\n",
      "global grad shape (32, 10)\n",
      "Xbatch size (32, 784), y_predicted_shape (32, 10), y_true shape (32,)\n",
      "Softmax output shape (32, 10), ytrue shape (32,)\n",
      "Softmax_y shape (32, 10), samples 32, y_true (32,)\n",
      "y softmax shape (32, 10), y_true shape (32,)\n",
      "global grad shape (32, 10)\n",
      "Xbatch size (32, 784), y_predicted_shape (32, 10), y_true shape (32,)\n",
      "Softmax output shape (32, 10), ytrue shape (32,)\n",
      "Softmax_y shape (32, 10), samples 32, y_true (32,)\n",
      "y softmax shape (32, 10), y_true shape (32,)\n",
      "global grad shape (32, 10)\n",
      "Xbatch size (32, 784), y_predicted_shape (32, 10), y_true shape (32,)\n",
      "Softmax output shape (32, 10), ytrue shape (32,)\n",
      "Softmax_y shape (32, 10), samples 32, y_true (32,)\n",
      "y softmax shape (32, 10), y_true shape (32,)\n",
      "global grad shape (32, 10)\n",
      "Xbatch size (32, 784), y_predicted_shape (32, 10), y_true shape (32,)\n",
      "Softmax output shape (32, 10), ytrue shape (32,)\n",
      "Softmax_y shape (32, 10), samples 32, y_true (32,)\n",
      "y softmax shape (32, 10), y_true shape (32,)\n",
      "global grad shape (32, 10)\n",
      "Xbatch size (32, 784), y_predicted_shape (32, 10), y_true shape (32,)\n",
      "Softmax output shape (32, 10), ytrue shape (32,)\n",
      "Softmax_y shape (32, 10), samples 32, y_true (32,)\n",
      "y softmax shape (32, 10), y_true shape (32,)\n",
      "global grad shape (32, 10)\n",
      "Xbatch size (32, 784), y_predicted_shape (32, 10), y_true shape (32,)\n",
      "Softmax output shape (32, 10), ytrue shape (32,)\n",
      "Softmax_y shape (32, 10), samples 32, y_true (32,)\n",
      "y softmax shape (32, 10), y_true shape (32,)\n",
      "global grad shape (32, 10)\n",
      "Xbatch size (32, 784), y_predicted_shape (32, 10), y_true shape (32,)\n",
      "Softmax output shape (32, 10), ytrue shape (32,)\n",
      "Softmax_y shape (32, 10), samples 32, y_true (32,)\n",
      "y softmax shape (32, 10), y_true shape (32,)\n",
      "global grad shape (32, 10)\n",
      "Xbatch size (32, 784), y_predicted_shape (32, 10), y_true shape (32,)\n",
      "Softmax output shape (32, 10), ytrue shape (32,)\n",
      "Softmax_y shape (32, 10), samples 32, y_true (32,)\n",
      "y softmax shape (32, 10), y_true shape (32,)\n",
      "global grad shape (32, 10)\n",
      "Xbatch size (32, 784), y_predicted_shape (32, 10), y_true shape (32,)\n",
      "Softmax output shape (32, 10), ytrue shape (32,)\n",
      "Softmax_y shape (32, 10), samples 32, y_true (32,)\n",
      "y softmax shape (32, 10), y_true shape (32,)\n",
      "global grad shape (32, 10)\n",
      "Xbatch size (32, 784), y_predicted_shape (32, 10), y_true shape (32,)\n",
      "Softmax output shape (32, 10), ytrue shape (32,)\n",
      "Softmax_y shape (32, 10), samples 32, y_true (32,)\n",
      "y softmax shape (32, 10), y_true shape (32,)\n",
      "global grad shape (32, 10)\n",
      "Xbatch size (32, 784), y_predicted_shape (32, 10), y_true shape (32,)\n",
      "Softmax output shape (32, 10), ytrue shape (32,)\n",
      "Softmax_y shape (32, 10), samples 32, y_true (32,)\n",
      "y softmax shape (32, 10), y_true shape (32,)\n",
      "global grad shape (32, 10)\n",
      "Xbatch size (32, 784), y_predicted_shape (32, 10), y_true shape (32,)\n",
      "Softmax output shape (32, 10), ytrue shape (32,)\n",
      "Softmax_y shape (32, 10), samples 32, y_true (32,)\n",
      "y softmax shape (32, 10), y_true shape (32,)\n",
      "global grad shape (32, 10)\n",
      "Xbatch size (32, 784), y_predicted_shape (32, 10), y_true shape (32,)\n",
      "Softmax output shape (32, 10), ytrue shape (32,)\n",
      "Softmax_y shape (32, 10), samples 32, y_true (32,)\n",
      "y softmax shape (32, 10), y_true shape (32,)\n",
      "global grad shape (32, 10)\n",
      "Xbatch size (32, 784), y_predicted_shape (32, 10), y_true shape (32,)\n",
      "Softmax output shape (32, 10), ytrue shape (32,)\n",
      "Softmax_y shape (32, 10), samples 32, y_true (32,)\n",
      "y softmax shape (32, 10), y_true shape (32,)\n",
      "global grad shape (32, 10)\n",
      "Xbatch size (32, 784), y_predicted_shape (32, 10), y_true shape (32,)\n",
      "Softmax output shape (32, 10), ytrue shape (32,)\n",
      "Softmax_y shape (32, 10), samples 32, y_true (32,)\n",
      "y softmax shape (32, 10), y_true shape (32,)\n",
      "global grad shape (32, 10)\n",
      "Xbatch size (32, 784), y_predicted_shape (32, 10), y_true shape (32,)\n",
      "Softmax output shape (32, 10), ytrue shape (32,)\n",
      "Softmax_y shape (32, 10), samples 32, y_true (32,)\n",
      "y softmax shape (32, 10), y_true shape (32,)\n",
      "global grad shape (32, 10)\n",
      "Xbatch size (32, 784), y_predicted_shape (32, 10), y_true shape (32,)\n",
      "Softmax output shape (32, 10), ytrue shape (32,)\n",
      "Softmax_y shape (32, 10), samples 32, y_true (32,)\n",
      "y softmax shape (32, 10), y_true shape (32,)\n",
      "global grad shape (32, 10)\n",
      "Xbatch size (8, 784), y_predicted_shape (8, 10), y_true shape (8,)\n",
      "Softmax output shape (8, 10), ytrue shape (8,)\n",
      "Softmax_y shape (8, 10), samples 8, y_true (8,)\n",
      "Exception\n",
      "y softmax shape (8, 10), y_true shape (8,)\n",
      "global grad shape (8, 10)\n",
      "Unexpected exception formatting exception. Falling back to standard exception\n"
     ]
    },
    {
     "name": "stderr",
     "output_type": "stream",
     "text": [
      "Traceback (most recent call last):\n",
      "  File \"c:\\Users\\shivs\\anaconda3\\envs\\pytorchlearning\\lib\\site-packages\\IPython\\core\\interactiveshell.py\", line 3505, in run_code\n",
      "    exec(code_obj, self.user_global_ns, self.user_ns)\n",
      "  File \"C:\\Users\\shivs\\AppData\\Local\\Temp\\ipykernel_5760\\330113264.py\", line 1, in <module>\n",
      "    sequential_model.train([x_preprocessed, y_preprocessed], [None, None], [None, None], 20, 32, True)\n",
      "  File \"d:\\MS\\Fall2023\\ML-6375\\Project\\code\\ML6375-Project\\CNN\\model.py\", line 65, in train\n",
      "    train_acc = accuracy(y_predictions, y_permuted)\n",
      "  File \"d:\\MS\\Fall2023\\ML-6375\\Project\\code\\ML6375-Project\\CNN\\utils.py\", line 34, in accuracy\n",
      "    return ((y_predicted == y_true).mean()) * 100\n",
      "ValueError: operands could not be broadcast together with shapes (1000,) (32,) \n",
      "\n",
      "During handling of the above exception, another exception occurred:\n",
      "\n",
      "Traceback (most recent call last):\n",
      "  File \"c:\\Users\\shivs\\anaconda3\\envs\\pytorchlearning\\lib\\site-packages\\IPython\\core\\interactiveshell.py\", line 2102, in showtraceback\n",
      "    stb = self.InteractiveTB.structured_traceback(\n",
      "  File \"c:\\Users\\shivs\\anaconda3\\envs\\pytorchlearning\\lib\\site-packages\\IPython\\core\\ultratb.py\", line 1310, in structured_traceback\n",
      "    return FormattedTB.structured_traceback(\n",
      "  File \"c:\\Users\\shivs\\anaconda3\\envs\\pytorchlearning\\lib\\site-packages\\IPython\\core\\ultratb.py\", line 1199, in structured_traceback\n",
      "    return VerboseTB.structured_traceback(\n",
      "  File \"c:\\Users\\shivs\\anaconda3\\envs\\pytorchlearning\\lib\\site-packages\\IPython\\core\\ultratb.py\", line 1052, in structured_traceback\n",
      "    formatted_exception = self.format_exception_as_a_whole(etype, evalue, etb, number_of_lines_of_context,\n",
      "  File \"c:\\Users\\shivs\\anaconda3\\envs\\pytorchlearning\\lib\\site-packages\\IPython\\core\\ultratb.py\", line 978, in format_exception_as_a_whole\n",
      "    frames.append(self.format_record(record))\n",
      "  File \"c:\\Users\\shivs\\anaconda3\\envs\\pytorchlearning\\lib\\site-packages\\IPython\\core\\ultratb.py\", line 878, in format_record\n",
      "    frame_info.lines, Colors, self.has_colors, lvals\n",
      "  File \"c:\\Users\\shivs\\anaconda3\\envs\\pytorchlearning\\lib\\site-packages\\IPython\\core\\ultratb.py\", line 712, in lines\n",
      "    return self._sd.lines\n",
      "  File \"c:\\Users\\shivs\\anaconda3\\envs\\pytorchlearning\\lib\\site-packages\\stack_data\\utils.py\", line 145, in cached_property_wrapper\n",
      "    value = obj.__dict__[self.func.__name__] = self.func(obj)\n",
      "  File \"c:\\Users\\shivs\\anaconda3\\envs\\pytorchlearning\\lib\\site-packages\\stack_data\\core.py\", line 698, in lines\n",
      "    pieces = self.included_pieces\n",
      "  File \"c:\\Users\\shivs\\anaconda3\\envs\\pytorchlearning\\lib\\site-packages\\stack_data\\utils.py\", line 145, in cached_property_wrapper\n",
      "    value = obj.__dict__[self.func.__name__] = self.func(obj)\n",
      "  File \"c:\\Users\\shivs\\anaconda3\\envs\\pytorchlearning\\lib\\site-packages\\stack_data\\core.py\", line 649, in included_pieces\n",
      "    pos = scope_pieces.index(self.executing_piece)\n",
      "  File \"c:\\Users\\shivs\\anaconda3\\envs\\pytorchlearning\\lib\\site-packages\\stack_data\\utils.py\", line 145, in cached_property_wrapper\n",
      "    value = obj.__dict__[self.func.__name__] = self.func(obj)\n",
      "  File \"c:\\Users\\shivs\\anaconda3\\envs\\pytorchlearning\\lib\\site-packages\\stack_data\\core.py\", line 628, in executing_piece\n",
      "    return only(\n",
      "  File \"c:\\Users\\shivs\\anaconda3\\envs\\pytorchlearning\\lib\\site-packages\\executing\\executing.py\", line 164, in only\n",
      "    raise NotOneValueFound('Expected one value, found 0')\n",
      "executing.executing.NotOneValueFound: Expected one value, found 0\n"
     ]
    }
   ],
   "source": [
    "sequential_model.train([x_preprocessed, y_preprocessed], [None, None], [None, None], 20, 32, True)"
   ]
  },
  {
   "cell_type": "code",
   "execution_count": null,
   "metadata": {},
   "outputs": [
    {
     "data": {
      "text/plain": [
       "8"
      ]
     },
     "execution_count": 639,
     "metadata": {},
     "output_type": "execute_result"
    },
    {
     "data": {
      "image/png": "[encoded data removed]",
      "text/plain": [
       "<Figure size 640x480 with 1 Axes>"
      ]
     },
     "metadata": {},
     "output_type": "display_data"
    }
   ],
   "source": [
    "test_image = utils.minmax_normalize(x_test[np.random.randint(0,10000)])\n",
    "plt.imshow(test_image.reshape(28, 28))\n",
    "\n",
    "np.argmax(sequential_model._forward(np.expand_dims(test_image, 0)))"
   ]
  },
  {
   "cell_type": "code",
   "execution_count": null,
   "metadata": {},
   "outputs": [
    {
     "data": {
      "text/plain": [
       "(60000, 784)"
      ]
     },
     "execution_count": 610,
     "metadata": {},
     "output_type": "execute_result"
    }
   ],
   "source": [
    "x_train.shape"
   ]
  },
  {
   "cell_type": "code",
   "execution_count": null,
   "metadata": {},
   "outputs": [],
   "source": [
    "permuted_idx = np.random.permutation(range(x_train.shape[0]))\n",
    "x_permuted = x_train[permuted_idx]\n",
    "y_permuted = y_train[permuted_idx]"
   ]
  },
  {
   "cell_type": "code",
   "execution_count": null,
   "metadata": {},
   "outputs": [
    {
     "data": {
      "text/plain": [
       "9"
      ]
     },
     "execution_count": 567,
     "metadata": {},
     "output_type": "execute_result"
    },
    {
     "data": {
      "image/png": "[encoded data removed]",
      "text/plain": [
       "<Figure size 640x480 with 1 Axes>"
      ]
     },
     "metadata": {},
     "output_type": "display_data"
    }
   ],
   "source": [
    "idx = np.random.randint(0,10000)\n",
    "test_image = utils.minmax_normalize(x_permuted[idx])\n",
    "\n",
    "plt.imshow(test_image.reshape(28, 28))\n",
    "plt.xlabel(y_permuted[idx])\n",
    "\n",
    "np.argmax(sequential_model._forward(np.expand_dims(test_image, 0)))"
   ]
  },
  {
   "cell_type": "code",
   "execution_count": null,
   "metadata": {},
   "outputs": [],
   "source": []
  },
  {
   "cell_type": "code",
   "execution_count": null,
   "metadata": {},
   "outputs": [],
   "source": [
    "print"
   ]
  },
  {
   "cell_type": "code",
   "execution_count": null,
   "metadata": {},
   "outputs": [
    {
     "data": {
      "text/plain": [
       "9"
      ]
     },
     "execution_count": 475,
     "metadata": {},
     "output_type": "execute_result"
    }
   ],
   "source": []
  },
  {
   "cell_type": "code",
   "execution_count": null,
   "metadata": {},
   "outputs": [
    {
     "data": {
      "image/png": "[encoded data removed]",
      "text/plain": [
       "<Figure size 640x480 with 1 Axes>"
      ]
     },
     "metadata": {},
     "output_type": "display_data"
    }
   ],
   "source": [
    "utils.plot_accuracy_curve(sequential_model.train_accuracy, sequential_model.test_accuracy)"
   ]
  },
  {
   "cell_type": "code",
   "execution_count": null,
   "metadata": {},
   "outputs": [],
   "source": [
    "# def generate_batches(x: np.array, y: np.array, batch_size: int):\n",
    "#     \"\"\"\n",
    "#     :param x - features array with (n, ...) shape\n",
    "#     :param y - one hot ground truth array with (n, k) shape\n",
    "#     :batch_size - number of elements in single batch\n",
    "#     ----------------------------------------------------------------------------\n",
    "#     n - number of examples in data set\n",
    "#     k - number of classes\n",
    "#     \"\"\"\n",
    "#     for i in range(0, x.shape[0], batch_size):\n",
    "#         yield (\n",
    "#             x.take(indices=range(i, min(i + batch_size, x.shape[0])), axis=0),\n",
    "#             y.take(indices=range(i, min(i + batch_size, y.shape[0])), axis=0),\n",
    "#         )\n"
   ]
  },
  {
   "cell_type": "code",
   "execution_count": null,
   "metadata": {},
   "outputs": [
    {
     "data": {
      "text/plain": [
       "(60000, 784)"
      ]
     },
     "execution_count": 239,
     "metadata": {},
     "output_type": "execute_result"
    }
   ],
   "source": [
    "x_train.shape"
   ]
  },
  {
   "cell_type": "code",
   "execution_count": null,
   "metadata": {},
   "outputs": [
    {
     "data": {
      "text/plain": [
       "array([5, 0, 4, 1, 9, 2, 1, 3, 1, 4], dtype=uint8)"
      ]
     },
     "execution_count": 240,
     "metadata": {},
     "output_type": "execute_result"
    }
   ],
   "source": [
    "y_train[:10]"
   ]
  },
  {
   "cell_type": "code",
   "execution_count": null,
   "metadata": {},
   "outputs": [],
   "source": [
    "y_t = np.expand_dims(y_train, 1)"
   ]
  },
  {
   "cell_type": "code",
   "execution_count": null,
   "metadata": {},
   "outputs": [
    {
     "data": {
      "text/plain": [
       "(60000, 1)"
      ]
     },
     "execution_count": 248,
     "metadata": {},
     "output_type": "execute_result"
    }
   ],
   "source": [
    "y_t.shape"
   ]
  },
  {
   "cell_type": "code",
   "execution_count": null,
   "metadata": {},
   "outputs": [
    {
     "data": {
      "text/plain": [
       "(60000,)"
      ]
     },
     "execution_count": 249,
     "metadata": {},
     "output_type": "execute_result"
    }
   ],
   "source": [
    "y_train.shape"
   ]
  },
  {
   "cell_type": "code",
   "execution_count": null,
   "metadata": {},
   "outputs": [],
   "source": [
    "# for x, y in generate_batches(x_train, y_t, 1):\n",
    "#     print(x.shape, y.shape)"
   ]
  },
  {
   "cell_type": "code",
   "execution_count": null,
   "metadata": {},
   "outputs": [],
   "source": []
  }
 ],
 "metadata": {
  "kernelspec": {
   "display_name": "pytorchlearning",
   "language": "python",
   "name": "python3"
  },
  "language_info": {
   "codemirror_mode": {
    "name": "ipython",
    "version": 3
   },
   "file_extension": ".py",
   "mimetype": "text/x-python",
   "name": "python",
   "nbconvert_exporter": "python",
   "pygments_lexer": "ipython3",
   "version": "3.10.11"
  }
 },
 "nbformat": 4,
 "nbformat_minor": 2
}
