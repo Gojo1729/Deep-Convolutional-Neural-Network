{
 "cells": [
  {
   "cell_type": "code",
   "execution_count": 1,
   "metadata": {},
   "outputs": [],
   "source": [
    "%load_ext autoreload\n",
    "\n",
    "%autoreload 2"
   ]
  },
  {
   "cell_type": "code",
   "execution_count": 2,
   "metadata": {},
   "outputs": [],
   "source": [
    "import numpy as np"
   ]
  },
  {
   "cell_type": "code",
   "execution_count": 3,
   "metadata": {},
   "outputs": [],
   "source": [
    "image = np.random.randn(30, 32, 32)\n",
    "filters = np.random.randn(32,image.shape[0], 3,3) * 0.1"
   ]
  },
  {
   "cell_type": "code",
   "execution_count": 4,
   "metadata": {},
   "outputs": [
    {
     "data": {
      "text/plain": [
       "(30, 3, 3)"
      ]
     },
     "execution_count": 4,
     "metadata": {},
     "output_type": "execute_result"
    }
   ],
   "source": [
    "patch = image[:, :3, :3]\n",
    "patch.shape"
   ]
  },
  {
   "cell_type": "code",
   "execution_count": 5,
   "metadata": {},
   "outputs": [
    {
     "data": {
      "text/plain": [
       "(30, 3, 3)"
      ]
     },
     "execution_count": 5,
     "metadata": {},
     "output_type": "execute_result"
    }
   ],
   "source": [
    "filters[0].shape"
   ]
  },
  {
   "cell_type": "code",
   "execution_count": 6,
   "metadata": {},
   "outputs": [
    {
     "data": {
      "text/plain": [
       "(30, 3, 3)"
      ]
     },
     "execution_count": 6,
     "metadata": {},
     "output_type": "execute_result"
    }
   ],
   "source": [
    "conv  = filters[0] * patch \n",
    "conv.shape"
   ]
  },
  {
   "cell_type": "code",
   "execution_count": 7,
   "metadata": {},
   "outputs": [
    {
     "data": {
      "text/plain": [
       "0.5306352811017656"
      ]
     },
     "execution_count": 7,
     "metadata": {},
     "output_type": "execute_result"
    }
   ],
   "source": [
    "np.sum(conv)"
   ]
  },
  {
   "cell_type": "code",
   "execution_count": 8,
   "metadata": {},
   "outputs": [
    {
     "data": {
      "text/plain": [
       "4.242640687119285"
      ]
     },
     "execution_count": 8,
     "metadata": {},
     "output_type": "execute_result"
    }
   ],
   "source": [
    "np.linalg.norm([[1,2],[2,3]])"
   ]
  },
  {
   "cell_type": "code",
   "execution_count": 9,
   "metadata": {},
   "outputs": [
    {
     "data": {
      "text/plain": [
       "4.242640687119285"
      ]
     },
     "execution_count": 9,
     "metadata": {},
     "output_type": "execute_result"
    }
   ],
   "source": [
    "np.sqrt(np.sum(np.array([[1,2],[2,3]])**2))"
   ]
  },
  {
   "cell_type": "markdown",
   "metadata": {},
   "source": [
    "# Steps\n",
    "\n",
    "- Train loop\n",
    "    - Forward\n",
    "        - Conv\n",
    "        - Relu\n",
    "        - Conv\n",
    "        - Relu\n",
    "        - Dense\n",
    "        - Softmax\n",
    "        - Cross entropy\n",
    "    \n",
    "    Backprop the gradients for all the layers\n",
    "\n",
    "    Test the code for MNIST"
   ]
  },
  {
   "cell_type": "code",
   "execution_count": 10,
   "metadata": {},
   "outputs": [],
   "source": [
    "import mnist"
   ]
  },
  {
   "cell_type": "code",
   "execution_count": 28,
   "metadata": {},
   "outputs": [
    {
     "name": "stdout",
     "output_type": "stream",
     "text": [
      "Downloading train-images-idx3-ubyte.gz...\n",
      "Downloading t10k-images-idx3-ubyte.gz...\n",
      "Downloading train-labels-idx1-ubyte.gz...\n",
      "Downloading t10k-labels-idx1-ubyte.gz...\n",
      "Download complete.\n",
      "Save complete.\n"
     ]
    }
   ],
   "source": [
    "mnist.init()"
   ]
  },
  {
   "cell_type": "code",
   "execution_count": 11,
   "metadata": {},
   "outputs": [],
   "source": [
    "x_train, y_train, x_test, y_test = mnist.load()"
   ]
  },
  {
   "cell_type": "code",
   "execution_count": 12,
   "metadata": {},
   "outputs": [
    {
     "data": {
      "text/plain": [
       "(60000, 784)"
      ]
     },
     "execution_count": 12,
     "metadata": {},
     "output_type": "execute_result"
    }
   ],
   "source": [
    "x_train.shape"
   ]
  },
  {
   "cell_type": "code",
   "execution_count": 13,
   "metadata": {},
   "outputs": [
    {
     "data": {
      "image/png": "[encoded data removed]",
      "text/plain": [
       "<Figure size 640x480 with 1 Axes>"
      ]
     },
     "metadata": {},
     "output_type": "display_data"
    }
   ],
   "source": [
    "import matplotlib.pyplot as plt\n",
    "\n",
    "img = x_train[0,:].reshape(28,28) # First image in the training set.\n",
    "plt.imshow(img,cmap='gray')\n",
    "plt.show() # Show the image"
   ]
  },
  {
   "cell_type": "code",
   "execution_count": 51,
   "metadata": {},
   "outputs": [],
   "source": [
    "from layer import Layer"
   ]
  },
  {
   "cell_type": "code",
   "execution_count": 160,
   "metadata": {},
   "outputs": [
    {
     "data": {
      "text/plain": [
       "20.0"
      ]
     },
     "execution_count": 160,
     "metadata": {},
     "output_type": "execute_result"
    }
   ],
   "source": [
    "200 * 0.1"
   ]
  },
  {
   "cell_type": "code",
   "execution_count": 378,
   "metadata": {},
   "outputs": [],
   "source": [
    "class ReluLayer(Layer):\n",
    "    def __init__(self, layer_name):\n",
    "        super().__init__(layer_name)\n",
    "        self.cached_output = None\n",
    "\n",
    "    def forward(self, input_activations):\n",
    "        self.cached_output = np.maximum(0, input_activations)\n",
    "        return self.cached_output\n",
    "\n",
    "    def backward(self, global_gradients, lr):\n",
    "        local_grad = np.array(global_gradients, copy=True)\n",
    "        local_grad[self.cached_output <= 0] = 0 \n",
    "        return local_grad"
   ]
  },
  {
   "cell_type": "code",
   "execution_count": 379,
   "metadata": {},
   "outputs": [],
   "source": [
    "class DenseLayer(Layer):\n",
    "    def __init__(self, layer_name, input_nodes, output_nodes, debug = False):\n",
    "        super().__init__(layer_name)\n",
    "        self.debug = debug\n",
    "        self.input_nodes = input_nodes\n",
    "        self.output_nodes = output_nodes\n",
    "\n",
    "        '''\n",
    "        Gloro/Xavier initialization for weights for faster convergence\n",
    "        https://pyimagesearch.com/2021/05/06/understanding-weight-initialization-for-neural-networks/\n",
    "        '''\n",
    "        limit = np.sqrt(2 / float(input_nodes + output_nodes))\n",
    "        self.weights = np.random.normal(0.0, limit, size = (input_nodes, output_nodes))\n",
    "\n",
    "        ''' \n",
    "        No initialization is required for bias,\n",
    "        https://cs231n.github.io/neural-networks-2/#:~:text=Initializing%20the%20biases\n",
    "        '''\n",
    "        self.bias = np.zeros(output_nodes)\n",
    "\n",
    "        #we need to cache the input and output from this layer for the purpose of backprop\n",
    "        self.cached_input = None\n",
    "        self.cached_output = None\n",
    "\n",
    "    # overriden\n",
    "    def forward(self, input_activations):\n",
    "        '''\n",
    "\n",
    "        @param input_activations - Output of previous layer\n",
    "        @return softmax of logits\n",
    "\n",
    "        Dense layer forward prop\n",
    "        1. Flatten the input\n",
    "        2. Dot product with weights and add the bias\n",
    "        3. Cache the input and logits for backpop\n",
    "        4. Apply softmax on logits and return it\n",
    "        '''\n",
    "\n",
    "        shape = input_activations.shape\n",
    "        layer_input = input_activations.ravel().reshape(shape[0], -1)\n",
    "        layer_logits = np.dot(layer_input, self.weights) + self.bias\n",
    "\n",
    "        self.cached_input = layer_input\n",
    "        self.cached_output = layer_logits\n",
    "        if self.debug:\n",
    "            print(f\"Cached output {self.cached_output}, ip shape {layer_input.shape}, op shape {layer_logits.shape}\")\n",
    "        return self.cached_output\n",
    "\n",
    "\n",
    "    #overriden\n",
    "    def backward(self, global_gradient, current_lr):\n",
    "        '''\n",
    "        @param global_gradient, gradients from the previous layer\n",
    "        @param current_lr \n",
    "\n",
    "\n",
    "        @returns The gradient of Loss w.r.t to the input to this layer\n",
    "        i.e the input_activations recieved during forward pass.\n",
    "\n",
    "        Dense layer backward prop\n",
    "        1. Calculate the gradients w.r.t to the weights\n",
    "        2. Calculate the gradients w.r.t to the received activations\n",
    "        and return it for usage in other previous layers.\n",
    "\n",
    "        '''\n",
    "        output_grad  = global_gradient\n",
    "        \n",
    "\n",
    "        assert output_grad.shape[1] == self.weights.T.shape[0]\n",
    "        assert self.cached_input.T.shape[1] == output_grad.shape[0]\n",
    "\n",
    "        input_grad = np.dot(output_grad, self.weights.T)\n",
    "        weight_grad = np.dot(self.cached_input.T, output_grad)\n",
    "        \n",
    "        if self.debug:\n",
    "            print(f\"weights shape {self.weights.shape}, weight grad shape {weight_grad.shape}, input_shape {self.cached_input.shape}, input_grad shape {input_grad.shape}, \")\n",
    "\n",
    "        self.weights -= current_lr * weight_grad\n",
    "        self.bias -= current_lr * np.sum(output_grad, axis=1)\n",
    "\n",
    "        return input_grad\n",
    "    \n",
    "\n"
   ]
  },
  {
   "cell_type": "code",
   "execution_count": 380,
   "metadata": {},
   "outputs": [],
   "source": [
    "dense_1 = DenseLayer(\"Dense_1\",784, 10)"
   ]
  },
  {
   "cell_type": "code",
   "execution_count": 381,
   "metadata": {},
   "outputs": [
    {
     "data": {
      "text/plain": [
       "(1, 10)"
      ]
     },
     "execution_count": 381,
     "metadata": {},
     "output_type": "execute_result"
    }
   ],
   "source": [
    "dense_1.forward(np.random.randn(1,784)).shape"
   ]
  },
  {
   "cell_type": "code",
   "execution_count": 382,
   "metadata": {},
   "outputs": [
    {
     "data": {
      "image/png": "[encoded data removed]",
      "text/plain": [
       "<Figure size 640x480 with 1 Axes>"
      ]
     },
     "metadata": {},
     "output_type": "display_data"
    }
   ],
   "source": [
    "import utils\n",
    "utils.plot_histogram(dense_1.layer_name, dense_1.weights)"
   ]
  },
  {
   "cell_type": "code",
   "execution_count": 383,
   "metadata": {},
   "outputs": [
    {
     "data": {
      "text/plain": [
       "784"
      ]
     },
     "execution_count": 383,
     "metadata": {},
     "output_type": "execute_result"
    }
   ],
   "source": [
    "28*28"
   ]
  },
  {
   "cell_type": "markdown",
   "metadata": {},
   "source": [
    "### Model"
   ]
  },
  {
   "cell_type": "code",
   "execution_count": 384,
   "metadata": {},
   "outputs": [],
   "source": [
    "from activations import Softmax_Categorical_CrossEntropy"
   ]
  },
  {
   "cell_type": "code",
   "execution_count": 385,
   "metadata": {},
   "outputs": [],
   "source": [
    "dense_1 = DenseLayer(\"Dense_1\", 784, 14)\n",
    "relu_1 = ReluLayer(\"relu_1\")\n",
    "dense_2 = DenseLayer(\"Dense_2\", 14, 10)\n",
    "\n",
    "softmax_loss = Softmax_Categorical_CrossEntropy(\"Softmax_CCE_1\")"
   ]
  },
  {
   "cell_type": "code",
   "execution_count": 386,
   "metadata": {},
   "outputs": [
    {
     "name": "stdout",
     "output_type": "stream",
     "text": [
      "loss [[16.11809565]], ypredicted [[  25.65483111  -10.41363388 -112.56138022  -27.15490806   11.87606609\n",
      "  -154.86913364  -89.65880789  -14.01506727   61.69626909   55.05658801]]\n",
      "(1, 10)\n",
      "(1, 14)\n"
     ]
    }
   ],
   "source": [
    "y = dense_1.forward(img.reshape(1, 28, 28))\n",
    "relu_y = relu_1.forward(y)\n",
    "y = dense_2.forward(relu_y)\n",
    "\n",
    "true_labels = y_train[0].reshape(1,1)\n",
    "loss = softmax_loss.forward(y, true_labels)\n",
    "print(f\"loss {loss}, ypredicted {y}\")\n",
    "\n",
    "# gradients /= samples\n",
    "\n",
    "global_grad = softmax_loss.backward(softmax_loss.cached_output, true_labels)\n",
    "print(global_grad.shape)\n",
    "\n",
    "global_grad = dense_2.backward(global_grad, 1e-6)\n",
    "print(global_grad.shape)\n",
    "global_grad = relu_1.backward(global_grad, 1e-6)\n",
    "global_grad = dense_1.backward(global_grad, 1e-06)"
   ]
  },
  {
   "cell_type": "code",
   "execution_count": 370,
   "metadata": {},
   "outputs": [
    {
     "data": {
      "text/plain": [
       "array([[144.18199485,   0.        ,   0.        ,  -0.        ,\n",
       "         -0.        ,  -0.        ,  -0.        ,   0.        ,\n",
       "        195.67880318,   0.        ,  24.86226381,  -0.        ,\n",
       "         57.19942234,   0.        ]])"
      ]
     },
     "execution_count": 370,
     "metadata": {},
     "output_type": "execute_result"
    }
   ],
   "source": [
    "relu_y"
   ]
  },
  {
   "cell_type": "code",
   "execution_count": 369,
   "metadata": {},
   "outputs": [
    {
     "data": {
      "text/plain": [
       "array([[False,  True,  True,  True,  True,  True,  True,  True, False,\n",
       "         True, False,  True, False,  True]])"
      ]
     },
     "execution_count": 369,
     "metadata": {},
     "output_type": "execute_result"
    }
   ],
   "source": [
    "relu_y <= 0"
   ]
  },
  {
   "cell_type": "code",
   "execution_count": 373,
   "metadata": {},
   "outputs": [],
   "source": [
    "global_grad[relu_y <= 0] = 0"
   ]
  },
  {
   "cell_type": "code",
   "execution_count": 372,
   "metadata": {},
   "outputs": [
    {
     "name": "stdout",
     "output_type": "stream",
     "text": [
      "[[0.52752916 0.         0.         0.         0.         0.\n",
      "  0.         0.         0.18805263 0.         0.44912853 0.\n",
      "  0.09432481 0.        ]]\n",
      "[[0.52752916 0.         0.         0.         0.         0.\n",
      "  0.         0.         0.18805263 0.         0.44912853 0.\n",
      "  0.09432481 0.        ]]\n"
     ]
    }
   ],
   "source": [
    "print(global_grad)\n",
    "global_grad[relu_y <= 0] = 0\n",
    "print(global_grad)"
   ]
  },
  {
   "cell_type": "code",
   "execution_count": 350,
   "metadata": {},
   "outputs": [
    {
     "data": {
      "text/plain": [
       "array([[False,  True,  True, False, False, False, False,  True, False,\n",
       "         True, False, False, False,  True]])"
      ]
     },
     "execution_count": 350,
     "metadata": {},
     "output_type": "execute_result"
    }
   ],
   "source": [
    "global_grad < 0"
   ]
  },
  {
   "cell_type": "code",
   "execution_count": 349,
   "metadata": {},
   "outputs": [
    {
     "ename": "ValueError",
     "evalue": "The truth value of an array with more than one element is ambiguous. Use a.any() or a.all()",
     "output_type": "error",
     "traceback": [
      "\u001b[1;31m---------------------------------------------------------------------------\u001b[0m",
      "\u001b[1;31mValueError\u001b[0m                                Traceback (most recent call last)",
      "\u001b[1;32md:\\MS\\Fall2023\\ML-6375\\Project\\code\\ML6375-Project\\CNN\\cnn.ipynb Cell 28\u001b[0m line \u001b[0;36m1\n\u001b[1;32m----> <a href='vscode-notebook-cell:/d%3A/MS/Fall2023/ML-6375/Project/code/ML6375-Project/CNN/cnn.ipynb#Y130sZmlsZQ%3D%3D?line=0'>1</a>\u001b[0m \u001b[39m0\u001b[39m \u001b[39mif\u001b[39;00m global_grad \u001b[39m<\u001b[39;49m \u001b[39m0\u001b[39;49m \u001b[39melse\u001b[39;00m \u001b[39m1\u001b[39m\n",
      "\u001b[1;31mValueError\u001b[0m: The truth value of an array with more than one element is ambiguous. Use a.any() or a.all()"
     ]
    }
   ],
   "source": [
    "0 if global_grad < 0 else 1"
   ]
  },
  {
   "cell_type": "code",
   "execution_count": 345,
   "metadata": {},
   "outputs": [
    {
     "data": {
      "text/plain": [
       "array([[False,  True,  True, False, False, False, False,  True, False,\n",
       "         True, False, False, False,  True]])"
      ]
     },
     "execution_count": 345,
     "metadata": {},
     "output_type": "execute_result"
    }
   ],
   "source": [
    "global_grad < 0"
   ]
  },
  {
   "cell_type": "code",
   "execution_count": 325,
   "metadata": {},
   "outputs": [
    {
     "data": {
      "text/plain": [
       "(1, 1, 784)"
      ]
     },
     "execution_count": 325,
     "metadata": {},
     "output_type": "execute_result"
    }
   ],
   "source": [
    "np.expand_dims(global_grad, 0).shape"
   ]
  },
  {
   "cell_type": "code",
   "execution_count": 326,
   "metadata": {},
   "outputs": [
    {
     "data": {
      "text/plain": [
       "array([[5]], dtype=uint8)"
      ]
     },
     "execution_count": 326,
     "metadata": {},
     "output_type": "execute_result"
    }
   ],
   "source": [
    "true_labels"
   ]
  },
  {
   "cell_type": "code",
   "execution_count": 327,
   "metadata": {},
   "outputs": [
    {
     "data": {
      "text/plain": [
       "(1, 1)"
      ]
     },
     "execution_count": 327,
     "metadata": {},
     "output_type": "execute_result"
    }
   ],
   "source": [
    "true_labels.shape"
   ]
  },
  {
   "cell_type": "code",
   "execution_count": 328,
   "metadata": {},
   "outputs": [
    {
     "data": {
      "text/plain": [
       "(1, 784)"
      ]
     },
     "execution_count": 328,
     "metadata": {},
     "output_type": "execute_result"
    }
   ],
   "source": [
    "global_grad.shape"
   ]
  },
  {
   "cell_type": "code",
   "execution_count": 329,
   "metadata": {},
   "outputs": [
    {
     "data": {
      "image/png": "[encoded data removed]",
      "text/plain": [
       "<Figure size 640x480 with 1 Axes>"
      ]
     },
     "metadata": {},
     "output_type": "display_data"
    }
   ],
   "source": [
    "utils.plot_histogram(\"Dense_1\", dense_1.weights)"
   ]
  },
  {
   "cell_type": "markdown",
   "metadata": {},
   "source": [
    "### Sequential"
   ]
  },
  {
   "cell_type": "code",
   "execution_count": 617,
   "metadata": {},
   "outputs": [],
   "source": [
    "from model import Sequential\n",
    "\n",
    "np.random.seed(42)\n",
    "\n",
    "dense_1 = DenseLayer(\"Dense_1\", 784, 14)\n",
    "relu_1 = ReluLayer(\"relu_1\")\n",
    "dense_2 = DenseLayer(\"Dense_2\", 14, 10)\n",
    "\n",
    "layers = [dense_1, relu_1, dense_2]\n",
    "sequential_model = Sequential(layers)"
   ]
  },
  {
   "cell_type": "code",
   "execution_count": 618,
   "metadata": {},
   "outputs": [
    {
     "data": {
      "text/plain": [
       "(60000, 784)"
      ]
     },
     "execution_count": 618,
     "metadata": {},
     "output_type": "execute_result"
    }
   ],
   "source": [
    "x_train.shape"
   ]
  },
  {
   "cell_type": "code",
   "execution_count": 619,
   "metadata": {},
   "outputs": [],
   "source": [
    "x_preprocessed = x_train[:5000]\n",
    "y_preprocessed = y_train[:5000]\n",
    "\n",
    "x_preprocessed = utils.minmax_normalize(x_preprocessed)"
   ]
  },
  {
   "cell_type": "code",
   "execution_count": 620,
   "metadata": {},
   "outputs": [
    {
     "name": "stdout",
     "output_type": "stream",
     "text": [
      "----------\n",
      "Epoch 1, Time 3.0247604846954346 seconds\n",
      "Train Accuracy 9.879999999999999, Validation accuracy 0, Test accuracy 0\n",
      "Train Loss [8459.48351141], Validation loss 0, Test loss 0\n",
      "----------\n",
      "----------\n",
      "Epoch 2, Time 2.913156270980835 seconds\n",
      "Train Accuracy 9.879999999999999, Validation accuracy 0, Test accuracy 0\n",
      "Train Loss [8948.94693556], Validation loss 0, Test loss 0\n",
      "----------\n",
      "----------\n",
      "Epoch 3, Time 3.2132554054260254 seconds\n",
      "Train Accuracy 9.58, Validation accuracy 0, Test accuracy 0\n",
      "Train Loss [8927.30769227], Validation loss 0, Test loss 0\n",
      "----------\n",
      "----------\n",
      "Epoch 4, Time 2.947688341140747 seconds\n",
      "Train Accuracy 10.24, Validation accuracy 0, Test accuracy 0\n",
      "Train Loss [8958.14308624], Validation loss 0, Test loss 0\n",
      "----------\n",
      "----------\n",
      "Epoch 5, Time 3.032496929168701 seconds\n",
      "Train Accuracy 9.68, Validation accuracy 0, Test accuracy 0\n",
      "Train Loss [8998.40767388], Validation loss 0, Test loss 0\n",
      "----------\n",
      "----------\n",
      "Epoch 6, Time 3.3541014194488525 seconds\n",
      "Train Accuracy 9.22, Validation accuracy 0, Test accuracy 0\n",
      "Train Loss [8911.17137276], Validation loss 0, Test loss 0\n",
      "----------\n",
      "----------\n",
      "Epoch 7, Time 3.172044277191162 seconds\n",
      "Train Accuracy 9.42, Validation accuracy 0, Test accuracy 0\n",
      "Train Loss [8930.9682108], Validation loss 0, Test loss 0\n",
      "----------\n",
      "----------\n",
      "Epoch 8, Time 3.1731579303741455 seconds\n",
      "Train Accuracy 9.9, Validation accuracy 0, Test accuracy 0\n",
      "Train Loss [8858.77130241], Validation loss 0, Test loss 0\n",
      "----------\n",
      "----------\n",
      "Epoch 9, Time 2.9619388580322266 seconds\n",
      "Train Accuracy 9.700000000000001, Validation accuracy 0, Test accuracy 0\n",
      "Train Loss [8783.99694303], Validation loss 0, Test loss 0\n",
      "----------\n",
      "----------\n",
      "Epoch 10, Time 2.7640063762664795 seconds\n",
      "Train Accuracy 9.46, Validation accuracy 0, Test accuracy 0\n",
      "Train Loss [8648.51858653], Validation loss 0, Test loss 0\n",
      "----------\n",
      "----------\n",
      "Epoch 11, Time 3.368368148803711 seconds\n",
      "Train Accuracy 9.28, Validation accuracy 0, Test accuracy 0\n",
      "Train Loss [8812.39710215], Validation loss 0, Test loss 0\n",
      "----------\n",
      "----------\n",
      "Epoch 12, Time 3.1429619789123535 seconds\n",
      "Train Accuracy 9.520000000000001, Validation accuracy 0, Test accuracy 0\n",
      "Train Loss [8673.54123658], Validation loss 0, Test loss 0\n",
      "----------\n"
     ]
    }
   ],
   "source": [
    "sequential_model.train([x_preprocessed, y_preprocessed], [None, None], [None, None], 20, 1, True)"
   ]
  },
  {
   "cell_type": "code",
   "execution_count": 609,
   "metadata": {},
   "outputs": [
    {
     "data": {
      "text/plain": [
       "3"
      ]
     },
     "execution_count": 609,
     "metadata": {},
     "output_type": "execute_result"
    },
    {
     "data": {
      "image/png": "[encoded data removed]",
      "text/plain": [
       "<Figure size 640x480 with 1 Axes>"
      ]
     },
     "metadata": {},
     "output_type": "display_data"
    }
   ],
   "source": [
    "test_image = utils.minmax_normalize(x_test[np.random.randint(0,10000)])\n",
    "plt.imshow(test_image.reshape(28, 28))\n",
    "\n",
    "np.argmax(sequential_model._forward(np.expand_dims(test_image, 0)))"
   ]
  },
  {
   "cell_type": "code",
   "execution_count": 610,
   "metadata": {},
   "outputs": [
    {
     "data": {
      "text/plain": [
       "(60000, 784)"
      ]
     },
     "execution_count": 610,
     "metadata": {},
     "output_type": "execute_result"
    }
   ],
   "source": [
    "x_train.shape"
   ]
  },
  {
   "cell_type": "code",
   "execution_count": 542,
   "metadata": {},
   "outputs": [],
   "source": [
    "permuted_idx = np.random.permutation(range(x_train.shape[0]))\n",
    "x_permuted = x_train[permuted_idx]\n",
    "y_permuted = y_train[permuted_idx]"
   ]
  },
  {
   "cell_type": "code",
   "execution_count": 567,
   "metadata": {},
   "outputs": [
    {
     "data": {
      "text/plain": [
       "9"
      ]
     },
     "execution_count": 567,
     "metadata": {},
     "output_type": "execute_result"
    },
    {
     "data": {
      "image/png": "[encoded data removed]",
      "text/plain": [
       "<Figure size 640x480 with 1 Axes>"
      ]
     },
     "metadata": {},
     "output_type": "display_data"
    }
   ],
   "source": [
    "idx = np.random.randint(0,10000)\n",
    "test_image = utils.minmax_normalize(x_permuted[idx])\n",
    "\n",
    "plt.imshow(test_image.reshape(28, 28))\n",
    "plt.xlabel(y_permuted[idx])\n",
    "\n",
    "np.argmax(sequential_model._forward(np.expand_dims(test_image, 0)))"
   ]
  },
  {
   "cell_type": "code",
   "execution_count": null,
   "metadata": {},
   "outputs": [],
   "source": []
  },
  {
   "cell_type": "code",
   "execution_count": null,
   "metadata": {},
   "outputs": [],
   "source": [
    "print"
   ]
  },
  {
   "cell_type": "code",
   "execution_count": 475,
   "metadata": {},
   "outputs": [
    {
     "data": {
      "text/plain": [
       "9"
      ]
     },
     "execution_count": 475,
     "metadata": {},
     "output_type": "execute_result"
    }
   ],
   "source": []
  },
  {
   "cell_type": "code",
   "execution_count": 467,
   "metadata": {},
   "outputs": [
    {
     "data": {
      "image/png": "[encoded data removed]",
      "text/plain": [
       "<Figure size 640x480 with 1 Axes>"
      ]
     },
     "metadata": {},
     "output_type": "display_data"
    }
   ],
   "source": [
    "utils.plot_accuracy_curve(sequential_model.train_accuracy, sequential_model.test_accuracy)"
   ]
  },
  {
   "cell_type": "code",
   "execution_count": 236,
   "metadata": {},
   "outputs": [],
   "source": [
    "# def generate_batches(x: np.array, y: np.array, batch_size: int):\n",
    "#     \"\"\"\n",
    "#     :param x - features array with (n, ...) shape\n",
    "#     :param y - one hot ground truth array with (n, k) shape\n",
    "#     :batch_size - number of elements in single batch\n",
    "#     ----------------------------------------------------------------------------\n",
    "#     n - number of examples in data set\n",
    "#     k - number of classes\n",
    "#     \"\"\"\n",
    "#     for i in range(0, x.shape[0], batch_size):\n",
    "#         yield (\n",
    "#             x.take(indices=range(i, min(i + batch_size, x.shape[0])), axis=0),\n",
    "#             y.take(indices=range(i, min(i + batch_size, y.shape[0])), axis=0),\n",
    "#         )\n"
   ]
  },
  {
   "cell_type": "code",
   "execution_count": 239,
   "metadata": {},
   "outputs": [
    {
     "data": {
      "text/plain": [
       "(60000, 784)"
      ]
     },
     "execution_count": 239,
     "metadata": {},
     "output_type": "execute_result"
    }
   ],
   "source": [
    "x_train.shape"
   ]
  },
  {
   "cell_type": "code",
   "execution_count": 240,
   "metadata": {},
   "outputs": [
    {
     "data": {
      "text/plain": [
       "array([5, 0, 4, 1, 9, 2, 1, 3, 1, 4], dtype=uint8)"
      ]
     },
     "execution_count": 240,
     "metadata": {},
     "output_type": "execute_result"
    }
   ],
   "source": [
    "y_train[:10]"
   ]
  },
  {
   "cell_type": "code",
   "execution_count": 247,
   "metadata": {},
   "outputs": [],
   "source": [
    "y_t = np.expand_dims(y_train, 1)"
   ]
  },
  {
   "cell_type": "code",
   "execution_count": 248,
   "metadata": {},
   "outputs": [
    {
     "data": {
      "text/plain": [
       "(60000, 1)"
      ]
     },
     "execution_count": 248,
     "metadata": {},
     "output_type": "execute_result"
    }
   ],
   "source": [
    "y_t.shape"
   ]
  },
  {
   "cell_type": "code",
   "execution_count": 249,
   "metadata": {},
   "outputs": [
    {
     "data": {
      "text/plain": [
       "(60000,)"
      ]
     },
     "execution_count": 249,
     "metadata": {},
     "output_type": "execute_result"
    }
   ],
   "source": [
    "y_train.shape"
   ]
  },
  {
   "cell_type": "code",
   "execution_count": 282,
   "metadata": {},
   "outputs": [],
   "source": [
    "# for x, y in generate_batches(x_train, y_t, 1):\n",
    "#     print(x.shape, y.shape)"
   ]
  },
  {
   "cell_type": "code",
   "execution_count": null,
   "metadata": {},
   "outputs": [],
   "source": []
  }
 ],
 "metadata": {
  "kernelspec": {
   "display_name": "pytorchlearning",
   "language": "python",
   "name": "python3"
  },
  "language_info": {
   "codemirror_mode": {
    "name": "ipython",
    "version": 3
   },
   "file_extension": ".py",
   "mimetype": "text/x-python",
   "name": "python",
   "nbconvert_exporter": "python",
   "pygments_lexer": "ipython3",
   "version": "3.10.11"
  }
 },
 "nbformat": 4,
 "nbformat_minor": 2
}
