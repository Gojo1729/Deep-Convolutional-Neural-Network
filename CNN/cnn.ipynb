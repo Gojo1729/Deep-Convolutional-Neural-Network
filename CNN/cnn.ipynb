{
 "cells": [
  {
   "cell_type": "code",
   "execution_count": 200,
   "metadata": {},
   "outputs": [
    {
     "name": "stdout",
     "output_type": "stream",
     "text": [
      "The autoreload extension is already loaded. To reload it, use:\n",
      "  %reload_ext autoreload\n"
     ]
    }
   ],
   "source": [
    "%load_ext autoreload\n",
    "\n",
    "%autoreload 2"
   ]
  },
  {
   "cell_type": "code",
   "execution_count": 201,
   "metadata": {},
   "outputs": [],
   "source": [
    "import numpy as np"
   ]
  },
  {
   "cell_type": "code",
   "execution_count": 202,
   "metadata": {},
   "outputs": [],
   "source": [
    "image = np.random.randn(30, 32, 32)\n",
    "filters = np.random.randn(32,image.shape[0], 3,3) * 0.1"
   ]
  },
  {
   "cell_type": "code",
   "execution_count": 203,
   "metadata": {},
   "outputs": [
    {
     "data": {
      "text/plain": [
       "(30, 3, 3)"
      ]
     },
     "execution_count": 203,
     "metadata": {},
     "output_type": "execute_result"
    }
   ],
   "source": [
    "patch = image[:, :3, :3]\n",
    "patch.shape"
   ]
  },
  {
   "cell_type": "code",
   "execution_count": 204,
   "metadata": {},
   "outputs": [
    {
     "data": {
      "text/plain": [
       "(30, 3, 3)"
      ]
     },
     "execution_count": 204,
     "metadata": {},
     "output_type": "execute_result"
    }
   ],
   "source": [
    "filters[0].shape"
   ]
  },
  {
   "cell_type": "code",
   "execution_count": 205,
   "metadata": {},
   "outputs": [
    {
     "data": {
      "text/plain": [
       "(30, 3, 3)"
      ]
     },
     "execution_count": 205,
     "metadata": {},
     "output_type": "execute_result"
    }
   ],
   "source": [
    "conv  = filters[0] * patch \n",
    "conv.shape"
   ]
  },
  {
   "cell_type": "code",
   "execution_count": 206,
   "metadata": {},
   "outputs": [
    {
     "data": {
      "text/plain": [
       "-0.6419162977240856"
      ]
     },
     "execution_count": 206,
     "metadata": {},
     "output_type": "execute_result"
    }
   ],
   "source": [
    "np.sum(conv)"
   ]
  },
  {
   "cell_type": "code",
   "execution_count": 207,
   "metadata": {},
   "outputs": [
    {
     "data": {
      "text/plain": [
       "4.242640687119285"
      ]
     },
     "execution_count": 207,
     "metadata": {},
     "output_type": "execute_result"
    }
   ],
   "source": [
    "np.linalg.norm([[1,2],[2,3]])"
   ]
  },
  {
   "cell_type": "code",
   "execution_count": 208,
   "metadata": {},
   "outputs": [
    {
     "data": {
      "text/plain": [
       "4.242640687119285"
      ]
     },
     "execution_count": 208,
     "metadata": {},
     "output_type": "execute_result"
    }
   ],
   "source": [
    "np.sqrt(np.sum(np.array([[1,2],[2,3]])**2))"
   ]
  },
  {
   "cell_type": "markdown",
   "metadata": {},
   "source": [
    "# Steps\n",
    "\n",
    "- Train loop\n",
    "    - Forward\n",
    "        - Conv\n",
    "        - Relu\n",
    "        - Conv\n",
    "        - Relu\n",
    "        - Dense\n",
    "        - Softmax\n",
    "        - Cross entropy\n",
    "    \n",
    "    Backprop the gradients for all the layers\n",
    "\n",
    "    Test the code for MNIST"
   ]
  },
  {
   "cell_type": "code",
   "execution_count": 209,
   "metadata": {},
   "outputs": [],
   "source": [
    "import mnist"
   ]
  },
  {
   "cell_type": "code",
   "execution_count": 210,
   "metadata": {},
   "outputs": [
    {
     "name": "stdout",
     "output_type": "stream",
     "text": [
      "Downloading train-images-idx3-ubyte.gz...\n",
      "Downloading t10k-images-idx3-ubyte.gz...\n",
      "Downloading train-labels-idx1-ubyte.gz...\n",
      "Downloading t10k-labels-idx1-ubyte.gz...\n",
      "Download complete.\n",
      "Save complete.\n"
     ]
    }
   ],
   "source": [
    "mnist.init()"
   ]
  },
  {
   "cell_type": "code",
   "execution_count": 211,
   "metadata": {},
   "outputs": [],
   "source": [
    "x_train, y_train, x_test, y_test = mnist.load()"
   ]
  },
  {
   "cell_type": "code",
   "execution_count": 212,
   "metadata": {},
   "outputs": [
    {
     "data": {
      "text/plain": [
       "(60000, 784)"
      ]
     },
     "execution_count": 212,
     "metadata": {},
     "output_type": "execute_result"
    }
   ],
   "source": [
    "x_train.shape"
   ]
  },
  {
   "cell_type": "code",
   "execution_count": 213,
   "metadata": {},
   "outputs": [
    {
     "data": {
      "image/png": "[encoded data removed]",
      "text/plain": [
       "<Figure size 640x480 with 1 Axes>"
      ]
     },
     "metadata": {},
     "output_type": "display_data"
    }
   ],
   "source": [
    "import matplotlib.pyplot as plt\n",
    "\n",
    "img = x_train[0,:].reshape(28,28) # First image in the training set.\n",
    "plt.imshow(img,cmap='gray')\n",
    "plt.show() # Show the image"
   ]
  },
  {
   "cell_type": "code",
   "execution_count": 214,
   "metadata": {},
   "outputs": [],
   "source": [
    "from layer import Layer"
   ]
  },
  {
   "cell_type": "code",
   "execution_count": 215,
   "metadata": {},
   "outputs": [
    {
     "data": {
      "text/plain": [
       "20.0"
      ]
     },
     "execution_count": 215,
     "metadata": {},
     "output_type": "execute_result"
    }
   ],
   "source": [
    "200 * 0.1"
   ]
  },
  {
   "cell_type": "code",
   "execution_count": 216,
   "metadata": {},
   "outputs": [],
   "source": [
    "class ReluLayer(Layer):\n",
    "    def __init__(self, layer_name):\n",
    "        super().__init__(layer_name)\n",
    "        self.cached_output = None\n",
    "\n",
    "    def forward(self, input_activations):\n",
    "        self.cached_output = np.maximum(0, input_activations)\n",
    "        return self.cached_output\n",
    "\n",
    "    def backward(self, global_gradients, lr):\n",
    "        local_grad = np.array(global_gradients, copy=True)\n",
    "        local_grad[self.cached_output <= 0] = 0 \n",
    "        return local_grad"
   ]
  },
  {
   "cell_type": "code",
   "execution_count": 217,
   "metadata": {},
   "outputs": [],
   "source": [
    "class DenseLayer(Layer):\n",
    "    def __init__(self, layer_name, input_nodes, output_nodes, debug = False):\n",
    "        super().__init__(layer_name)\n",
    "        self.debug = debug\n",
    "        self.input_nodes = input_nodes\n",
    "        self.output_nodes = output_nodes\n",
    "\n",
    "        '''\n",
    "        Gloro/Xavier initialization for weights for faster convergence\n",
    "        https://pyimagesearch.com/2021/05/06/understanding-weight-initialization-for-neural-networks/\n",
    "        '''\n",
    "        limit = np.sqrt(2 / float(input_nodes + output_nodes))\n",
    "        self.weights = np.random.normal(0.0, limit, size = (input_nodes, output_nodes))\n",
    "\n",
    "        ''' \n",
    "        No initialization is required for bias,\n",
    "        https://cs231n.github.io/neural-networks-2/#:~:text=Initializing%20the%20biases\n",
    "        '''\n",
    "        self.bias = np.zeros(output_nodes)\n",
    "\n",
    "        #we need to cache the input and output from this layer for the purpose of backprop\n",
    "        self.cached_input = None\n",
    "        self.cached_output = None\n",
    "\n",
    "    # overriden\n",
    "    def forward(self, input_activations):\n",
    "        '''\n",
    "\n",
    "        @param input_activations - Output of previous layer\n",
    "        @return softmax of logits\n",
    "\n",
    "        Dense layer forward prop\n",
    "        1. Flatten the input\n",
    "        2. Dot product with weights and add the bias\n",
    "        3. Cache the input and logits for backpop\n",
    "        4. Apply softmax on logits and return it\n",
    "        '''\n",
    "\n",
    "        shape = input_activations.shape\n",
    "        layer_input = input_activations.ravel().reshape(shape[0], -1)\n",
    "        layer_logits = np.dot(layer_input, self.weights) + self.bias\n",
    "\n",
    "        self.cached_input = layer_input\n",
    "        self.cached_output = layer_logits\n",
    "        if self.debug:\n",
    "            print(f\"Cached output {self.cached_output}, ip shape {layer_input.shape}, op shape {layer_logits.shape}\")\n",
    "        return self.cached_output\n",
    "\n",
    "\n",
    "    #overriden\n",
    "    def backward(self, global_gradient, current_lr):\n",
    "        '''\n",
    "        @param global_gradient, gradients from the previous layer\n",
    "        @param current_lr \n",
    "\n",
    "\n",
    "        @returns The gradient of Loss w.r.t to the input to this layer\n",
    "        i.e the input_activations recieved during forward pass.\n",
    "\n",
    "        Dense layer backward prop\n",
    "        1. Calculate the gradients w.r.t to the weights\n",
    "        2. Calculate the gradients w.r.t to the received activations\n",
    "        and return it for usage in other previous layers.\n",
    "\n",
    "        '''\n",
    "        output_grad  = global_gradient\n",
    "        \n",
    "\n",
    "        assert output_grad.shape[1] == self.weights.T.shape[0]\n",
    "        assert self.cached_input.T.shape[1] == output_grad.shape[0]\n",
    "\n",
    "        input_grad = np.dot(output_grad, self.weights.T)\n",
    "        weight_grad = np.dot(self.cached_input.T, output_grad)\n",
    "        \n",
    "        if self.debug:\n",
    "            print(f\"weights shape {self.weights.shape}, weight grad shape {weight_grad.shape}, input_shape {self.cached_input.shape}, input_grad shape {input_grad.shape}, \")\n",
    "\n",
    "        self.weights -= current_lr * weight_grad\n",
    "        self.bias -= current_lr * np.sum(output_grad, axis=1)\n",
    "\n",
    "        return input_grad\n",
    "    \n",
    "\n"
   ]
  },
  {
   "cell_type": "code",
   "execution_count": 218,
   "metadata": {},
   "outputs": [],
   "source": [
    "dense_1 = DenseLayer(\"Dense_1\",784, 10)"
   ]
  },
  {
   "cell_type": "code",
   "execution_count": 219,
   "metadata": {},
   "outputs": [
    {
     "data": {
      "text/plain": [
       "(1, 10)"
      ]
     },
     "execution_count": 219,
     "metadata": {},
     "output_type": "execute_result"
    }
   ],
   "source": [
    "dense_1.forward(np.random.randn(1,784)).shape"
   ]
  },
  {
   "cell_type": "code",
   "execution_count": 220,
   "metadata": {},
   "outputs": [
    {
     "data": {
      "image/png": "[encoded data removed]",
      "text/plain": [
       "<Figure size 640x480 with 1 Axes>"
      ]
     },
     "metadata": {},
     "output_type": "display_data"
    }
   ],
   "source": [
    "import utils\n",
    "utils.plot_histogram(dense_1.layer_name, dense_1.weights)"
   ]
  },
  {
   "cell_type": "code",
   "execution_count": 221,
   "metadata": {},
   "outputs": [
    {
     "data": {
      "text/plain": [
       "784"
      ]
     },
     "execution_count": 221,
     "metadata": {},
     "output_type": "execute_result"
    }
   ],
   "source": [
    "28*28"
   ]
  },
  {
   "cell_type": "markdown",
   "metadata": {},
   "source": [
    "### Model"
   ]
  },
  {
   "cell_type": "code",
   "execution_count": 222,
   "metadata": {},
   "outputs": [],
   "source": [
    "from activations import Softmax_Categorical_CrossEntropy"
   ]
  },
  {
   "cell_type": "code",
   "execution_count": 223,
   "metadata": {},
   "outputs": [],
   "source": [
    "dense_1 = DenseLayer(\"Dense_1\", 784, 14)\n",
    "relu_1 = ReluLayer(\"relu_1\")\n",
    "dense_2 = DenseLayer(\"Dense_2\", 14, 10)\n",
    "\n",
    "softmax_loss = Softmax_Categorical_CrossEntropy(\"Softmax_CCE_1\")"
   ]
  },
  {
   "cell_type": "code",
   "execution_count": 224,
   "metadata": {},
   "outputs": [
    {
     "name": "stdout",
     "output_type": "stream",
     "text": [
      "loss [[0.56799209]], ypredicted [[-101.19999662  -54.94671767   51.83343275   45.95575211   -2.97518233\n",
      "   136.95568672  -67.89317767   30.58610947  136.68744132  -52.74373757]]\n",
      "(1, 10)\n",
      "(1, 14)\n"
     ]
    }
   ],
   "source": [
    "y = dense_1.forward(img.reshape(1, 28, 28))\n",
    "relu_y = relu_1.forward(y)\n",
    "y = dense_2.forward(relu_y)\n",
    "\n",
    "true_labels = y_train[0].reshape(1,1)\n",
    "loss = softmax_loss.forward(y, true_labels)\n",
    "print(f\"loss {loss}, ypredicted {y}\")\n",
    "\n",
    "# gradients /= samples\n",
    "\n",
    "global_grad = softmax_loss.backward(softmax_loss.cached_output, true_labels)\n",
    "print(global_grad.shape)\n",
    "\n",
    "global_grad = dense_2.backward(global_grad, 1e-6)\n",
    "print(global_grad.shape)\n",
    "global_grad = relu_1.backward(global_grad, 1e-6)\n",
    "global_grad = dense_1.backward(global_grad, 1e-06)"
   ]
  },
  {
   "cell_type": "code",
   "execution_count": 225,
   "metadata": {},
   "outputs": [
    {
     "data": {
      "text/plain": [
       "array([[  0.        ,   0.        ,  13.02058054,   0.        ,\n",
       "         73.04029884,  98.28191386, 180.76912898,   0.        ,\n",
       "        147.98560451,   0.        , 105.66986401,  25.29644812,\n",
       "          0.        , 138.45178551]])"
      ]
     },
     "execution_count": 225,
     "metadata": {},
     "output_type": "execute_result"
    }
   ],
   "source": [
    "relu_y"
   ]
  },
  {
   "cell_type": "code",
   "execution_count": 226,
   "metadata": {},
   "outputs": [
    {
     "data": {
      "text/plain": [
       "array([[ True,  True, False,  True, False, False, False,  True, False,\n",
       "         True, False, False,  True, False]])"
      ]
     },
     "execution_count": 226,
     "metadata": {},
     "output_type": "execute_result"
    }
   ],
   "source": [
    "relu_y <= 0"
   ]
  },
  {
   "cell_type": "code",
   "execution_count": 227,
   "metadata": {},
   "outputs": [
    {
     "ename": "IndexError",
     "evalue": "boolean index did not match indexed array along dimension 1; dimension is 784 but corresponding boolean dimension is 14",
     "output_type": "error",
     "traceback": [
      "\u001b[1;31m---------------------------------------------------------------------------\u001b[0m",
      "\u001b[1;31mIndexError\u001b[0m                                Traceback (most recent call last)",
      "\u001b[1;32md:\\MS\\Fall2023\\ML-6375\\Project\\code\\ML6375-Project\\CNN\\cnn.ipynb Cell 30\u001b[0m line \u001b[0;36m1\n\u001b[1;32m----> <a href='vscode-notebook-cell:/d%3A/MS/Fall2023/ML-6375/Project/code/ML6375-Project/CNN/cnn.ipynb#Y236sZmlsZQ%3D%3D?line=0'>1</a>\u001b[0m global_grad[relu_y \u001b[39m<\u001b[39m\u001b[39m=\u001b[39m \u001b[39m0\u001b[39m] \u001b[39m=\u001b[39m \u001b[39m0\u001b[39m\n",
      "\u001b[1;31mIndexError\u001b[0m: boolean index did not match indexed array along dimension 1; dimension is 784 but corresponding boolean dimension is 14"
     ]
    }
   ],
   "source": [
    "global_grad[relu_y <= 0] = 0"
   ]
  },
  {
   "cell_type": "code",
   "execution_count": null,
   "metadata": {},
   "outputs": [
    {
     "name": "stdout",
     "output_type": "stream",
     "text": [
      "[[0.52752916 0.         0.         0.         0.         0.\n",
      "  0.         0.         0.18805263 0.         0.44912853 0.\n",
      "  0.09432481 0.        ]]\n",
      "[[0.52752916 0.         0.         0.         0.         0.\n",
      "  0.         0.         0.18805263 0.         0.44912853 0.\n",
      "  0.09432481 0.        ]]\n"
     ]
    }
   ],
   "source": [
    "print(global_grad)\n",
    "global_grad[relu_y <= 0] = 0\n",
    "print(global_grad)"
   ]
  },
  {
   "cell_type": "code",
   "execution_count": null,
   "metadata": {},
   "outputs": [
    {
     "data": {
      "text/plain": [
       "array([[False,  True,  True, False, False, False, False,  True, False,\n",
       "         True, False, False, False,  True]])"
      ]
     },
     "execution_count": 345,
     "metadata": {},
     "output_type": "execute_result"
    }
   ],
   "source": [
    "global_grad < 0"
   ]
  },
  {
   "cell_type": "code",
   "execution_count": null,
   "metadata": {},
   "outputs": [
    {
     "data": {
      "text/plain": [
       "(1, 1, 784)"
      ]
     },
     "execution_count": 325,
     "metadata": {},
     "output_type": "execute_result"
    }
   ],
   "source": [
    "np.expand_dims(global_grad, 0).shape"
   ]
  },
  {
   "cell_type": "code",
   "execution_count": null,
   "metadata": {},
   "outputs": [
    {
     "data": {
      "text/plain": [
       "array([[5]], dtype=uint8)"
      ]
     },
     "execution_count": 326,
     "metadata": {},
     "output_type": "execute_result"
    }
   ],
   "source": [
    "true_labels"
   ]
  },
  {
   "cell_type": "code",
   "execution_count": null,
   "metadata": {},
   "outputs": [
    {
     "data": {
      "text/plain": [
       "(1, 1)"
      ]
     },
     "execution_count": 327,
     "metadata": {},
     "output_type": "execute_result"
    }
   ],
   "source": [
    "true_labels.shape"
   ]
  },
  {
   "cell_type": "code",
   "execution_count": null,
   "metadata": {},
   "outputs": [
    {
     "data": {
      "text/plain": [
       "(1, 784)"
      ]
     },
     "execution_count": 328,
     "metadata": {},
     "output_type": "execute_result"
    }
   ],
   "source": [
    "global_grad.shape"
   ]
  },
  {
   "cell_type": "code",
   "execution_count": null,
   "metadata": {},
   "outputs": [
    {
     "data": {
      "image/png": "[encoded data removed]",
      "text/plain": [
       "<Figure size 640x480 with 1 Axes>"
      ]
     },
     "metadata": {},
     "output_type": "display_data"
    }
   ],
   "source": [
    "utils.plot_histogram(\"Dense_1\", dense_1.weights)"
   ]
  },
  {
   "cell_type": "markdown",
   "metadata": {},
   "source": [
    "### Sequential"
   ]
  },
  {
   "cell_type": "code",
   "execution_count": 314,
   "metadata": {},
   "outputs": [],
   "source": [
    "from model import Sequential\n",
    "\n",
    "np.random.seed(42)\n",
    "\n",
    "dense_1 = DenseLayer(\"Dense_1\", 784, 14)\n",
    "relu_1 = ReluLayer(\"relu_1\")\n",
    "dense_2 = DenseLayer(\"Dense_2\", 14, 10)\n",
    "\n",
    "layers = [dense_1, relu_1, dense_2]\n",
    "sequential_model = Sequential(layers)"
   ]
  },
  {
   "cell_type": "code",
   "execution_count": 315,
   "metadata": {},
   "outputs": [
    {
     "data": {
      "text/plain": [
       "(60000, 784)"
      ]
     },
     "execution_count": 315,
     "metadata": {},
     "output_type": "execute_result"
    }
   ],
   "source": [
    "x_train.shape"
   ]
  },
  {
   "cell_type": "code",
   "execution_count": 316,
   "metadata": {},
   "outputs": [],
   "source": [
    "x_preprocessed = x_train[:40000]\n",
    "y_preprocessed = y_train[:40000]\n",
    "\n",
    "x_preprocessed = utils.minmax_normalize(x_preprocessed)"
   ]
  },
  {
   "cell_type": "code",
   "execution_count": 317,
   "metadata": {},
   "outputs": [],
   "source": [
    "x_val_preprocessed = x_train[40000: 60000]\n",
    "y_val_preprocessed = y_train[40000: 60000]\n",
    "\n",
    "x_val_preprocessed = utils.minmax_normalize(x_val_preprocessed)"
   ]
  },
  {
   "cell_type": "code",
   "execution_count": 318,
   "metadata": {},
   "outputs": [
    {
     "data": {
      "text/plain": [
       "array([7, 7, 0, ..., 5, 6, 8], dtype=uint8)"
      ]
     },
     "execution_count": 318,
     "metadata": {},
     "output_type": "execute_result"
    }
   ],
   "source": [
    "y_val_preprocessed"
   ]
  },
  {
   "cell_type": "code",
   "execution_count": 319,
   "metadata": {},
   "outputs": [
    {
     "name": "stdout",
     "output_type": "stream",
     "text": [
      "----------\n",
      "Epoch 1, Time 17.732226371765137 seconds\n",
      "Train Accuracy 92.8075, Validation accuracy 92.5\n",
      "Train Loss [9777.49610318], Validation loss [0.25957473]\n",
      "----------\n",
      "----------\n",
      "Epoch 2, Time 17.646872997283936 seconds\n",
      "Train Accuracy 93.465, Validation accuracy 93.685\n",
      "Train Loss [8863.84557316], Validation loss [0.22793467]\n",
      "----------\n",
      "----------\n",
      "Epoch 3, Time 19.009684801101685 seconds\n",
      "Train Accuracy 93.795, Validation accuracy 93.07\n",
      "Train Loss [8435.89419225], Validation loss [0.24474643]\n",
      "----------\n",
      "----------\n",
      "Epoch 4, Time 17.602104663848877 seconds\n",
      "Train Accuracy 94.11749999999999, Validation accuracy 92.65\n",
      "Train Loss [8053.74941335], Validation loss [0.2538249]\n",
      "----------\n",
      "----------\n",
      "Epoch 5, Time 23.71367907524109 seconds\n",
      "Train Accuracy 94.44500000000001, Validation accuracy 93.13\n",
      "Train Loss [7620.32231117], Validation loss [0.25059896]\n",
      "----------\n",
      "----------\n",
      "Epoch 6, Time 30.281090021133423 seconds\n",
      "Train Accuracy 94.415, Validation accuracy 92.63\n",
      "Train Loss [7477.71516087], Validation loss [0.26519247]\n",
      "----------\n",
      "----------\n",
      "Epoch 7, Time 30.952823638916016 seconds\n",
      "Train Accuracy 94.6025, Validation accuracy 92.32000000000001\n",
      "Train Loss [7312.31515901], Validation loss [0.2738922]\n",
      "----------\n",
      "----------\n",
      "Epoch 8, Time 30.319905757904053 seconds\n",
      "Train Accuracy 94.705, Validation accuracy 93.605\n",
      "Train Loss [7153.73098452], Validation loss [0.23740185]\n",
      "----------\n",
      "----------\n",
      "Epoch 9, Time 30.46926999092102 seconds\n",
      "Train Accuracy 94.7375, Validation accuracy 93.985\n",
      "Train Loss [7062.83996402], Validation loss [0.23110064]\n",
      "----------\n",
      "----------\n",
      "Epoch 10, Time 31.201266050338745 seconds\n",
      "Train Accuracy 94.72749999999999, Validation accuracy 92.69500000000001\n",
      "Train Loss [6903.41936034], Validation loss [0.27002708]\n",
      "----------\n",
      "----------\n",
      "Epoch 11, Time 33.78088927268982 seconds\n",
      "Train Accuracy 94.8725, Validation accuracy 93.395\n",
      "Train Loss [6849.15781197], Validation loss [0.2369875]\n",
      "----------\n",
      "----------\n",
      "Epoch 12, Time 30.135013103485107 seconds\n",
      "Train Accuracy 94.8075, Validation accuracy 93.755\n",
      "Train Loss [6797.7953874], Validation loss [0.24083681]\n",
      "----------\n",
      "----------\n",
      "Epoch 13, Time 31.310474157333374 seconds\n",
      "Train Accuracy 95.025, Validation accuracy 93.50500000000001\n",
      "Train Loss [6563.99463069], Validation loss [0.24749621]\n",
      "----------\n",
      "----------\n",
      "Epoch 14, Time 36.10080432891846 seconds\n",
      "Train Accuracy 95.175, Validation accuracy 93.35\n",
      "Train Loss [6418.62768198], Validation loss [0.25489197]\n",
      "----------\n",
      "----------\n",
      "Epoch 15, Time 33.534584760665894 seconds\n",
      "Train Accuracy 95.265, Validation accuracy 93.635\n",
      "Train Loss [6301.27304541], Validation loss [0.24581718]\n",
      "----------\n",
      "----------\n",
      "Epoch 16, Time 34.119664669036865 seconds\n",
      "Train Accuracy 95.1375, Validation accuracy 93.36\n",
      "Train Loss [6311.44126491], Validation loss [0.25735666]\n",
      "----------\n"
     ]
    }
   ],
   "source": [
    "sequential_model.train([x_preprocessed, y_preprocessed], [x_val_preprocessed, y_val_preprocessed], 20, 1, True)"
   ]
  },
  {
   "cell_type": "code",
   "execution_count": 312,
   "metadata": {},
   "outputs": [],
   "source": [
    "x_test_preprocessed = x_test\n",
    "y_test_preprocessed = y_test\n",
    "\n",
    "x_test_preprocessed = utils.minmax_normalize(x_test_preprocessed)"
   ]
  },
  {
   "cell_type": "code",
   "execution_count": 313,
   "metadata": {},
   "outputs": [
    {
     "data": {
      "text/plain": [
       "(91.72, array([0.36081928]))"
      ]
     },
     "execution_count": 313,
     "metadata": {},
     "output_type": "execute_result"
    }
   ],
   "source": [
    "sequential_model.test([x_test_preprocessed, y_test_preprocessed])"
   ]
  },
  {
   "cell_type": "code",
   "execution_count": 301,
   "metadata": {},
   "outputs": [
    {
     "data": {
      "text/plain": [
       "3"
      ]
     },
     "execution_count": 301,
     "metadata": {},
     "output_type": "execute_result"
    },
    {
     "data": {
      "image/png": "[encoded data removed]",
      "text/plain": [
       "<Figure size 640x480 with 1 Axes>"
      ]
     },
     "metadata": {},
     "output_type": "display_data"
    }
   ],
   "source": [
    "test_image = utils.minmax_normalize(x_test[np.random.randint(0,10000)])\n",
    "plt.imshow(test_image.reshape(28, 28))\n",
    "\n",
    "np.argmax(sequential_model._forward(np.expand_dims(test_image, 0)))"
   ]
  },
  {
   "cell_type": "code",
   "execution_count": 302,
   "metadata": {},
   "outputs": [
    {
     "data": {
      "text/plain": [
       "(60000, 784)"
      ]
     },
     "execution_count": 302,
     "metadata": {},
     "output_type": "execute_result"
    }
   ],
   "source": [
    "x_train.shape"
   ]
  },
  {
   "cell_type": "code",
   "execution_count": 303,
   "metadata": {},
   "outputs": [],
   "source": [
    "permuted_idx = np.random.permutation(range(x_train.shape[0]))\n",
    "x_permuted = x_train[permuted_idx]\n",
    "y_permuted = y_train[permuted_idx]"
   ]
  },
  {
   "cell_type": "code",
   "execution_count": 304,
   "metadata": {},
   "outputs": [
    {
     "data": {
      "text/plain": [
       "0"
      ]
     },
     "execution_count": 304,
     "metadata": {},
     "output_type": "execute_result"
    },
    {
     "data": {
      "image/png": "[encoded data removed]",
      "text/plain": [
       "<Figure size 640x480 with 1 Axes>"
      ]
     },
     "metadata": {},
     "output_type": "display_data"
    }
   ],
   "source": [
    "idx = np.random.randint(0,10000)\n",
    "test_image = utils.minmax_normalize(x_permuted[idx])\n",
    "\n",
    "plt.imshow(test_image.reshape(28, 28))\n",
    "plt.xlabel(y_permuted[idx])\n",
    "\n",
    "np.argmax(sequential_model._forward(np.expand_dims(test_image, 0)))"
   ]
  },
  {
   "cell_type": "code",
   "execution_count": 305,
   "metadata": {},
   "outputs": [
    {
     "data": {
      "image/png": "[encoded data removed]",
      "text/plain": [
       "<Figure size 640x480 with 1 Axes>"
      ]
     },
     "metadata": {},
     "output_type": "display_data"
    }
   ],
   "source": [
    "utils.plot_accuracy_curve(sequential_model.train_accuracy, sequential_model.validation_accuracy)"
   ]
  },
  {
   "cell_type": "code",
   "execution_count": 306,
   "metadata": {},
   "outputs": [
    {
     "data": {
      "image/png": "[encoded data removed]",
      "text/plain": [
       "<Figure size 640x480 with 1 Axes>"
      ]
     },
     "metadata": {},
     "output_type": "display_data"
    }
   ],
   "source": [
    "utils.plot_accuracy_curve(sequential_model.train_loss, sequential_model.validation_loss)"
   ]
  },
  {
   "cell_type": "code",
   "execution_count": 307,
   "metadata": {},
   "outputs": [
    {
     "data": {
      "image/png": "[encoded data removed]",
      "text/plain": [
       "<Figure size 640x480 with 1 Axes>"
      ]
     },
     "metadata": {},
     "output_type": "display_data"
    }
   ],
   "source": [
    "utils.plot_learning_curve(sequential_model.validation_loss)"
   ]
  },
  {
   "cell_type": "code",
   "execution_count": null,
   "metadata": {},
   "outputs": [],
   "source": [
    "# def generate_batches(x: np.array, y: np.array, batch_size: int):\n",
    "#     \"\"\"\n",
    "#     :param x - features array with (n, ...) shape\n",
    "#     :param y - one hot ground truth array with (n, k) shape\n",
    "#     :batch_size - number of elements in single batch\n",
    "#     ----------------------------------------------------------------------------\n",
    "#     n - number of examples in data set\n",
    "#     k - number of classes\n",
    "#     \"\"\"\n",
    "#     for i in range(0, x.shape[0], batch_size):\n",
    "#         yield (\n",
    "#             x.take(indices=range(i, min(i + batch_size, x.shape[0])), axis=0),\n",
    "#             y.take(indices=range(i, min(i + batch_size, y.shape[0])), axis=0),\n",
    "#         )\n"
   ]
  },
  {
   "cell_type": "code",
   "execution_count": null,
   "metadata": {},
   "outputs": [
    {
     "data": {
      "text/plain": [
       "(60000, 784)"
      ]
     },
     "execution_count": 239,
     "metadata": {},
     "output_type": "execute_result"
    }
   ],
   "source": [
    "x_train.shape"
   ]
  },
  {
   "cell_type": "code",
   "execution_count": null,
   "metadata": {},
   "outputs": [
    {
     "data": {
      "text/plain": [
       "array([5, 0, 4, 1, 9, 2, 1, 3, 1, 4], dtype=uint8)"
      ]
     },
     "execution_count": 240,
     "metadata": {},
     "output_type": "execute_result"
    }
   ],
   "source": [
    "y_train[:10]"
   ]
  },
  {
   "cell_type": "code",
   "execution_count": null,
   "metadata": {},
   "outputs": [],
   "source": [
    "y_t = np.expand_dims(y_train, 1)"
   ]
  },
  {
   "cell_type": "code",
   "execution_count": null,
   "metadata": {},
   "outputs": [
    {
     "data": {
      "text/plain": [
       "(60000, 1)"
      ]
     },
     "execution_count": 248,
     "metadata": {},
     "output_type": "execute_result"
    }
   ],
   "source": [
    "y_t.shape"
   ]
  },
  {
   "cell_type": "code",
   "execution_count": null,
   "metadata": {},
   "outputs": [
    {
     "data": {
      "text/plain": [
       "(60000,)"
      ]
     },
     "execution_count": 249,
     "metadata": {},
     "output_type": "execute_result"
    }
   ],
   "source": [
    "y_train.shape"
   ]
  },
  {
   "cell_type": "code",
   "execution_count": null,
   "metadata": {},
   "outputs": [],
   "source": [
    "# for x, y in generate_batches(x_train, y_t, 1):\n",
    "#     print(x.shape, y.shape)"
   ]
  },
  {
   "cell_type": "code",
   "execution_count": null,
   "metadata": {},
   "outputs": [],
   "source": []
  }
 ],
 "metadata": {
  "kernelspec": {
   "display_name": "pytorchlearning",
   "language": "python",
   "name": "python3"
  },
  "language_info": {
   "codemirror_mode": {
    "name": "ipython",
    "version": 3
   },
   "file_extension": ".py",
   "mimetype": "text/x-python",
   "name": "python",
   "nbconvert_exporter": "python",
   "pygments_lexer": "ipython3",
   "version": "3.10.11"
  }
 },
 "nbformat": 4,
 "nbformat_minor": 2
}
