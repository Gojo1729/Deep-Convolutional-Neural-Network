{
 "cells": [
  {
   "cell_type": "code",
   "execution_count": 1,
   "metadata": {},
   "outputs": [],
   "source": [
    "%load_ext autoreload\n",
    "\n",
    "%autoreload 2"
   ]
  },
  {
   "cell_type": "code",
   "execution_count": 2,
   "metadata": {},
   "outputs": [],
   "source": [
    "import numpy as np"
   ]
  },
  {
   "cell_type": "code",
   "execution_count": 3,
   "metadata": {},
   "outputs": [],
   "source": [
    "image = np.random.randn(30, 32, 32)\n",
    "filters = np.random.randn(32,image.shape[0], 3,3) * 0.1"
   ]
  },
  {
   "cell_type": "code",
   "execution_count": 4,
   "metadata": {},
   "outputs": [
    {
     "data": {
      "text/plain": [
       "(30, 3, 3)"
      ]
     },
     "execution_count": 4,
     "metadata": {},
     "output_type": "execute_result"
    }
   ],
   "source": [
    "patch = image[:, :3, :3]\n",
    "patch.shape"
   ]
  },
  {
   "cell_type": "code",
   "execution_count": 5,
   "metadata": {},
   "outputs": [
    {
     "data": {
      "text/plain": [
       "(30, 3, 3)"
      ]
     },
     "execution_count": 5,
     "metadata": {},
     "output_type": "execute_result"
    }
   ],
   "source": [
    "filters[0].shape"
   ]
  },
  {
   "cell_type": "code",
   "execution_count": 6,
   "metadata": {},
   "outputs": [
    {
     "data": {
      "text/plain": [
       "(30, 3, 3)"
      ]
     },
     "execution_count": 6,
     "metadata": {},
     "output_type": "execute_result"
    }
   ],
   "source": [
    "conv  = filters[0] * patch \n",
    "conv.shape"
   ]
  },
  {
   "cell_type": "code",
   "execution_count": 7,
   "metadata": {},
   "outputs": [
    {
     "data": {
      "text/plain": [
       "1.582441675822285"
      ]
     },
     "execution_count": 7,
     "metadata": {},
     "output_type": "execute_result"
    }
   ],
   "source": [
    "np.sum(conv)"
   ]
  },
  {
   "cell_type": "code",
   "execution_count": 8,
   "metadata": {},
   "outputs": [
    {
     "data": {
      "text/plain": [
       "4.242640687119285"
      ]
     },
     "execution_count": 8,
     "metadata": {},
     "output_type": "execute_result"
    }
   ],
   "source": [
    "np.linalg.norm([[1,2],[2,3]])"
   ]
  },
  {
   "cell_type": "code",
   "execution_count": 9,
   "metadata": {},
   "outputs": [
    {
     "data": {
      "text/plain": [
       "4.242640687119285"
      ]
     },
     "execution_count": 9,
     "metadata": {},
     "output_type": "execute_result"
    }
   ],
   "source": [
    "np.sqrt(np.sum(np.array([[1,2],[2,3]])**2))"
   ]
  },
  {
   "cell_type": "markdown",
   "metadata": {},
   "source": [
    "# Steps\n",
    "\n",
    "- Train loop\n",
    "    - Forward\n",
    "        - Conv\n",
    "        - Relu\n",
    "        - Conv\n",
    "        - Relu\n",
    "        - Dense\n",
    "        - Softmax\n",
    "        - Cross entropy\n",
    "    \n",
    "    Backprop the gradients for all the layers\n",
    "\n",
    "    Test the code for MNIST"
   ]
  },
  {
   "cell_type": "code",
   "execution_count": 10,
   "metadata": {},
   "outputs": [],
   "source": [
    "import mnist"
   ]
  },
  {
   "cell_type": "code",
   "execution_count": 11,
   "metadata": {},
   "outputs": [
    {
     "name": "stdout",
     "output_type": "stream",
     "text": [
      "Downloading train-images-idx3-ubyte.gz...\n",
      "Downloading t10k-images-idx3-ubyte.gz...\n",
      "Downloading train-labels-idx1-ubyte.gz...\n",
      "Downloading t10k-labels-idx1-ubyte.gz...\n",
      "Download complete.\n",
      "Save complete.\n"
     ]
    }
   ],
   "source": [
    "mnist.init()"
   ]
  },
  {
   "cell_type": "code",
   "execution_count": 12,
   "metadata": {},
   "outputs": [],
   "source": [
    "x_train, y_train, x_test, y_test = mnist.load()"
   ]
  },
  {
   "cell_type": "code",
   "execution_count": 13,
   "metadata": {},
   "outputs": [
    {
     "data": {
      "text/plain": [
       "(60000, 784)"
      ]
     },
     "execution_count": 13,
     "metadata": {},
     "output_type": "execute_result"
    }
   ],
   "source": [
    "x_train.shape"
   ]
  },
  {
   "cell_type": "code",
   "execution_count": 14,
   "metadata": {},
   "outputs": [
    {
     "data": {
      "image/png": "[encoded data removed]",
      "text/plain": [
       "<Figure size 640x480 with 1 Axes>"
      ]
     },
     "metadata": {},
     "output_type": "display_data"
    }
   ],
   "source": [
    "import matplotlib.pyplot as plt\n",
    "\n",
    "img = x_train[0,:].reshape(28,28) # First image in the training set.\n",
    "plt.imshow(img,cmap='gray')\n",
    "plt.show() # Show the image"
   ]
  },
  {
   "cell_type": "code",
   "execution_count": 15,
   "metadata": {},
   "outputs": [],
   "source": [
    "from layer import Layer"
   ]
  },
  {
   "cell_type": "code",
   "execution_count": 16,
   "metadata": {},
   "outputs": [
    {
     "data": {
      "text/plain": [
       "20.0"
      ]
     },
     "execution_count": 16,
     "metadata": {},
     "output_type": "execute_result"
    }
   ],
   "source": [
    "200 * 0.1"
   ]
  },
  {
   "cell_type": "code",
   "execution_count": 17,
   "metadata": {},
   "outputs": [],
   "source": [
    "class ReluLayer(Layer):\n",
    "    def __init__(self, layer_name):\n",
    "        super().__init__(layer_name)\n",
    "        self.cached_output = None\n",
    "\n",
    "    def forward(self, input_activations):\n",
    "        self.cached_output = np.maximum(0, input_activations)\n",
    "        return self.cached_output\n",
    "\n",
    "    def backward(self, global_gradients, lr):\n",
    "        local_grad = np.array(global_gradients, copy=True)\n",
    "        local_grad[self.cached_output <= 0] = 0 \n",
    "        return local_grad"
   ]
  },
  {
   "cell_type": "code",
   "execution_count": 18,
   "metadata": {},
   "outputs": [],
   "source": [
    "class DenseLayer(Layer):\n",
    "    def __init__(self, layer_name, input_nodes, output_nodes, debug = False):\n",
    "        super().__init__(layer_name)\n",
    "        self.debug = debug\n",
    "        self.input_nodes = input_nodes\n",
    "        self.output_nodes = output_nodes\n",
    "\n",
    "        '''\n",
    "        Gloro/Xavier initialization for weights for faster convergence\n",
    "        https://pyimagesearch.com/2021/05/06/understanding-weight-initialization-for-neural-networks/\n",
    "        '''\n",
    "        limit = np.sqrt(2 / float(input_nodes + output_nodes))\n",
    "        self.weights = np.random.normal(0.0, limit, size = (input_nodes, output_nodes))\n",
    "\n",
    "        ''' \n",
    "        No initialization is required for bias,\n",
    "        https://cs231n.github.io/neural-networks-2/#:~:text=Initializing%20the%20biases\n",
    "        '''\n",
    "        self.bias = np.zeros((1, output_nodes))\n",
    "\n",
    "        #we need to cache the input and output from this layer for the purpose of backprop\n",
    "        self.cached_input = None\n",
    "        self.cached_output = None\n",
    "\n",
    "    # overriden\n",
    "    def forward(self, input_activations):\n",
    "        '''\n",
    "\n",
    "        @param input_activations - Output of previous layer\n",
    "        @return softmax of logits\n",
    "\n",
    "        Dense layer forward prop\n",
    "        1. Flatten the input\n",
    "        2. Dot product with weights and add the bias\n",
    "        3. Cache the input and logits for backpop\n",
    "        4. Apply softmax on logits and return it\n",
    "        '''\n",
    "\n",
    "        shape = input_activations.shape\n",
    "        layer_input = input_activations.ravel().reshape(shape[0], -1)\n",
    "        layer_logits = np.dot(layer_input, self.weights) + self.bias\n",
    "\n",
    "        self.cached_input = layer_input\n",
    "        self.cached_output = layer_logits\n",
    "        if self.debug:\n",
    "            print(f\"Cached output {self.cached_output}, ip shape {layer_input.shape}, op shape {layer_logits.shape}\")\n",
    "        return self.cached_output\n",
    "\n",
    "\n",
    "    #overriden\n",
    "    def backward(self, global_gradient, current_lr):\n",
    "        '''\n",
    "        @param global_gradient, gradients from the previous layer\n",
    "        @param current_lr \n",
    "\n",
    "\n",
    "        @returns The gradient of Loss w.r.t to the input to this layer\n",
    "        i.e the input_activations recieved during forward pass.\n",
    "\n",
    "        Dense layer backward prop\n",
    "        1. Calculate the gradients w.r.t to the weights\n",
    "        2. Calculate the gradients w.r.t to the received activations\n",
    "        and return it for usage in other previous layers.\n",
    "\n",
    "        '''\n",
    "        output_grad  = global_gradient\n",
    "        samples = global_gradient.shape[0]\n",
    "\n",
    "        assert output_grad.shape[1] == self.weights.T.shape[0]\n",
    "        assert self.cached_input.T.shape[1] == output_grad.shape[0]\n",
    "\n",
    "        input_grad = np.dot(output_grad, self.weights.T) / samples\n",
    "        weight_grad = np.dot(self.cached_input.T, output_grad) / samples\n",
    "        \n",
    "        if self.debug:\n",
    "            print(f\"weights shape {self.weights.shape}, weight grad shape {weight_grad.shape}, input_shape {self.cached_input.shape}, input_grad shape {input_grad.shape}, \")\n",
    "\n",
    "        self.weights -= current_lr * weight_grad\n",
    "        self.bias -= current_lr * np.sum(output_grad, axis=0, keepdims=True) \n",
    "\n",
    "        return input_grad\n",
    "    \n",
    "\n"
   ]
  },
  {
   "cell_type": "code",
   "execution_count": 19,
   "metadata": {},
   "outputs": [],
   "source": [
    "dense_1 = DenseLayer(\"Dense_1\",784, 10)"
   ]
  },
  {
   "cell_type": "code",
   "execution_count": 20,
   "metadata": {},
   "outputs": [
    {
     "data": {
      "text/plain": [
       "(1, 10)"
      ]
     },
     "execution_count": 20,
     "metadata": {},
     "output_type": "execute_result"
    }
   ],
   "source": [
    "dense_1.forward(np.random.randn(1,784)).shape"
   ]
  },
  {
   "cell_type": "code",
   "execution_count": 21,
   "metadata": {},
   "outputs": [
    {
     "data": {
      "image/png": "[encoded data removed]",
      "text/plain": [
       "<Figure size 640x480 with 1 Axes>"
      ]
     },
     "metadata": {},
     "output_type": "display_data"
    }
   ],
   "source": [
    "import utils\n",
    "utils.plot_histogram(dense_1.layer_name, dense_1.weights)"
   ]
  },
  {
   "cell_type": "code",
   "execution_count": 22,
   "metadata": {},
   "outputs": [
    {
     "data": {
      "text/plain": [
       "784"
      ]
     },
     "execution_count": 22,
     "metadata": {},
     "output_type": "execute_result"
    }
   ],
   "source": [
    "28*28"
   ]
  },
  {
   "cell_type": "markdown",
   "metadata": {},
   "source": [
    "### Model"
   ]
  },
  {
   "cell_type": "code",
   "execution_count": 23,
   "metadata": {},
   "outputs": [],
   "source": [
    "from activations import Softmax_Categorical_CrossEntropy"
   ]
  },
  {
   "cell_type": "code",
   "execution_count": 24,
   "metadata": {},
   "outputs": [],
   "source": [
    "dense_1 = DenseLayer(\"Dense_1\", 784, 14)\n",
    "relu_1 = ReluLayer(\"relu_1\")\n",
    "dense_2 = DenseLayer(\"Dense_2\", 14, 10)\n",
    "\n",
    "softmax_loss = Softmax_Categorical_CrossEntropy(\"Softmax_CCE_1\")"
   ]
  },
  {
   "cell_type": "code",
   "execution_count": 25,
   "metadata": {},
   "outputs": [
    {
     "name": "stdout",
     "output_type": "stream",
     "text": [
      "Softmax output shape (1, 10), ytrue shape (1, 1)\n",
      "Softmax_y shape (1, 10), samples 1, y_true (1, 1)\n",
      "loss [[16.11809565]], ypredicted [[ -64.38072336   -5.84860161  -73.87305575  -27.09337998 -166.52477814\n",
      "   -31.17058378 -112.1567524    97.88818675   22.30242767   14.53461919]]\n",
      "y softmax shape (1, 10), y_true shape (1, 1)\n",
      "(1, 10)\n",
      "(1, 14)\n"
     ]
    }
   ],
   "source": [
    "y = dense_1.forward(img.reshape(1, 28, 28))\n",
    "relu_y = relu_1.forward(y)\n",
    "y = dense_2.forward(relu_y)\n",
    "\n",
    "true_labels = y_train[0].reshape(1,1)\n",
    "loss = softmax_loss.forward(y, true_labels)\n",
    "print(f\"loss {loss}, ypredicted {y}\")\n",
    "\n",
    "# gradients /= samples\n",
    "\n",
    "global_grad = softmax_loss.backward(softmax_loss.cached_output, true_labels)\n",
    "print(global_grad.shape)\n",
    "\n",
    "global_grad = dense_2.backward(global_grad, 1e-6)\n",
    "print(global_grad.shape)\n",
    "global_grad = relu_1.backward(global_grad, 1e-6)\n",
    "global_grad = dense_1.backward(global_grad, 1e-06)"
   ]
  },
  {
   "cell_type": "code",
   "execution_count": 26,
   "metadata": {},
   "outputs": [
    {
     "data": {
      "text/plain": [
       "(784, 14)"
      ]
     },
     "execution_count": 26,
     "metadata": {},
     "output_type": "execute_result"
    }
   ],
   "source": [
    "dense_1.weights.shape   "
   ]
  },
  {
   "cell_type": "code",
   "execution_count": 27,
   "metadata": {},
   "outputs": [
    {
     "data": {
      "image/png": "[encoded data removed]",
      "text/plain": [
       "<Figure size 640x480 with 1 Axes>"
      ]
     },
     "metadata": {},
     "output_type": "display_data"
    }
   ],
   "source": [
    "utils.plot_histogram(\"Dense_1\", dense_1.weights)"
   ]
  },
  {
   "cell_type": "markdown",
   "metadata": {},
   "source": [
    "### Sequential"
   ]
  },
  {
   "cell_type": "code",
   "execution_count": 146,
   "metadata": {},
   "outputs": [],
   "source": [
    "%autoreload 2"
   ]
  },
  {
   "cell_type": "code",
   "execution_count": 191,
   "metadata": {},
   "outputs": [],
   "source": [
    "from model import Sequential\n",
    "\n",
    "np.random.seed(42)\n",
    "\n",
    "dense_1 = DenseLayer(\"Dense_1\", 784, 32, debug=False)\n",
    "relu_1 = ReluLayer(\"relu_1\")\n",
    "dense_2 = DenseLayer(\"Dense_2\", 32, 16, debug=False)\n",
    "relu_2 = ReluLayer(\"relu_2\")\n",
    "dense_3 = DenseLayer(\"Dense3\", 16, 10, debug=False)\n",
    "\n",
    "layers = [dense_1, relu_1, dense_2, relu_2, dense_3]\n",
    "sequential_model = Sequential(layers)"
   ]
  },
  {
   "cell_type": "code",
   "execution_count": 192,
   "metadata": {},
   "outputs": [],
   "source": [
    "x_preprocessed = x_train[:60000]\n",
    "y_preprocessed = y_train[:60000]\n",
    "\n",
    "x_preprocessed = utils.minmax_normalize(x_preprocessed)"
   ]
  },
  {
   "cell_type": "code",
   "execution_count": 193,
   "metadata": {},
   "outputs": [
    {
     "name": "stdout",
     "output_type": "stream",
     "text": [
      "----------\n",
      "Epoch 1, Time 4.35245680809021 seconds\n",
      "Train Accuracy 13.455, Validation accuracy 0, Test accuracy 0\n",
      "Train Loss 0.14225558421937026, Validation loss 0, Test loss 0\n",
      "----------\n",
      "----------\n",
      "Epoch 2, Time 3.813793420791626 seconds\n",
      "Train Accuracy 16.56833333333333, Validation accuracy 0, Test accuracy 0\n",
      "Train Loss 0.14028418986946684, Validation loss 0, Test loss 0\n",
      "----------\n",
      "----------\n",
      "Epoch 3, Time 3.866729736328125 seconds\n",
      "Train Accuracy 20.578333333333333, Validation accuracy 0, Test accuracy 0\n",
      "Train Loss 0.13826899073239213, Validation loss 0, Test loss 0\n",
      "----------\n",
      "----------\n",
      "Epoch 4, Time 3.8389194011688232 seconds\n",
      "Train Accuracy 24.926666666666666, Validation accuracy 0, Test accuracy 0\n",
      "Train Loss 0.13617208964712563, Validation loss 0, Test loss 0\n",
      "----------\n",
      "----------\n",
      "Epoch 5, Time 3.7591278553009033 seconds\n",
      "Train Accuracy 29.515, Validation accuracy 0, Test accuracy 0\n",
      "Train Loss 0.13401703056237588, Validation loss 0, Test loss 0\n",
      "----------\n",
      "----------\n",
      "Epoch 6, Time 4.073256015777588 seconds\n",
      "Train Accuracy 32.7, Validation accuracy 0, Test accuracy 0\n",
      "Train Loss 0.13179143535068719, Validation loss 0, Test loss 0\n",
      "----------\n",
      "----------\n",
      "Epoch 7, Time 3.9274165630340576 seconds\n",
      "Train Accuracy 35.901666666666664, Validation accuracy 0, Test accuracy 0\n",
      "Train Loss 0.12946409105261564, Validation loss 0, Test loss 0\n",
      "----------\n",
      "----------\n",
      "Epoch 8, Time 2.4966788291931152 seconds\n",
      "Train Accuracy 38.54166666666667, Validation accuracy 0, Test accuracy 0\n",
      "Train Loss 0.12702261426619738, Validation loss 0, Test loss 0\n",
      "----------\n",
      "----------\n",
      "Epoch 9, Time 3.6330316066741943 seconds\n",
      "Train Accuracy 40.906666666666666, Validation accuracy 0, Test accuracy 0\n",
      "Train Loss 0.12445257900451041, Validation loss 0, Test loss 0\n",
      "----------\n",
      "----------\n",
      "Epoch 10, Time 4.014333963394165 seconds\n",
      "Train Accuracy 42.80166666666666, Validation accuracy 0, Test accuracy 0\n",
      "Train Loss 0.12176721792338908, Validation loss 0, Test loss 0\n",
      "----------\n",
      "----------\n",
      "Epoch 11, Time 3.8152496814727783 seconds\n",
      "Train Accuracy 44.48166666666667, Validation accuracy 0, Test accuracy 0\n",
      "Train Loss 0.11902096631474297, Validation loss 0, Test loss 0\n",
      "----------\n",
      "----------\n",
      "Epoch 12, Time 4.301997423171997 seconds\n",
      "Train Accuracy 46.17, Validation accuracy 0, Test accuracy 0\n",
      "Train Loss 0.11628225079426718, Validation loss 0, Test loss 0\n",
      "----------\n",
      "----------\n",
      "Epoch 13, Time 3.267509698867798 seconds\n",
      "Train Accuracy 47.55666666666667, Validation accuracy 0, Test accuracy 0\n",
      "Train Loss 0.11356118287075799, Validation loss 0, Test loss 0\n",
      "----------\n",
      "----------\n",
      "Epoch 14, Time 3.8080947399139404 seconds\n",
      "Train Accuracy 48.95666666666666, Validation accuracy 0, Test accuracy 0\n",
      "Train Loss 0.11085472000901002, Validation loss 0, Test loss 0\n",
      "----------\n",
      "----------\n",
      "Epoch 15, Time 3.9361376762390137 seconds\n",
      "Train Accuracy 50.29333333333334, Validation accuracy 0, Test accuracy 0\n",
      "Train Loss 0.10817293120595321, Validation loss 0, Test loss 0\n",
      "----------\n",
      "----------\n",
      "Epoch 16, Time 3.7414767742156982 seconds\n",
      "Train Accuracy 51.625, Validation accuracy 0, Test accuracy 0\n",
      "Train Loss 0.10551484458740305, Validation loss 0, Test loss 0\n",
      "----------\n",
      "----------\n",
      "Epoch 17, Time 3.731626033782959 seconds\n",
      "Train Accuracy 52.76499999999999, Validation accuracy 0, Test accuracy 0\n",
      "Train Loss 0.1028935796754363, Validation loss 0, Test loss 0\n",
      "----------\n",
      "----------\n",
      "Epoch 18, Time 4.2160820960998535 seconds\n",
      "Train Accuracy 53.97666666666666, Validation accuracy 0, Test accuracy 0\n",
      "Train Loss 0.10031693594750606, Validation loss 0, Test loss 0\n",
      "----------\n",
      "----------\n",
      "Epoch 19, Time 3.753203868865967 seconds\n",
      "Train Accuracy 55.11000000000001, Validation accuracy 0, Test accuracy 0\n",
      "Train Loss 0.09778946576517887, Validation loss 0, Test loss 0\n",
      "----------\n"
     ]
    }
   ],
   "source": [
    "sequential_model.train([x_preprocessed, y_preprocessed], [None, None], [None, None], 20, 16, debug=False)"
   ]
  },
  {
   "cell_type": "code",
   "execution_count": 194,
   "metadata": {},
   "outputs": [
    {
     "data": {
      "text/plain": [
       "9"
      ]
     },
     "execution_count": 194,
     "metadata": {},
     "output_type": "execute_result"
    },
    {
     "data": {
      "image/png": "[encoded data removed]",
      "text/plain": [
       "<Figure size 640x480 with 1 Axes>"
      ]
     },
     "metadata": {},
     "output_type": "display_data"
    }
   ],
   "source": [
    "test_image = utils.minmax_normalize(x_test[np.random.randint(0,10000)])\n",
    "plt.imshow(test_image.reshape(28, 28))\n",
    "\n",
    "np.argmax(sequential_model._forward(np.expand_dims(test_image, 0)))"
   ]
  },
  {
   "cell_type": "code",
   "execution_count": null,
   "metadata": {},
   "outputs": [
    {
     "data": {
      "text/plain": [
       "(60000, 784)"
      ]
     },
     "execution_count": 610,
     "metadata": {},
     "output_type": "execute_result"
    }
   ],
   "source": [
    "x_train.shape"
   ]
  },
  {
   "cell_type": "code",
   "execution_count": 196,
   "metadata": {},
   "outputs": [
    {
     "data": {
      "image/png": "[encoded data removed]",
      "text/plain": [
       "<Figure size 640x480 with 1 Axes>"
      ]
     },
     "metadata": {},
     "output_type": "display_data"
    }
   ],
   "source": [
    "utils.plot_accuracy_curve(sequential_model.train_accuracy, sequential_model.test_accuracy)"
   ]
  },
  {
   "cell_type": "code",
   "execution_count": null,
   "metadata": {},
   "outputs": [],
   "source": [
    "# def generate_batches(x: np.array, y: np.array, batch_size: int):\n",
    "#     \"\"\"\n",
    "#     :param x - features array with (n, ...) shape\n",
    "#     :param y - one hot ground truth array with (n, k) shape\n",
    "#     :batch_size - number of elements in single batch\n",
    "#     ----------------------------------------------------------------------------\n",
    "#     n - number of examples in data set\n",
    "#     k - number of classes\n",
    "#     \"\"\"\n",
    "#     for i in range(0, x.shape[0], batch_size):\n",
    "#         yield (\n",
    "#             x.take(indices=range(i, min(i + batch_size, x.shape[0])), axis=0),\n",
    "#             y.take(indices=range(i, min(i + batch_size, y.shape[0])), axis=0),\n",
    "#         )\n"
   ]
  },
  {
   "cell_type": "code",
   "execution_count": null,
   "metadata": {},
   "outputs": [
    {
     "data": {
      "text/plain": [
       "(60000, 784)"
      ]
     },
     "execution_count": 239,
     "metadata": {},
     "output_type": "execute_result"
    }
   ],
   "source": [
    "x_train.shape"
   ]
  },
  {
   "cell_type": "code",
   "execution_count": null,
   "metadata": {},
   "outputs": [
    {
     "data": {
      "text/plain": [
       "array([5, 0, 4, 1, 9, 2, 1, 3, 1, 4], dtype=uint8)"
      ]
     },
     "execution_count": 240,
     "metadata": {},
     "output_type": "execute_result"
    }
   ],
   "source": [
    "y_train[:10]"
   ]
  },
  {
   "cell_type": "code",
   "execution_count": null,
   "metadata": {},
   "outputs": [],
   "source": [
    "y_t = np.expand_dims(y_train, 1)"
   ]
  },
  {
   "cell_type": "code",
   "execution_count": null,
   "metadata": {},
   "outputs": [
    {
     "data": {
      "text/plain": [
       "(60000, 1)"
      ]
     },
     "execution_count": 248,
     "metadata": {},
     "output_type": "execute_result"
    }
   ],
   "source": [
    "y_t.shape"
   ]
  },
  {
   "cell_type": "code",
   "execution_count": null,
   "metadata": {},
   "outputs": [
    {
     "data": {
      "text/plain": [
       "(60000,)"
      ]
     },
     "execution_count": 249,
     "metadata": {},
     "output_type": "execute_result"
    }
   ],
   "source": [
    "y_train.shape"
   ]
  },
  {
   "cell_type": "code",
   "execution_count": null,
   "metadata": {},
   "outputs": [],
   "source": [
    "# for x, y in generate_batches(x_train, y_t, 1):\n",
    "#     print(x.shape, y.shape)"
   ]
  },
  {
   "cell_type": "code",
   "execution_count": null,
   "metadata": {},
   "outputs": [],
   "source": []
  }
 ],
 "metadata": {
  "kernelspec": {
   "display_name": "pytorchlearning",
   "language": "python",
   "name": "python3"
  },
  "language_info": {
   "codemirror_mode": {
    "name": "ipython",
    "version": 3
   },
   "file_extension": ".py",
   "mimetype": "text/x-python",
   "name": "python",
   "nbconvert_exporter": "python",
   "pygments_lexer": "ipython3",
   "version": "3.10.11"
  }
 },
 "nbformat": 4,
 "nbformat_minor": 2
}
