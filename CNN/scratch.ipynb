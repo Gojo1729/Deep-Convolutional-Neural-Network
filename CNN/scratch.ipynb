{
 "cells": [
  {
   "cell_type": "code",
   "execution_count": 1,
   "metadata": {},
   "outputs": [],
   "source": [
    "import numpy as np"
   ]
  },
  {
   "cell_type": "code",
   "execution_count": 72,
   "metadata": {},
   "outputs": [],
   "source": [
    "n_examples = 2\n",
    "n_classes = 10"
   ]
  },
  {
   "cell_type": "code",
   "execution_count": 73,
   "metadata": {},
   "outputs": [],
   "source": [
    "y2_cap = np.random.randn(n_examples, n_classes)"
   ]
  },
  {
   "cell_type": "code",
   "execution_count": 74,
   "metadata": {},
   "outputs": [
    {
     "data": {
      "text/plain": [
       "(2, 10)"
      ]
     },
     "execution_count": 74,
     "metadata": {},
     "output_type": "execute_result"
    }
   ],
   "source": [
    "y2_cap.shape"
   ]
  },
  {
   "cell_type": "code",
   "execution_count": 75,
   "metadata": {},
   "outputs": [],
   "source": [
    "exponents = np.exp(y2_cap - np.max(y2_cap))\n",
    "y2_cap_softmax = exponents / (np.sum(exponents))"
   ]
  },
  {
   "cell_type": "code",
   "execution_count": 76,
   "metadata": {},
   "outputs": [
    {
     "data": {
      "text/plain": [
       "array([[0.01435404, 0.0285987 , 0.0278682 , 0.00279488, 0.12187904,\n",
       "        0.01633921, 0.07578386, 0.0114579 , 0.05598773, 0.01438927],\n",
       "       [0.03083385, 0.07949121, 0.06419838, 0.07925507, 0.2331755 ,\n",
       "        0.01447734, 0.01070684, 0.07061817, 0.00874103, 0.03904978]])"
      ]
     },
     "execution_count": 76,
     "metadata": {},
     "output_type": "execute_result"
    }
   ],
   "source": [
    "y2_cap_softmax"
   ]
  },
  {
   "cell_type": "code",
   "execution_count": 104,
   "metadata": {},
   "outputs": [],
   "source": [
    "y = np.array(range(n_examples))\n",
    "y = y.reshape(1, n_examples)"
   ]
  },
  {
   "cell_type": "code",
   "execution_count": 105,
   "metadata": {},
   "outputs": [
    {
     "data": {
      "text/plain": [
       "(1, 2)"
      ]
     },
     "execution_count": 105,
     "metadata": {},
     "output_type": "execute_result"
    }
   ],
   "source": [
    "y.shape"
   ]
  },
  {
   "cell_type": "code",
   "execution_count": 106,
   "metadata": {},
   "outputs": [
    {
     "data": {
      "text/plain": [
       "array([[0, 1]])"
      ]
     },
     "execution_count": 106,
     "metadata": {},
     "output_type": "execute_result"
    }
   ],
   "source": [
    "y"
   ]
  },
  {
   "cell_type": "code",
   "execution_count": 107,
   "metadata": {},
   "outputs": [
    {
     "data": {
      "text/plain": [
       "(2, 10)"
      ]
     },
     "execution_count": 107,
     "metadata": {},
     "output_type": "execute_result"
    }
   ],
   "source": [
    "y2_cap_softmax.shape"
   ]
  },
  {
   "cell_type": "code",
   "execution_count": 108,
   "metadata": {},
   "outputs": [
    {
     "data": {
      "text/plain": [
       "array([0.01435404, 0.0285987 , 0.0278682 , 0.00279488, 0.12187904,\n",
       "       0.01633921, 0.07578386, 0.0114579 , 0.05598773, 0.01438927])"
      ]
     },
     "execution_count": 108,
     "metadata": {},
     "output_type": "execute_result"
    }
   ],
   "source": [
    "y2_cap_softmax[0]"
   ]
  },
  {
   "cell_type": "code",
   "execution_count": 109,
   "metadata": {},
   "outputs": [],
   "source": [
    "m = y.shape[0]"
   ]
  },
  {
   "cell_type": "code",
   "execution_count": 125,
   "metadata": {},
   "outputs": [],
   "source": [
    "log_likelihood = -np.log(y2_cap_softmax[range(m), y])"
   ]
  },
  {
   "cell_type": "code",
   "execution_count": 111,
   "metadata": {},
   "outputs": [
    {
     "data": {
      "text/plain": [
       "array([[0.01435404, 0.0285987 , 0.0278682 , 0.00279488, 0.12187904,\n",
       "        0.01633921, 0.07578386, 0.0114579 , 0.05598773, 0.01438927],\n",
       "       [0.03083385, 0.07949121, 0.06419838, 0.07925507, 0.2331755 ,\n",
       "        0.01447734, 0.01070684, 0.07061817, 0.00874103, 0.03904978]])"
      ]
     },
     "execution_count": 111,
     "metadata": {},
     "output_type": "execute_result"
    }
   ],
   "source": [
    "y2_cap_softmax"
   ]
  },
  {
   "cell_type": "code",
   "execution_count": 120,
   "metadata": {},
   "outputs": [
    {
     "data": {
      "text/plain": [
       "1"
      ]
     },
     "execution_count": 120,
     "metadata": {},
     "output_type": "execute_result"
    }
   ],
   "source": [
    "m"
   ]
  },
  {
   "cell_type": "code",
   "execution_count": 119,
   "metadata": {},
   "outputs": [
    {
     "data": {
      "text/plain": [
       "[[0]]"
      ]
     },
     "execution_count": 119,
     "metadata": {},
     "output_type": "execute_result"
    }
   ],
   "source": [
    "[list(range(m))]"
   ]
  },
  {
   "cell_type": "code",
   "execution_count": 124,
   "metadata": {},
   "outputs": [
    {
     "data": {
      "text/plain": [
       "array([[0, 1]])"
      ]
     },
     "execution_count": 124,
     "metadata": {},
     "output_type": "execute_result"
    }
   ],
   "source": [
    "y"
   ]
  },
  {
   "cell_type": "code",
   "execution_count": 123,
   "metadata": {},
   "outputs": [
    {
     "data": {
      "text/plain": [
       "array([[0.01435404, 0.07949121]])"
      ]
     },
     "execution_count": 123,
     "metadata": {},
     "output_type": "execute_result"
    }
   ],
   "source": [
    "y2_cap_softmax[range(2), y]"
   ]
  },
  {
   "cell_type": "code",
   "execution_count": 112,
   "metadata": {},
   "outputs": [
    {
     "data": {
      "text/plain": [
       "array([[0, 1]])"
      ]
     },
     "execution_count": 112,
     "metadata": {},
     "output_type": "execute_result"
    }
   ],
   "source": [
    "y"
   ]
  },
  {
   "cell_type": "code",
   "execution_count": 113,
   "metadata": {},
   "outputs": [
    {
     "data": {
      "text/plain": [
       "array([[0.01435404, 0.0285987 ]])"
      ]
     },
     "execution_count": 113,
     "metadata": {},
     "output_type": "execute_result"
    }
   ],
   "source": [
    "y2_cap_softmax[range(m), y]"
   ]
  },
  {
   "cell_type": "code",
   "execution_count": 56,
   "metadata": {},
   "outputs": [
    {
     "data": {
      "text/plain": [
       "(9, 9)"
      ]
     },
     "execution_count": 56,
     "metadata": {},
     "output_type": "execute_result"
    }
   ],
   "source": [
    "y2_cap_softmax[range(m), y].shape"
   ]
  },
  {
   "cell_type": "code",
   "execution_count": 52,
   "metadata": {},
   "outputs": [
    {
     "data": {
      "text/plain": [
       "array([[5.33289539, 6.42062604, 6.32607411, 5.20201027, 4.86370973,\n",
       "        3.89355982, 5.86923594, 5.04684617, 6.12305448],\n",
       "       [4.86651006, 2.85931297, 4.68627059, 6.19747676, 6.15880816,\n",
       "        6.85169258, 6.86275533, 5.56998578, 8.29570999],\n",
       "       [6.11103261, 3.64050205, 4.76067144, 7.62736586, 4.26702564,\n",
       "        5.84368942, 5.30381765, 3.56374432, 4.56630533],\n",
       "       [4.13444575, 3.66500196, 6.84767667, 4.70970245, 4.71221612,\n",
       "        5.54901906, 4.34326789, 6.88009665, 5.41667853],\n",
       "       [5.01851844, 3.00888072, 4.86824123, 3.96918701, 2.89131905,\n",
       "        5.14911288, 4.98336785, 5.45800918, 4.10194162],\n",
       "       [5.31471164, 3.44577043, 7.30614604, 6.15855046, 5.23635321,\n",
       "        3.58056082, 5.61523499, 5.69132191, 5.87605222],\n",
       "       [3.49595774, 5.40977476, 6.7639385 , 4.33700815, 5.30311209,\n",
       "        4.37953262, 5.08297148, 5.9169563 , 3.12052791],\n",
       "       [5.01075488, 4.37229107, 5.48671571, 4.43789649, 2.88454231,\n",
       "        3.19117865, 5.357994  , 6.08027722, 5.67926722],\n",
       "       [4.41576386, 5.42868948, 4.63938772, 3.54330704, 5.61241146,\n",
       "        6.00518211, 4.46171541, 4.2971958 , 4.89647261]])"
      ]
     },
     "execution_count": 52,
     "metadata": {},
     "output_type": "execute_result"
    }
   ],
   "source": [
    "log_likelihood"
   ]
  },
  {
   "cell_type": "code",
   "execution_count": 53,
   "metadata": {},
   "outputs": [],
   "source": [
    "loss = np.sum(log_likelihood) / m"
   ]
  },
  {
   "cell_type": "code",
   "execution_count": 54,
   "metadata": {},
   "outputs": [
    {
     "data": {
      "text/plain": [
       "45.628099542475375"
      ]
     },
     "execution_count": 54,
     "metadata": {},
     "output_type": "execute_result"
    }
   ],
   "source": [
    "loss"
   ]
  },
  {
   "cell_type": "code",
   "execution_count": null,
   "metadata": {},
   "outputs": [],
   "source": [
    "raw_x_train, raw_x_test = x_mnist_train, x_mnist_test\n",
    "x_mnist_train, x_mnist_test = np.expand_dims(raw_x_train, axis=1), np.expand_dims(raw_x_test, axis=1)\n",
    "x_mnist_train = x_mnist_train / 255\n",
    "x_mnist_test = x_mnist_test / 255\n",
    "x_mnist_train.max()\n",
    "x_mnist_train.shape\n",
    "np.unique(y_mnist_train[:5000], return_counts=True)\n",
    "sequential_model.reset_params()\n",
    "sequential_model.train([x_mnist_train[:5000], y_mnist_train[:5000]], [x_mnist_test[:5000], y_mnist_test[:5000]], epochs=5, learning_rate=1e-02, debug=True, batch_size=8)"
   ]
  },
  {
   "cell_type": "code",
   "execution_count": null,
   "metadata": {},
   "outputs": [],
   "source": [
    "# import mnist\n",
    "# # mnist.init()\n",
    "# x_mnist_train, y_mnist_train, x_mnist_test, y_mnist_test = mnist.load()\n",
    "\n",
    "# x_mnist_train, x_mnist_test = x_mnist_train.reshape((x_mnist_train.shape[0],28, 28)), x_mnist_test.reshape((x_mnist_test.shape[0], 28, 28))"
   ]
  }
 ],
 "metadata": {
  "kernelspec": {
   "display_name": "pytorchlearning",
   "language": "python",
   "name": "python3"
  },
  "language_info": {
   "codemirror_mode": {
    "name": "ipython",
    "version": 3
   },
   "file_extension": ".py",
   "mimetype": "text/x-python",
   "name": "python",
   "nbconvert_exporter": "python",
   "pygments_lexer": "ipython3",
   "version": "3.10.11"
  }
 },
 "nbformat": 4,
 "nbformat_minor": 2
}
