{
 "cells": [
  {
   "cell_type": "code",
   "execution_count": 1,
   "metadata": {},
   "outputs": [],
   "source": [
    "import matplotlib.pyplot as plt\n",
    "import os"
   ]
  },
  {
   "cell_type": "code",
   "execution_count": 2,
   "metadata": {},
   "outputs": [],
   "source": [
    "import glob"
   ]
  },
  {
   "cell_type": "code",
   "execution_count": 7,
   "metadata": {},
   "outputs": [
    {
     "name": "stdout",
     "output_type": "stream",
     "text": [
      "+ 25112\n",
      "- 33997\n",
      "0 6914\n",
      "1 26520\n",
      "2 26141\n",
      "3 10909\n",
      "4 7396\n",
      "5 3545\n",
      "6 3118\n",
      "7 2909\n",
      "8 3068\n",
      "9 3737\n",
      "= 13104\n",
      "div 868\n",
      "times 3251\n",
      "u 1269\n",
      "v 1558\n",
      "w 556\n",
      "X 26594\n",
      "y 9340\n",
      "z 5870\n"
     ]
    }
   ],
   "source": [
    "data = {}\n",
    "for folder in glob.glob(\"./data/*\"):\n",
    "    f_name = folder.split(\"\\\\\")[1]\n",
    "    if f_name not in data:\n",
    "        n_files = glob.glob(f\"{folder}\\*.jpg\")\n",
    "        data[f_name] = len(n_files)\n",
    "        print(f_name, len(n_files))\n"
   ]
  },
  {
   "cell_type": "code",
   "execution_count": 8,
   "metadata": {},
   "outputs": [
    {
     "data": {
      "text/plain": [
       "[('-', 33997),\n",
       " ('X', 26594),\n",
       " ('1', 26520),\n",
       " ('2', 26141),\n",
       " ('+', 25112),\n",
       " ('=', 13104),\n",
       " ('3', 10909),\n",
       " ('y', 9340),\n",
       " ('4', 7396),\n",
       " ('0', 6914),\n",
       " ('z', 5870),\n",
       " ('9', 3737),\n",
       " ('5', 3545),\n",
       " ('times', 3251),\n",
       " ('6', 3118),\n",
       " ('8', 3068),\n",
       " ('7', 2909),\n",
       " ('v', 1558),\n",
       " ('u', 1269),\n",
       " ('div', 868),\n",
       " ('w', 556)]"
      ]
     },
     "execution_count": 8,
     "metadata": {},
     "output_type": "execute_result"
    }
   ],
   "source": [
    "sorted(data.items(), key = lambda x:x[1], reverse=True)"
   ]
  },
  {
   "cell_type": "code",
   "execution_count": 16,
   "metadata": {},
   "outputs": [
    {
     "data": {
      "text/plain": [
       "dict_values([25112, 33997, 6914, 26520, 26141, 10909, 7396, 3545, 3118, 2909, 3068, 3737, 13104, 868, 3251, 1269, 1558, 556, 26594, 9340, 5870])"
      ]
     },
     "execution_count": 16,
     "metadata": {},
     "output_type": "execute_result"
    }
   ],
   "source": [
    "data.values()"
   ]
  },
  {
   "cell_type": "code",
   "execution_count": 34,
   "metadata": {},
   "outputs": [
    {
     "name": "stdout",
     "output_type": "stream",
     "text": [
      "Collecting seaborn\n",
      "  Downloading seaborn-0.13.0-py3-none-any.whl (294 kB)\n",
      "     ---------------------------------------- 0.0/294.6 kB ? eta -:--:--\n",
      "     ------------- ------------------------ 102.4/294.6 kB 2.0 MB/s eta 0:00:01\n",
      "     -------------------------------------- 294.6/294.6 kB 4.6 MB/s eta 0:00:00\n",
      "Requirement already satisfied: pandas>=1.2 in c:\\users\\shivs\\anaconda3\\envs\\pytorchlearning\\lib\\site-packages (from seaborn) (2.1.2)\n",
      "Requirement already satisfied: numpy!=1.24.0,>=1.20 in c:\\users\\shivs\\anaconda3\\envs\\pytorchlearning\\lib\\site-packages (from seaborn) (1.26.1)\n",
      "Requirement already satisfied: matplotlib!=3.6.1,>=3.3 in c:\\users\\shivs\\anaconda3\\envs\\pytorchlearning\\lib\\site-packages (from seaborn) (3.8.0)\n",
      "Requirement already satisfied: fonttools>=4.22.0 in c:\\users\\shivs\\anaconda3\\envs\\pytorchlearning\\lib\\site-packages (from matplotlib!=3.6.1,>=3.3->seaborn) (4.43.1)\n",
      "Requirement already satisfied: python-dateutil>=2.7 in c:\\users\\shivs\\anaconda3\\envs\\pytorchlearning\\lib\\site-packages (from matplotlib!=3.6.1,>=3.3->seaborn) (2.8.2)\n",
      "Requirement already satisfied: cycler>=0.10 in c:\\users\\shivs\\anaconda3\\envs\\pytorchlearning\\lib\\site-packages (from matplotlib!=3.6.1,>=3.3->seaborn) (0.12.1)\n",
      "Requirement already satisfied: contourpy>=1.0.1 in c:\\users\\shivs\\anaconda3\\envs\\pytorchlearning\\lib\\site-packages (from matplotlib!=3.6.1,>=3.3->seaborn) (1.1.1)\n",
      "Requirement already satisfied: kiwisolver>=1.0.1 in c:\\users\\shivs\\anaconda3\\envs\\pytorchlearning\\lib\\site-packages (from matplotlib!=3.6.1,>=3.3->seaborn) (1.4.5)\n",
      "Requirement already satisfied: packaging>=20.0 in c:\\users\\shivs\\anaconda3\\envs\\pytorchlearning\\lib\\site-packages (from matplotlib!=3.6.1,>=3.3->seaborn) (23.0)\n",
      "Requirement already satisfied: pillow>=6.2.0 in c:\\users\\shivs\\anaconda3\\envs\\pytorchlearning\\lib\\site-packages (from matplotlib!=3.6.1,>=3.3->seaborn) (9.3.0)\n",
      "Requirement already satisfied: pyparsing>=2.3.1 in c:\\users\\shivs\\anaconda3\\envs\\pytorchlearning\\lib\\site-packages (from matplotlib!=3.6.1,>=3.3->seaborn) (3.1.1)\n",
      "Requirement already satisfied: pytz>=2020.1 in c:\\users\\shivs\\anaconda3\\envs\\pytorchlearning\\lib\\site-packages (from pandas>=1.2->seaborn) (2023.3.post1)\n",
      "Requirement already satisfied: tzdata>=2022.1 in c:\\users\\shivs\\anaconda3\\envs\\pytorchlearning\\lib\\site-packages (from pandas>=1.2->seaborn) (2023.3)\n",
      "Requirement already satisfied: six>=1.5 in c:\\users\\shivs\\anaconda3\\envs\\pytorchlearning\\lib\\site-packages (from python-dateutil>=2.7->matplotlib!=3.6.1,>=3.3->seaborn) (1.16.0)\n",
      "Installing collected packages: seaborn\n",
      "Successfully installed seaborn-0.13.0\n"
     ]
    }
   ],
   "source": [
    "! pip install seaborn"
   ]
  },
  {
   "cell_type": "code",
   "execution_count": 28,
   "metadata": {},
   "outputs": [],
   "source": [
    "import seaborn as sns\n",
    "import pandas as pd"
   ]
  },
  {
   "cell_type": "code",
   "execution_count": 29,
   "metadata": {},
   "outputs": [],
   "source": [
    "df = pd.DataFrame()\n",
    "df[\"Distribution\"] = list(data.values())\n",
    "df[\"Classes\"] = list(data.keys())"
   ]
  },
  {
   "cell_type": "code",
   "execution_count": 32,
   "metadata": {},
   "outputs": [
    {
     "data": {
      "text/html": [
       "<div>\n",
       "<style scoped>\n",
       "    .dataframe tbody tr th:only-of-type {\n",
       "        vertical-align: middle;\n",
       "    }\n",
       "\n",
       "    .dataframe tbody tr th {\n",
       "        vertical-align: top;\n",
       "    }\n",
       "\n",
       "    .dataframe thead th {\n",
       "        text-align: right;\n",
       "    }\n",
       "</style>\n",
       "<table border=\"1\" class=\"dataframe\">\n",
       "  <thead>\n",
       "    <tr style=\"text-align: right;\">\n",
       "      <th></th>\n",
       "      <th>Distribution</th>\n",
       "      <th>Classes</th>\n",
       "    </tr>\n",
       "  </thead>\n",
       "  <tbody>\n",
       "    <tr>\n",
       "      <th>0</th>\n",
       "      <td>25112</td>\n",
       "      <td>+</td>\n",
       "    </tr>\n",
       "    <tr>\n",
       "      <th>1</th>\n",
       "      <td>33997</td>\n",
       "      <td>-</td>\n",
       "    </tr>\n",
       "    <tr>\n",
       "      <th>2</th>\n",
       "      <td>6914</td>\n",
       "      <td>0</td>\n",
       "    </tr>\n",
       "    <tr>\n",
       "      <th>3</th>\n",
       "      <td>26520</td>\n",
       "      <td>1</td>\n",
       "    </tr>\n",
       "    <tr>\n",
       "      <th>4</th>\n",
       "      <td>26141</td>\n",
       "      <td>2</td>\n",
       "    </tr>\n",
       "  </tbody>\n",
       "</table>\n",
       "</div>"
      ],
      "text/plain": [
       "   Distribution Classes\n",
       "0         25112       +\n",
       "1         33997       -\n",
       "2          6914       0\n",
       "3         26520       1\n",
       "4         26141       2"
      ]
     },
     "execution_count": 32,
     "metadata": {},
     "output_type": "execute_result"
    }
   ],
   "source": [
    "df.head()"
   ]
  },
  {
   "cell_type": "code",
   "execution_count": 33,
   "metadata": {},
   "outputs": [],
   "source": [
    "df = df.sort_values(\"Distribution\", ascending=False)"
   ]
  },
  {
   "cell_type": "code",
   "execution_count": 34,
   "metadata": {},
   "outputs": [
    {
     "data": {
      "text/html": [
       "<div>\n",
       "<style scoped>\n",
       "    .dataframe tbody tr th:only-of-type {\n",
       "        vertical-align: middle;\n",
       "    }\n",
       "\n",
       "    .dataframe tbody tr th {\n",
       "        vertical-align: top;\n",
       "    }\n",
       "\n",
       "    .dataframe thead th {\n",
       "        text-align: right;\n",
       "    }\n",
       "</style>\n",
       "<table border=\"1\" class=\"dataframe\">\n",
       "  <thead>\n",
       "    <tr style=\"text-align: right;\">\n",
       "      <th></th>\n",
       "      <th>Distribution</th>\n",
       "      <th>Classes</th>\n",
       "    </tr>\n",
       "  </thead>\n",
       "  <tbody>\n",
       "    <tr>\n",
       "      <th>1</th>\n",
       "      <td>33997</td>\n",
       "      <td>-</td>\n",
       "    </tr>\n",
       "    <tr>\n",
       "      <th>18</th>\n",
       "      <td>26594</td>\n",
       "      <td>X</td>\n",
       "    </tr>\n",
       "    <tr>\n",
       "      <th>3</th>\n",
       "      <td>26520</td>\n",
       "      <td>1</td>\n",
       "    </tr>\n",
       "    <tr>\n",
       "      <th>4</th>\n",
       "      <td>26141</td>\n",
       "      <td>2</td>\n",
       "    </tr>\n",
       "    <tr>\n",
       "      <th>0</th>\n",
       "      <td>25112</td>\n",
       "      <td>+</td>\n",
       "    </tr>\n",
       "    <tr>\n",
       "      <th>12</th>\n",
       "      <td>13104</td>\n",
       "      <td>=</td>\n",
       "    </tr>\n",
       "    <tr>\n",
       "      <th>5</th>\n",
       "      <td>10909</td>\n",
       "      <td>3</td>\n",
       "    </tr>\n",
       "    <tr>\n",
       "      <th>19</th>\n",
       "      <td>9340</td>\n",
       "      <td>y</td>\n",
       "    </tr>\n",
       "    <tr>\n",
       "      <th>6</th>\n",
       "      <td>7396</td>\n",
       "      <td>4</td>\n",
       "    </tr>\n",
       "    <tr>\n",
       "      <th>2</th>\n",
       "      <td>6914</td>\n",
       "      <td>0</td>\n",
       "    </tr>\n",
       "    <tr>\n",
       "      <th>20</th>\n",
       "      <td>5870</td>\n",
       "      <td>z</td>\n",
       "    </tr>\n",
       "    <tr>\n",
       "      <th>11</th>\n",
       "      <td>3737</td>\n",
       "      <td>9</td>\n",
       "    </tr>\n",
       "    <tr>\n",
       "      <th>7</th>\n",
       "      <td>3545</td>\n",
       "      <td>5</td>\n",
       "    </tr>\n",
       "    <tr>\n",
       "      <th>14</th>\n",
       "      <td>3251</td>\n",
       "      <td>times</td>\n",
       "    </tr>\n",
       "    <tr>\n",
       "      <th>8</th>\n",
       "      <td>3118</td>\n",
       "      <td>6</td>\n",
       "    </tr>\n",
       "    <tr>\n",
       "      <th>10</th>\n",
       "      <td>3068</td>\n",
       "      <td>8</td>\n",
       "    </tr>\n",
       "    <tr>\n",
       "      <th>9</th>\n",
       "      <td>2909</td>\n",
       "      <td>7</td>\n",
       "    </tr>\n",
       "    <tr>\n",
       "      <th>16</th>\n",
       "      <td>1558</td>\n",
       "      <td>v</td>\n",
       "    </tr>\n",
       "    <tr>\n",
       "      <th>15</th>\n",
       "      <td>1269</td>\n",
       "      <td>u</td>\n",
       "    </tr>\n",
       "    <tr>\n",
       "      <th>13</th>\n",
       "      <td>868</td>\n",
       "      <td>div</td>\n",
       "    </tr>\n",
       "    <tr>\n",
       "      <th>17</th>\n",
       "      <td>556</td>\n",
       "      <td>w</td>\n",
       "    </tr>\n",
       "  </tbody>\n",
       "</table>\n",
       "</div>"
      ],
      "text/plain": [
       "    Distribution Classes\n",
       "1          33997       -\n",
       "18         26594       X\n",
       "3          26520       1\n",
       "4          26141       2\n",
       "0          25112       +\n",
       "12         13104       =\n",
       "5          10909       3\n",
       "19          9340       y\n",
       "6           7396       4\n",
       "2           6914       0\n",
       "20          5870       z\n",
       "11          3737       9\n",
       "7           3545       5\n",
       "14          3251   times\n",
       "8           3118       6\n",
       "10          3068       8\n",
       "9           2909       7\n",
       "16          1558       v\n",
       "15          1269       u\n",
       "13           868     div\n",
       "17           556       w"
      ]
     },
     "execution_count": 34,
     "metadata": {},
     "output_type": "execute_result"
    }
   ],
   "source": [
    "df"
   ]
  },
  {
   "cell_type": "code",
   "execution_count": 39,
   "metadata": {},
   "outputs": [
    {
     "data": {
      "text/plain": [
       "1         -\n",
       "18        X\n",
       "3         1\n",
       "4         2\n",
       "0         +\n",
       "12        =\n",
       "5         3\n",
       "19        y\n",
       "6         4\n",
       "2         0\n",
       "20        z\n",
       "11        9\n",
       "7         5\n",
       "14    times\n",
       "8         6\n",
       "10        8\n",
       "9         7\n",
       "16        v\n",
       "15        u\n",
       "13      div\n",
       "17        w\n",
       "Name: Classes, dtype: object"
      ]
     },
     "execution_count": 39,
     "metadata": {},
     "output_type": "execute_result"
    }
   ],
   "source": [
    "df[\"Classes\"]"
   ]
  },
  {
   "cell_type": "code",
   "execution_count": 35,
   "metadata": {},
   "outputs": [
    {
     "data": {
      "image/png": "[encoded data removed]",
      "text/plain": [
       "<Figure size 1200x2100 with 1 Axes>"
      ]
     },
     "metadata": {},
     "output_type": "display_data"
    }
   ],
   "source": [
    "plt.figure(figsize=(12,21))\n",
    "ax = sns.barplot(y=\"Classes\", x=\"Distribution\", data=df)\n",
    "ax.bar_label(ax.containers[0])\n",
    "plt.show()"
   ]
  },
  {
   "cell_type": "code",
   "execution_count": 74,
   "metadata": {},
   "outputs": [],
   "source": [
    "next_X = 0\n",
    "next_Y = 2\n",
    "N = 3"
   ]
  },
  {
   "cell_type": "code",
   "execution_count": 76,
   "metadata": {},
   "outputs": [],
   "source": [
    "isWithinBounds = (next_X >= 0 and next_X <= N-1) and (next_Y >= 0 and next_Y <= N-1)"
   ]
  },
  {
   "cell_type": "code",
   "execution_count": 77,
   "metadata": {},
   "outputs": [
    {
     "data": {
      "text/plain": [
       "True"
      ]
     },
     "execution_count": 77,
     "metadata": {},
     "output_type": "execute_result"
    }
   ],
   "source": [
    "isWithinBounds"
   ]
  },
  {
   "cell_type": "code",
   "execution_count": 94,
   "metadata": {},
   "outputs": [
    {
     "name": "stdout",
     "output_type": "stream",
     "text": [
      "Next coords (1, 0), locations_table [[0, 0, 0, 0], [0, 0, 0, 0], [0, 0, 0, 0], [0, 0, 0, 0]]\n",
      "Next coords (2, 0), locations_table [[1, 0, 0, 0], [0, 0, 0, 0], [0, 0, 0, 0], [0, 0, 0, 0]]\n",
      "Next coords (3, 0), locations_table [[1, 0, 0, 0], [1, 0, 0, 0], [0, 0, 0, 0], [0, 0, 0, 0]]\n",
      "Next coords (2, -1), locations_table [[1, 0, 0, 0], [1, 0, 0, 0], [0, 0, 0, 0], [0, 0, 0, 0]]\n",
      "Next coords (2, 1), locations_table [[1, 0, 0, 0], [1, 0, 0, 0], [0, 0, 0, 0], [0, 0, 0, 0]]\n",
      "Next coords (3, 1), locations_table [[1, 0, 0, 0], [1, 0, 0, 0], [1, 0, 0, 0], [0, 0, 0, 0]]\n",
      "Next coords (4, 1), locations_table [[1, 0, 0, 0], [1, 0, 0, 0], [1, 1, 0, 0], [0, 0, 0, 0]]\n",
      "Next coords (3, 0), locations_table [[1, 0, 0, 0], [1, 0, 0, 0], [1, 1, 0, 0], [0, 0, 0, 0]]\n",
      "Next coords (3, 2), locations_table [[1, 0, 0, 0], [1, 0, 0, 0], [1, 1, 0, 0], [0, 0, 0, 0]]\n",
      "Next coords (4, 2), locations_table [[1, 0, 0, 0], [1, 0, 0, 0], [1, 1, 0, 0], [0, 1, 0, 0]]\n",
      "Next coords (3, 1), locations_table [[1, 0, 0, 0], [1, 0, 0, 0], [1, 1, 0, 0], [0, 1, 0, 0]]\n",
      "Next coords (3, 3), locations_table [[1, 0, 0, 0], [1, 0, 0, 0], [1, 1, 0, 0], [0, 1, 0, 0]]\n",
      "Found the path to the end DDRDRR, final result []\n",
      "Next coords (2, 2), locations_table [[1, 0, 0, 0], [1, 0, 0, 0], [1, 1, 0, 0], [0, 1, 0, 0]]\n",
      "Next coords (2, 1), locations_table [[1, 0, 0, 0], [1, 0, 0, 0], [1, 1, 0, 0], [0, 0, 0, 0]]\n",
      "Next coords (2, 0), locations_table [[1, 0, 0, 0], [1, 0, 0, 0], [1, 0, 0, 0], [0, 0, 0, 0]]\n",
      "Next coords (2, 2), locations_table [[1, 0, 0, 0], [1, 0, 0, 0], [1, 0, 0, 0], [0, 0, 0, 0]]\n",
      "Next coords (1, 1), locations_table [[1, 0, 0, 0], [1, 0, 0, 0], [1, 0, 0, 0], [0, 0, 0, 0]]\n",
      "Next coords (2, 1), locations_table [[1, 0, 0, 0], [1, 0, 0, 0], [1, 1, 0, 0], [0, 0, 0, 0]]\n",
      "Next coords (1, 0), locations_table [[1, 0, 0, 0], [1, 0, 0, 0], [1, 1, 0, 0], [0, 0, 0, 0]]\n",
      "Next coords (1, 2), locations_table [[1, 0, 0, 0], [1, 0, 0, 0], [1, 1, 0, 0], [0, 0, 0, 0]]\n",
      "Next coords (0, 1), locations_table [[1, 0, 0, 0], [1, 0, 0, 0], [1, 1, 0, 0], [0, 0, 0, 0]]\n",
      "Next coords (1, 0), locations_table [[1, 0, 0, 0], [1, 0, 0, 0], [0, 0, 0, 0], [0, 0, 0, 0]]\n",
      "Next coords (1, -1), locations_table [[1, 0, 0, 0], [0, 0, 0, 0], [0, 0, 0, 0], [0, 0, 0, 0]]\n",
      "Next coords (1, 1), locations_table [[1, 0, 0, 0], [0, 0, 0, 0], [0, 0, 0, 0], [0, 0, 0, 0]]\n",
      "Next coords (2, 1), locations_table [[1, 0, 0, 0], [1, 0, 0, 0], [0, 0, 0, 0], [0, 0, 0, 0]]\n",
      "Next coords (3, 1), locations_table [[1, 0, 0, 0], [1, 1, 0, 0], [0, 0, 0, 0], [0, 0, 0, 0]]\n",
      "Next coords (4, 1), locations_table [[1, 0, 0, 0], [1, 1, 0, 0], [0, 1, 0, 0], [0, 0, 0, 0]]\n",
      "Next coords (3, 0), locations_table [[1, 0, 0, 0], [1, 1, 0, 0], [0, 1, 0, 0], [0, 0, 0, 0]]\n",
      "Next coords (3, 2), locations_table [[1, 0, 0, 0], [1, 1, 0, 0], [0, 1, 0, 0], [0, 0, 0, 0]]\n",
      "Next coords (4, 2), locations_table [[1, 0, 0, 0], [1, 1, 0, 0], [0, 1, 0, 0], [0, 1, 0, 0]]\n",
      "Next coords (3, 1), locations_table [[1, 0, 0, 0], [1, 1, 0, 0], [0, 1, 0, 0], [0, 1, 0, 0]]\n",
      "Next coords (3, 3), locations_table [[1, 0, 0, 0], [1, 1, 0, 0], [0, 1, 0, 0], [0, 1, 0, 0]]\n",
      "Found the path to the end DRDDRR, final result ['DDRDRR']\n",
      "Next coords (2, 2), locations_table [[1, 0, 0, 0], [1, 1, 0, 0], [0, 1, 0, 0], [0, 1, 0, 0]]\n",
      "Next coords (2, 1), locations_table [[1, 0, 0, 0], [1, 1, 0, 0], [0, 1, 0, 0], [0, 0, 0, 0]]\n",
      "Next coords (2, 0), locations_table [[1, 0, 0, 0], [1, 1, 0, 0], [0, 0, 0, 0], [0, 0, 0, 0]]\n",
      "Next coords (3, 0), locations_table [[1, 0, 0, 0], [1, 1, 0, 0], [0, 1, 0, 0], [0, 0, 0, 0]]\n",
      "Next coords (2, -1), locations_table [[1, 0, 0, 0], [1, 1, 0, 0], [0, 1, 0, 0], [0, 0, 0, 0]]\n",
      "Next coords (2, 1), locations_table [[1, 0, 0, 0], [1, 1, 0, 0], [0, 1, 0, 0], [0, 0, 0, 0]]\n",
      "Next coords (1, 0), locations_table [[1, 0, 0, 0], [1, 1, 0, 0], [0, 1, 0, 0], [0, 0, 0, 0]]\n",
      "Next coords (2, 2), locations_table [[1, 0, 0, 0], [1, 1, 0, 0], [0, 0, 0, 0], [0, 0, 0, 0]]\n",
      "Next coords (1, 1), locations_table [[1, 0, 0, 0], [1, 1, 0, 0], [0, 0, 0, 0], [0, 0, 0, 0]]\n",
      "Next coords (1, 0), locations_table [[1, 0, 0, 0], [1, 0, 0, 0], [0, 0, 0, 0], [0, 0, 0, 0]]\n",
      "Next coords (1, 2), locations_table [[1, 0, 0, 0], [1, 0, 0, 0], [0, 0, 0, 0], [0, 0, 0, 0]]\n",
      "Next coords (0, 1), locations_table [[1, 0, 0, 0], [1, 0, 0, 0], [0, 0, 0, 0], [0, 0, 0, 0]]\n",
      "Next coords (0, 0), locations_table [[1, 0, 0, 0], [0, 0, 0, 0], [0, 0, 0, 0], [0, 0, 0, 0]]\n",
      "Next coords (0, -1), locations_table [[0, 0, 0, 0], [0, 0, 0, 0], [0, 0, 0, 0], [0, 0, 0, 0]]\n",
      "Next coords (0, 1), locations_table [[0, 0, 0, 0], [0, 0, 0, 0], [0, 0, 0, 0], [0, 0, 0, 0]]\n",
      "Next coords (-1, 0), locations_table [[0, 0, 0, 0], [0, 0, 0, 0], [0, 0, 0, 0], [0, 0, 0, 0]]\n",
      "DDRDRR DRDDRR \n"
     ]
    }
   ],
   "source": [
    "#User function Template for python3\n",
    "\n",
    "class Solution:\n",
    "    \n",
    "    def canMoveInDirection(self, matrix, current_coords, direction, locations_table, N):\n",
    "        # if matrix[direction] == 1 and locations_table[direction] != 1 and next cell is within bounds\n",
    "        \n",
    "        isWithinBounds = True\n",
    "        if direction == \"D\":\n",
    "            next_coords = (current_coords[0] + 1, current_coords[1])\n",
    "        elif direction == \"L\":\n",
    "            next_coords = (current_coords[0], current_coords[1] - 1)\n",
    "        elif direction == \"R\":\n",
    "            next_coords = (current_coords[0], current_coords[1] + 1)\n",
    "        else:\n",
    "            next_coords = (current_coords[0] - 1, current_coords[1])\n",
    "        \n",
    "        next_X, next_Y = next_coords\n",
    "        # print(f\"Next coords {next_coords}, locations_table {locations_table}\")\n",
    "        isWithinBounds = (next_X >= 0 and next_X <= N-1) and (next_Y >= 0 and next_Y <= N-1)\n",
    "        \n",
    "        return (isWithinBounds and (matrix[next_X][next_Y] == 1) and (locations_table[next_X][next_Y] == 0))\n",
    "    \n",
    "    \n",
    "    def solve(self, matrix, current_coords, locations_table, local_result, final_result, N):\n",
    "        if current_coords == (N-1, N-1):\n",
    "            # print(f\"Found the path to the end {local_result}, final result {final_result}\")\n",
    "            final_result.append(str(local_result))\n",
    "            return\n",
    "        \n",
    "        for direction in [\"D\",\"L\",\"R\",\"U\"]:\n",
    "            temp_result = local_result\n",
    "            \n",
    "            if self.canMoveInDirection(matrix, current_coords, direction, locations_table, N):\n",
    "                local_result += direction\n",
    "                locations_table[current_coords[0]][current_coords[1]] = 1\n",
    "                temp_coords = current_coords\n",
    "                \n",
    "                if direction == \"D\":\n",
    "                    current_coords = (current_coords[0] + 1, current_coords[1])\n",
    "                elif direction == \"L\":\n",
    "                    current_coords = (current_coords[0], current_coords[1] - 1)\n",
    "                elif direction == \"R\":\n",
    "                    current_coords = (current_coords[0], current_coords[1] + 1)\n",
    "                else:\n",
    "                    current_coords = (current_coords[0] - 1, current_coords[1])\n",
    "                    \n",
    "                self.solve(matrix, current_coords, locations_table, local_result, final_result, N)\n",
    "                \n",
    "                current_coords = temp_coords\n",
    "                # print(f\"current coords {current_coords}, locations_table\")\n",
    "                locations_table[current_coords[0]][current_coords[1]] = 0\n",
    "                \n",
    "            local_result = temp_result\n",
    "                \n",
    "        \n",
    "        \n",
    "    def findPath(self, m, n):\n",
    "        # code here\n",
    "        final_result = []\n",
    "        locations_table = []\n",
    "        for i in range(n):\n",
    "            locations_table.append([0]*n)\n",
    "        # print(locations_table[0][0])\n",
    "    \n",
    "        # print(m[0][1])\n",
    "        # self, matrix, current_coords, locations_table, local_result, final_result, N\n",
    "        self.solve(m, (0,0), locations_table, \"\", final_result, n)\n",
    "        \n",
    "        return final_result\n",
    "        \n",
    "\n",
    "\n",
    "#{ \n",
    " # Driver Code Starts\n",
    "#Initial Template for Python 3\n",
    "\n",
    "if __name__=='__main__':\n",
    "    t = 1\n",
    "    \n",
    "    for i in range(t):\n",
    "        n = [4]\n",
    "        arr = list(map(int, \"1 0 0 0 1 1 0 1 1 1 0 0 0 1 1 1\".strip().split()))\n",
    "        \n",
    "        matrix = [[0 for i in range(n[0])]for j in range(n[0])]\n",
    "        k=0\n",
    "        for i in range(n[0]):\n",
    "            for j in range(n[0]):\n",
    "                matrix[i][j] = arr[k]\n",
    "                k+=1\n",
    "        ob = Solution()\n",
    "        result = ob.findPath(matrix, n[0])\n",
    "        result.sort()\n",
    "        if len(result) == 0 :\n",
    "            print(-1)\n",
    "        else:\n",
    "            for x in result:\n",
    "                print(x,end = \" \")\n",
    "            print()\n",
    "# } Driver Code Ends"
   ]
  },
  {
   "cell_type": "code",
   "execution_count": 99,
   "metadata": {},
   "outputs": [
    {
     "data": {
      "text/plain": [
       "'12345678'"
      ]
     },
     "execution_count": 99,
     "metadata": {},
     "output_type": "execute_result"
    }
   ],
   "source": [
    "\"\".join([str(i) for i in list((range(1, 9)))])"
   ]
  },
  {
   "cell_type": "code",
   "execution_count": null,
   "metadata": {},
   "outputs": [],
   "source": []
  },
  {
   "cell_type": "code",
   "execution_count": null,
   "metadata": {},
   "outputs": [],
   "source": []
  },
  {
   "cell_type": "code",
   "execution_count": null,
   "metadata": {},
   "outputs": [],
   "source": []
  }
 ],
 "metadata": {
  "kernelspec": {
   "display_name": "pytorchlearning",
   "language": "python",
   "name": "python3"
  },
  "language_info": {
   "codemirror_mode": {
    "name": "ipython",
    "version": 3
   },
   "file_extension": ".py",
   "mimetype": "text/x-python",
   "name": "python",
   "nbconvert_exporter": "python",
   "pygments_lexer": "ipython3",
   "version": "3.10.11"
  }
 },
 "nbformat": 4,
 "nbformat_minor": 2
}
